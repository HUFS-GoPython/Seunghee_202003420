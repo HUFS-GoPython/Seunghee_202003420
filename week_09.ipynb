{
 "cells": [
  {
   "cell_type": "markdown",
   "metadata": {},
   "source": [
    "### append / count 보다 더 좋은 코드"
   ]
  },
  {
   "cell_type": "code",
   "execution_count": 1,
   "metadata": {},
   "outputs": [],
   "source": [
    "from collections import defaultdict"
   ]
  },
  {
   "cell_type": "markdown",
   "metadata": {},
   "source": [
    "##### defaultdict\n",
    "- 값이 없으면 0으로 설정될 수 있게 해주는 딕셔너리\n",
    "- dfaultdict(list)\n",
    "- []"
   ]
  },
  {
   "cell_type": "code",
   "execution_count": 6,
   "metadata": {},
   "outputs": [],
   "source": [
    "letter = 'defaultdict'\n",
    "empty = {}\n",
    "for ch in letter:\n",
    "    # if empty[ch]=0\n",
    "    # else 값을 넣어라\n",
    "    empty.setdefault(ch,0) #a가 없으면 기본값으로 0을 넣어라\n",
    "    empty[ch]+=1"
   ]
  },
  {
   "cell_type": "code",
   "execution_count": 7,
   "metadata": {},
   "outputs": [
    {
     "data": {
      "text/plain": [
       "{'d': 2, 'e': 1, 'f': 1, 'a': 1, 'u': 1, 'l': 1, 't': 2, 'i': 1, 'c': 1}"
      ]
     },
     "execution_count": 7,
     "metadata": {},
     "output_type": "execute_result"
    }
   ],
   "source": [
    "empty"
   ]
  },
  {
   "cell_type": "markdown",
   "metadata": {},
   "source": [
    "#### 위의 코드를 바꾸기"
   ]
  },
  {
   "cell_type": "code",
   "execution_count": 8,
   "metadata": {},
   "outputs": [
    {
     "data": {
      "text/plain": [
       "defaultdict(int,\n",
       "            {'d': 2,\n",
       "             'e': 1,\n",
       "             'f': 1,\n",
       "             'a': 1,\n",
       "             'u': 1,\n",
       "             'l': 1,\n",
       "             't': 2,\n",
       "             'i': 1,\n",
       "             'c': 1})"
      ]
     },
     "execution_count": 8,
     "metadata": {},
     "output_type": "execute_result"
    }
   ],
   "source": [
    "empty2 = defaultdict(int)\n",
    "for ch in letter:\n",
    "    empty2[ch] +=1\n",
    "empty2"
   ]
  },
  {
   "cell_type": "markdown",
   "metadata": {},
   "source": [
    "## `Object & Class`\n",
    "\n",
    "- 객체란 : 실제적인 물건 / 개념\n",
    "- 속성, 행동을 가지는 개념\n",
    "- 자동차\n",
    "    - 속성 : 엔진, 브랜드, 가격, 색상, 이름 .. => 변수\n",
    "    - 행동 : 나가다, 정지하다, 좌회전, 우회전 .. => 메서드(함수)\n",
    "- 고양이\n",
    "    - 속성 : 종, 이름, 색, 몸무게, 성별 ..\n",
    "    - 행동 : 뛰다, 걷다, 째려보다 ..\n",
    "- 사전\n",
    "    - 속성 : 글자 수, 시작 글자, 출현 빈도수 ..\n",
    "    - 행동 : 추가하다, 제외하다 ..\n",
    "- 관련 짓는 방법\n",
    "    - 사람 / 상점 / 물건\n",
    "    - 이름, 돈 / 재고, 이익, 고객명단 / 브랜드, 이름, 가격\n",
    "    - 사다 / 회원등록, 팔다, 수익계산\n",
    "- 객체 사용하는 이유 : 코드 재사용 수월\n",
    "\n",
    "### 클래스\n",
    "- 객체가 가져야 할 기본 정보를 다믄 코드\n",
    "- 설계도, 틀, 프레임워크\n",
    "- 붕어빵의 틀\n",
    "- 붕어빵 == 인스턴스\n",
    "- `class Car:`\n",
    "    - 클래스명은 카멜표기법을 따른다"
   ]
  },
  {
   "cell_type": "code",
   "execution_count": 11,
   "metadata": {},
   "outputs": [
    {
     "data": {
      "text/plain": [
       "<__main__.Car at 0x10e828100>"
      ]
     },
     "execution_count": 11,
     "metadata": {},
     "output_type": "execute_result"
    }
   ],
   "source": [
    "class Car:\n",
    "    pass\n",
    "\n",
    "car1 = Car() #car1은 인스턴스\n",
    "car1"
   ]
  },
  {
   "cell_type": "markdown",
   "metadata": {},
   "source": [
    "<__main__.Car at 0x10e828100>\n",
    "- main 에 있는 car 라는 객체"
   ]
  },
  {
   "cell_type": "code",
   "execution_count": 12,
   "metadata": {},
   "outputs": [
    {
     "data": {
      "text/plain": [
       "<__main__.Car at 0x10e8283d0>"
      ]
     },
     "execution_count": 12,
     "metadata": {},
     "output_type": "execute_result"
    }
   ],
   "source": [
    "car2 = Car()\n",
    "car2"
   ]
  },
  {
   "cell_type": "code",
   "execution_count": 14,
   "metadata": {},
   "outputs": [
    {
     "data": {
      "text/plain": [
       "__main__.Car"
      ]
     },
     "execution_count": 14,
     "metadata": {},
     "output_type": "execute_result"
    }
   ],
   "source": [
    "type(car2) #타입은 Car"
   ]
  },
  {
   "cell_type": "code",
   "execution_count": 19,
   "metadata": {},
   "outputs": [],
   "source": [
    "car1.brand = 'mercedes'\n",
    "car2.brand = 'kia'"
   ]
  },
  {
   "cell_type": "code",
   "execution_count": 20,
   "metadata": {},
   "outputs": [
    {
     "name": "stdout",
     "output_type": "stream",
     "text": [
      "mercedes\n",
      "kia\n"
     ]
    }
   ],
   "source": [
    "for car in [car1,car2]:\n",
    "    print(car.brand)"
   ]
  },
  {
   "cell_type": "code",
   "execution_count": 23,
   "metadata": {},
   "outputs": [
    {
     "data": {
      "text/plain": [
       "'mercedes'"
      ]
     },
     "execution_count": 23,
     "metadata": {},
     "output_type": "execute_result"
    }
   ],
   "source": [
    "class Car:\n",
    "    brand='mercedes'\n",
    "\n",
    "car3 = Car()\n",
    "car3.brand"
   ]
  },
  {
   "cell_type": "code",
   "execution_count": 31,
   "metadata": {},
   "outputs": [],
   "source": [
    "class Car:\n",
    "    def __init__(self,brand): #브랜드명 초기화\n",
    "        self.brand = brand #self 는 인스턴스를 의미"
   ]
  },
  {
   "cell_type": "code",
   "execution_count": 32,
   "metadata": {},
   "outputs": [
    {
     "data": {
      "text/plain": [
       "'toyota'"
      ]
     },
     "execution_count": 32,
     "metadata": {},
     "output_type": "execute_result"
    }
   ],
   "source": [
    "car4 = Car(brand='toyota')\n",
    "car4.brand"
   ]
  },
  {
   "cell_type": "code",
   "execution_count": 49,
   "metadata": {},
   "outputs": [],
   "source": [
    "# color,model 속성 초기화하기\n",
    "# 인스턴스 만들기\n",
    "class Car:\n",
    "    def __init__(self,brand,model,color):\n",
    "        self.brand = brand\n",
    "        self.color = color\n",
    "        self.model = model\n",
    "    #action 정의하기\n",
    "    def drive(self):\n",
    "        print(f\"{self.brand}이 움직인다\")\n",
    "\n",
    "    def stop(self):\n",
    "        print(\"차가 멈춘다\")\n",
    "\n",
    "    def change_color(self):\n",
    "        self.color = 'pink'\n",
    "\n",
    "car1 = Car(brand='hello',color='red',model='new')\n",
    "# 순서대로 넣어준다면 굳이 brand='' 와 같이 지정하지 않아도 됨"
   ]
  },
  {
   "cell_type": "code",
   "execution_count": 50,
   "metadata": {},
   "outputs": [],
   "source": [
    "my_morning = Car('kia','morning','black')\n",
    "my_morning.color = 'yellow'"
   ]
  },
  {
   "cell_type": "code",
   "execution_count": 51,
   "metadata": {},
   "outputs": [
    {
     "name": "stdout",
     "output_type": "stream",
     "text": [
      "kia이 움직인다\n"
     ]
    }
   ],
   "source": [
    "my_morning.drive()"
   ]
  },
  {
   "cell_type": "code",
   "execution_count": 52,
   "metadata": {},
   "outputs": [
    {
     "name": "stdout",
     "output_type": "stream",
     "text": [
      "차가 멈춘다\n"
     ]
    }
   ],
   "source": [
    "my_morning.stop()"
   ]
  },
  {
   "cell_type": "code",
   "execution_count": 58,
   "metadata": {},
   "outputs": [],
   "source": [
    "class Car:\n",
    "    #model 입력을 받지 않아도 되도록\n",
    "    #orange 를 기본값으로 갖도록\n",
    "    def __init__(self,brand,color='orange',model=None):\n",
    "        self.brand = brand\n",
    "        self.color = color\n",
    "        self.model = model\n",
    "\n",
    "    def change_color(self,to_color):\n",
    "        self.color = to_color\n",
    "\n",
    "    #action 정의하기\n",
    "    def drive(self):\n",
    "        print(f\"{self.brand}이 움직인다\")\n",
    "\n",
    "    def stop(self):\n",
    "        print(\"차가 멈춘다\")\n",
    "\n"
   ]
  },
  {
   "cell_type": "code",
   "execution_count": 59,
   "metadata": {},
   "outputs": [
    {
     "data": {
      "text/plain": [
       "'hello'"
      ]
     },
     "execution_count": 59,
     "metadata": {},
     "output_type": "execute_result"
    }
   ],
   "source": [
    "car1 = Car('new','hello','blue')\n",
    "car1.color"
   ]
  },
  {
   "cell_type": "code",
   "execution_count": 60,
   "metadata": {},
   "outputs": [
    {
     "data": {
      "text/plain": [
       "'pink'"
      ]
     },
     "execution_count": 60,
     "metadata": {},
     "output_type": "execute_result"
    }
   ],
   "source": [
    "car1.change_color('pink')\n",
    "car1.color"
   ]
  },
  {
   "cell_type": "markdown",
   "metadata": {},
   "source": [
    "### getter,setter"
   ]
  },
  {
   "cell_type": "code",
   "execution_count": 61,
   "metadata": {},
   "outputs": [],
   "source": [
    "#1. 틀에서 변수를 바꾸는 것\n",
    "#2. 인스턴스에서 변수를 바꾸는 것\n",
    "\n",
    "class Fruit:\n",
    "    color = 'red'"
   ]
  },
  {
   "cell_type": "code",
   "execution_count": 62,
   "metadata": {},
   "outputs": [
    {
     "data": {
      "text/plain": [
       "'red'"
      ]
     },
     "execution_count": 62,
     "metadata": {},
     "output_type": "execute_result"
    }
   ],
   "source": [
    "apple = Fruit()\n",
    "apple.color"
   ]
  },
  {
   "cell_type": "code",
   "execution_count": 63,
   "metadata": {},
   "outputs": [],
   "source": [
    "Fruit.color = 'purple'"
   ]
  },
  {
   "cell_type": "code",
   "execution_count": 67,
   "metadata": {},
   "outputs": [
    {
     "data": {
      "text/plain": [
       "'purple'"
      ]
     },
     "execution_count": 67,
     "metadata": {},
     "output_type": "execute_result"
    }
   ],
   "source": [
    "orange = Fruit()\n",
    "orange.color #틀 내에서 바꾼 변수가 적용이 안됨\n",
    "#코드 작성시에 오류가 날 가능성이 큼 => 정보를 숨겨야 함"
   ]
  },
  {
   "cell_type": "code",
   "execution_count": 68,
   "metadata": {},
   "outputs": [],
   "source": [
    "class Car:\n",
    "    def __init__(self,input_brand):\n",
    "        self.brand = input_brand\n",
    "    def get_brand(self): #이 함수를 통해서만 브랜드에 접근할 수 있도록\n",
    "        return self.brand\n",
    "    def set_brand(self,input_brand):\n",
    "        #변수명을 바꾸기\n",
    "        self.brand = input_brand"
   ]
  },
  {
   "cell_type": "code",
   "execution_count": 69,
   "metadata": {},
   "outputs": [
    {
     "data": {
      "text/plain": [
       "'toyota'"
      ]
     },
     "execution_count": 69,
     "metadata": {},
     "output_type": "execute_result"
    }
   ],
   "source": [
    "ex = Car('toyota')\n",
    "ex.brand"
   ]
  },
  {
   "cell_type": "code",
   "execution_count": 70,
   "metadata": {},
   "outputs": [
    {
     "data": {
      "text/plain": [
       "'toyota'"
      ]
     },
     "execution_count": 70,
     "metadata": {},
     "output_type": "execute_result"
    }
   ],
   "source": [
    "ex.get_brand()"
   ]
  },
  {
   "cell_type": "code",
   "execution_count": 71,
   "metadata": {},
   "outputs": [],
   "source": [
    "ex.set_brand('mazuda')"
   ]
  },
  {
   "cell_type": "code",
   "execution_count": 72,
   "metadata": {},
   "outputs": [
    {
     "data": {
      "text/plain": [
       "'mazuda'"
      ]
     },
     "execution_count": 72,
     "metadata": {},
     "output_type": "execute_result"
    }
   ],
   "source": [
    "ex.brand"
   ]
  },
  {
   "cell_type": "code",
   "execution_count": 76,
   "metadata": {},
   "outputs": [],
   "source": [
    "Car.brand='bmw'"
   ]
  },
  {
   "cell_type": "code",
   "execution_count": null,
   "metadata": {},
   "outputs": [],
   "source": [
    "a = Car('')"
   ]
  },
  {
   "cell_type": "markdown",
   "metadata": {},
   "source": [
    "#2."
   ]
  },
  {
   "cell_type": "code",
   "execution_count": 81,
   "metadata": {},
   "outputs": [],
   "source": [
    "class Car:\n",
    "    def __init__(self,input_brand):\n",
    "        self.hidden_brand = (input_brand)\n",
    "    def get_brand(self):\n",
    "        return self.hidden_brand\n",
    "    def set_brand(self,input_brand):\n",
    "        self.hidden_brand = input_brand\n",
    "\n",
    "    brand = property(get_brand,set_brand)\n"
   ]
  },
  {
   "cell_type": "markdown",
   "metadata": {},
   "source": [
    "#3"
   ]
  },
  {
   "cell_type": "code",
   "execution_count": 83,
   "metadata": {},
   "outputs": [
    {
     "data": {
      "text/plain": [
       "'aa'"
      ]
     },
     "execution_count": 83,
     "metadata": {},
     "output_type": "execute_result"
    }
   ],
   "source": [
    "#decorator : @\n",
    "class Car:\n",
    "    def __init__(self,input_brand):\n",
    "        self.hidden_brand = (input_brand)\n",
    "\n",
    "    @property\n",
    "    def brand(self):\n",
    "        return self.hidden_brand\n",
    "\n",
    "    @brand.setter\n",
    "    def brand(self,input_brand):\n",
    "        self.hidden_brand = (input_brand)\n",
    "\n",
    "c = Car('aa')\n",
    "c.brand"
   ]
  },
  {
   "cell_type": "markdown",
   "metadata": {},
   "source": [
    "#4."
   ]
  },
  {
   "cell_type": "code",
   "execution_count": 85,
   "metadata": {},
   "outputs": [],
   "source": [
    "class Car:\n",
    "    def __init__(self,input_brand):\n",
    "        self.brand = (input_brand)\n",
    "\n",
    "    @property\n",
    "    def brand(self):\n",
    "        return self.__brand\n",
    "\n",
    "    @brand.setter\n",
    "    def brand(self,input_brand):\n",
    "        self.__brand = input_brand"
   ]
  },
  {
   "cell_type": "code",
   "execution_count": 86,
   "metadata": {},
   "outputs": [
    {
     "ename": "AttributeError",
     "evalue": "'Car' object has no attribute '__brand'",
     "output_type": "error",
     "traceback": [
      "\u001b[0;31m---------------------------------------------------------------------------\u001b[0m",
      "\u001b[0;31mAttributeError\u001b[0m                            Traceback (most recent call last)",
      "\u001b[1;32m/Users/jinseunghui/Documents/3학년 1학기/고급파이썬프로그래밍/seungheejin_202003420/week_09.ipynb Cell 43'\u001b[0m in \u001b[0;36m<cell line: 2>\u001b[0;34m()\u001b[0m\n\u001b[1;32m      <a href='vscode-notebook-cell:/Users/jinseunghui/Documents/3%ED%95%99%EB%85%84%201%ED%95%99%EA%B8%B0/%EA%B3%A0%EA%B8%89%ED%8C%8C%EC%9D%B4%EC%8D%AC%ED%94%84%EB%A1%9C%EA%B7%B8%EB%9E%98%EB%B0%8D/seungheejin_202003420/week_09.ipynb#ch0000053?line=0'>1</a>\u001b[0m c \u001b[39m=\u001b[39m Car(\u001b[39m'\u001b[39m\u001b[39mbb\u001b[39m\u001b[39m'\u001b[39m)\n\u001b[0;32m----> <a href='vscode-notebook-cell:/Users/jinseunghui/Documents/3%ED%95%99%EB%85%84%201%ED%95%99%EA%B8%B0/%EA%B3%A0%EA%B8%89%ED%8C%8C%EC%9D%B4%EC%8D%AC%ED%94%84%EB%A1%9C%EA%B7%B8%EB%9E%98%EB%B0%8D/seungheejin_202003420/week_09.ipynb#ch0000053?line=1'>2</a>\u001b[0m c\u001b[39m.\u001b[39;49m__brand\n",
      "\u001b[0;31mAttributeError\u001b[0m: 'Car' object has no attribute '__brand'"
     ]
    }
   ],
   "source": [
    "c = Car('bb')\n",
    "c.__brand"
   ]
  },
  {
   "cell_type": "code",
   "execution_count": 87,
   "metadata": {},
   "outputs": [
    {
     "data": {
      "text/plain": [
       "'bb'"
      ]
     },
     "execution_count": 87,
     "metadata": {},
     "output_type": "execute_result"
    }
   ],
   "source": [
    "c.brand"
   ]
  },
  {
   "cell_type": "code",
   "execution_count": 91,
   "metadata": {},
   "outputs": [
    {
     "data": {
      "text/plain": [
       "14"
      ]
     },
     "execution_count": 91,
     "metadata": {},
     "output_type": "execute_result"
    }
   ],
   "source": [
    "class Circle:\n",
    "    def __init__(self,radius):\n",
    "        self.radius = radius\n",
    "    @property\n",
    "    def diameter(self):\n",
    "        return self.radius * 2\n",
    "\n",
    "c = Circle(7)\n",
    "c.diameter #7*2가 나옴"
   ]
  },
  {
   "cell_type": "markdown",
   "metadata": {},
   "source": [
    "### 추가\n",
    "- getter setter의 용도 : 어떤 조건 하에서만 입력을 받으려고 할 때 객체의 값을 변경하게 되면 조건에 어긋나도 객체가 생성되기 때문에"
   ]
  },
  {
   "cell_type": "code",
   "execution_count": 1,
   "metadata": {},
   "outputs": [],
   "source": [
    "class Student:\n",
    "\n",
    "  def __init__(self, name, age):\n",
    "    self._name = name\n",
    "    if age <= 10:\n",
    "      raise ValueError('11살 이상의 학생만 가능합니다')\n",
    "    self._age = age\n",
    "\n",
    "# 이렇게 클래스를 설정하고 객체의 값을 이후에 변경하면 변경이 됨 => 조건에 맞지 않는데도 생성이 되는 오류\n",
    "\n",
    "#아래와 같이 getter 와 setter를 설정하게 되면 조건에 맞지 않는다면 객첼르 생성하지 못하게 함.\n",
    "class Student:\n",
    "\n",
    "  def __init__(self, name, age):\n",
    "    self.__name = name\n",
    "    if age <= 10:\n",
    "      raise ValueError('11살 이상의 학생만 가능합니다')\n",
    "    self.__age = age\n",
    "\n",
    "  @property\n",
    "  def age(self):\n",
    "    return self.__age\n",
    "\n",
    "  @age.setter\n",
    "  def age(self, age):\n",
    "    if age <= 10:\n",
    "      raise ValueError('11살 이상의 학생만 가능합니다')\n",
    "    self.__age = age\n"
   ]
  },
  {
   "cell_type": "code",
   "execution_count": 2,
   "metadata": {},
   "outputs": [
    {
     "ename": "ValueError",
     "evalue": "11살 이상의 학생만 가능합니다",
     "output_type": "error",
     "traceback": [
      "\u001b[0;31m---------------------------------------------------------------------------\u001b[0m",
      "\u001b[0;31mValueError\u001b[0m                                Traceback (most recent call last)",
      "\u001b[1;32m/Users/jinseunghui/Documents/3학년 1학기/고급파이썬프로그래밍/seungheejin_202003420/week_09.ipynb Cell 48'\u001b[0m in \u001b[0;36m<cell line: 1>\u001b[0;34m()\u001b[0m\n\u001b[0;32m----> <a href='vscode-notebook-cell:/Users/jinseunghui/Documents/3%ED%95%99%EB%85%84%201%ED%95%99%EA%B8%B0/%EA%B3%A0%EA%B8%89%ED%8C%8C%EC%9D%B4%EC%8D%AC%ED%94%84%EB%A1%9C%EA%B7%B8%EB%9E%98%EB%B0%8D/seungheejin_202003420/week_09.ipynb#ch0000051?line=0'>1</a>\u001b[0m student \u001b[39m=\u001b[39m Student(\u001b[39m\"\u001b[39;49m\u001b[39m진승희\u001b[39;49m\u001b[39m\"\u001b[39;49m,\u001b[39m10\u001b[39;49m)\n",
      "\u001b[1;32m/Users/jinseunghui/Documents/3학년 1학기/고급파이썬프로그래밍/seungheejin_202003420/week_09.ipynb Cell 47'\u001b[0m in \u001b[0;36mStudent.__init__\u001b[0;34m(self, name, age)\u001b[0m\n\u001b[1;32m     <a href='vscode-notebook-cell:/Users/jinseunghui/Documents/3%ED%95%99%EB%85%84%201%ED%95%99%EA%B8%B0/%EA%B3%A0%EA%B8%89%ED%8C%8C%EC%9D%B4%EC%8D%AC%ED%94%84%EB%A1%9C%EA%B7%B8%EB%9E%98%EB%B0%8D/seungheejin_202003420/week_09.ipynb#ch0000050?line=14'>15</a>\u001b[0m \u001b[39mself\u001b[39m\u001b[39m.\u001b[39m__name \u001b[39m=\u001b[39m name\n\u001b[1;32m     <a href='vscode-notebook-cell:/Users/jinseunghui/Documents/3%ED%95%99%EB%85%84%201%ED%95%99%EA%B8%B0/%EA%B3%A0%EA%B8%89%ED%8C%8C%EC%9D%B4%EC%8D%AC%ED%94%84%EB%A1%9C%EA%B7%B8%EB%9E%98%EB%B0%8D/seungheejin_202003420/week_09.ipynb#ch0000050?line=15'>16</a>\u001b[0m \u001b[39mif\u001b[39;00m age \u001b[39m<\u001b[39m\u001b[39m=\u001b[39m \u001b[39m10\u001b[39m:\n\u001b[0;32m---> <a href='vscode-notebook-cell:/Users/jinseunghui/Documents/3%ED%95%99%EB%85%84%201%ED%95%99%EA%B8%B0/%EA%B3%A0%EA%B8%89%ED%8C%8C%EC%9D%B4%EC%8D%AC%ED%94%84%EB%A1%9C%EA%B7%B8%EB%9E%98%EB%B0%8D/seungheejin_202003420/week_09.ipynb#ch0000050?line=16'>17</a>\u001b[0m   \u001b[39mraise\u001b[39;00m \u001b[39mValueError\u001b[39;00m(\u001b[39m'\u001b[39m\u001b[39m11살 이상의 학생만 가능합니다\u001b[39m\u001b[39m'\u001b[39m)\n\u001b[1;32m     <a href='vscode-notebook-cell:/Users/jinseunghui/Documents/3%ED%95%99%EB%85%84%201%ED%95%99%EA%B8%B0/%EA%B3%A0%EA%B8%89%ED%8C%8C%EC%9D%B4%EC%8D%AC%ED%94%84%EB%A1%9C%EA%B7%B8%EB%9E%98%EB%B0%8D/seungheejin_202003420/week_09.ipynb#ch0000050?line=17'>18</a>\u001b[0m \u001b[39mself\u001b[39m\u001b[39m.\u001b[39m__age \u001b[39m=\u001b[39m age\n",
      "\u001b[0;31mValueError\u001b[0m: 11살 이상의 학생만 가능합니다"
     ]
    }
   ],
   "source": [
    "student = Student(\"진승희\",10) #오류"
   ]
  },
  {
   "cell_type": "code",
   "execution_count": 3,
   "metadata": {},
   "outputs": [],
   "source": [
    "student = Student(\"진승희\",12) # 통과"
   ]
  },
  {
   "cell_type": "code",
   "execution_count": 4,
   "metadata": {},
   "outputs": [
    {
     "ename": "ValueError",
     "evalue": "11살 이상의 학생만 가능합니다",
     "output_type": "error",
     "traceback": [
      "\u001b[0;31m---------------------------------------------------------------------------\u001b[0m",
      "\u001b[0;31mValueError\u001b[0m                                Traceback (most recent call last)",
      "\u001b[1;32m/Users/jinseunghui/Documents/3학년 1학기/고급파이썬프로그래밍/seungheejin_202003420/week_09.ipynb Cell 50'\u001b[0m in \u001b[0;36m<cell line: 2>\u001b[0;34m()\u001b[0m\n\u001b[1;32m      <a href='vscode-notebook-cell:/Users/jinseunghui/Documents/3%ED%95%99%EB%85%84%201%ED%95%99%EA%B8%B0/%EA%B3%A0%EA%B8%89%ED%8C%8C%EC%9D%B4%EC%8D%AC%ED%94%84%EB%A1%9C%EA%B7%B8%EB%9E%98%EB%B0%8D/seungheejin_202003420/week_09.ipynb#ch0000053?line=0'>1</a>\u001b[0m \u001b[39m# 이후에 값 변경\u001b[39;00m\n\u001b[0;32m----> <a href='vscode-notebook-cell:/Users/jinseunghui/Documents/3%ED%95%99%EB%85%84%201%ED%95%99%EA%B8%B0/%EA%B3%A0%EA%B8%89%ED%8C%8C%EC%9D%B4%EC%8D%AC%ED%94%84%EB%A1%9C%EA%B7%B8%EB%9E%98%EB%B0%8D/seungheejin_202003420/week_09.ipynb#ch0000053?line=1'>2</a>\u001b[0m student\u001b[39m.\u001b[39mage \u001b[39m=\u001b[39m \u001b[39m10\u001b[39m\n",
      "\u001b[1;32m/Users/jinseunghui/Documents/3학년 1학기/고급파이썬프로그래밍/seungheejin_202003420/week_09.ipynb Cell 47'\u001b[0m in \u001b[0;36mStudent.age\u001b[0;34m(self, age)\u001b[0m\n\u001b[1;32m     <a href='vscode-notebook-cell:/Users/jinseunghui/Documents/3%ED%95%99%EB%85%84%201%ED%95%99%EA%B8%B0/%EA%B3%A0%EA%B8%89%ED%8C%8C%EC%9D%B4%EC%8D%AC%ED%94%84%EB%A1%9C%EA%B7%B8%EB%9E%98%EB%B0%8D/seungheejin_202003420/week_09.ipynb#ch0000050?line=23'>24</a>\u001b[0m \u001b[39m@age\u001b[39m\u001b[39m.\u001b[39msetter\n\u001b[1;32m     <a href='vscode-notebook-cell:/Users/jinseunghui/Documents/3%ED%95%99%EB%85%84%201%ED%95%99%EA%B8%B0/%EA%B3%A0%EA%B8%89%ED%8C%8C%EC%9D%B4%EC%8D%AC%ED%94%84%EB%A1%9C%EA%B7%B8%EB%9E%98%EB%B0%8D/seungheejin_202003420/week_09.ipynb#ch0000050?line=24'>25</a>\u001b[0m \u001b[39mdef\u001b[39;00m \u001b[39mage\u001b[39m(\u001b[39mself\u001b[39m, age):\n\u001b[1;32m     <a href='vscode-notebook-cell:/Users/jinseunghui/Documents/3%ED%95%99%EB%85%84%201%ED%95%99%EA%B8%B0/%EA%B3%A0%EA%B8%89%ED%8C%8C%EC%9D%B4%EC%8D%AC%ED%94%84%EB%A1%9C%EA%B7%B8%EB%9E%98%EB%B0%8D/seungheejin_202003420/week_09.ipynb#ch0000050?line=25'>26</a>\u001b[0m   \u001b[39mif\u001b[39;00m age \u001b[39m<\u001b[39m\u001b[39m=\u001b[39m \u001b[39m10\u001b[39m:\n\u001b[0;32m---> <a href='vscode-notebook-cell:/Users/jinseunghui/Documents/3%ED%95%99%EB%85%84%201%ED%95%99%EA%B8%B0/%EA%B3%A0%EA%B8%89%ED%8C%8C%EC%9D%B4%EC%8D%AC%ED%94%84%EB%A1%9C%EA%B7%B8%EB%9E%98%EB%B0%8D/seungheejin_202003420/week_09.ipynb#ch0000050?line=26'>27</a>\u001b[0m     \u001b[39mraise\u001b[39;00m \u001b[39mValueError\u001b[39;00m(\u001b[39m'\u001b[39m\u001b[39m11살 이상의 학생만 가능합니다\u001b[39m\u001b[39m'\u001b[39m)\n\u001b[1;32m     <a href='vscode-notebook-cell:/Users/jinseunghui/Documents/3%ED%95%99%EB%85%84%201%ED%95%99%EA%B8%B0/%EA%B3%A0%EA%B8%89%ED%8C%8C%EC%9D%B4%EC%8D%AC%ED%94%84%EB%A1%9C%EA%B7%B8%EB%9E%98%EB%B0%8D/seungheejin_202003420/week_09.ipynb#ch0000050?line=27'>28</a>\u001b[0m   \u001b[39mself\u001b[39m\u001b[39m.\u001b[39m__age \u001b[39m=\u001b[39m age\n",
      "\u001b[0;31mValueError\u001b[0m: 11살 이상의 학생만 가능합니다"
     ]
    }
   ],
   "source": [
    "# 이후에 값 변경\n",
    "student.age = 10 #setter 가 동작해서 오류남"
   ]
  },
  {
   "cell_type": "markdown",
   "metadata": {},
   "source": [
    "### 실습\n",
    "- 객체 : 메모장, 메모\n",
    "- 변수 : 제목, 페이지 번호, 메모 / 글귀\n",
    "- 메서드 : 추가, 삭제, 페이지번호 / 쓰기, 지우기\n",
    "\n",
    "<br><br>\n",
    "- getter setter 메모장 제목에 설정하기\n",
    "- '메모'객체에 글귀를 추가한다\n",
    "- 메모장 객체에 이를 넣는다\n",
    "- 페이지번호가 늘어난다.\n",
    "- 삭제하면 페이지 번호가 줄어든다.\n",
    "- 페이지가 300을 넘으면 메모 추가 못함\n",
    "- 페이지번호로 메모 찾기"
   ]
  },
  {
   "cell_type": "markdown",
   "metadata": {},
   "source": [
    "실패한 코드 "
   ]
  },
  {
   "cell_type": "code",
   "execution_count": 15,
   "metadata": {},
   "outputs": [],
   "source": [
    "#메모\n",
    "class Memo:\n",
    "    def __init__(self,content):\n",
    "        self.content = content\n",
    "\n",
    "    def delete_content(self):\n",
    "        self.content=None\n",
    "\n",
    "    def add_content(self,content):\n",
    "        self.content = content\n",
    "\n",
    "#메모장\n",
    "class Memopad:\n",
    "    def __init__(self,head,title,page,memo=None):\n",
    "        self.memo = memo\n",
    "        self.title = title\n",
    "        self.head = head\n",
    "        self.next = None\n",
    "        self.page = page\n",
    "\n",
    "    @property\n",
    "    def title(self):\n",
    "        return self.__title\n",
    "\n",
    "    @title.setter\n",
    "    def title(self,title):\n",
    "        self.__title = title\n",
    "\n",
    "    def add_memo(self,memo):\n",
    "        if self.page >= 300:\n",
    "            raise ValueError('300페이지가 넘어 더 이상 메모를 저장할 수 없습니다.')\n",
    "\n",
    "        #300페이지가 넘지 않았다면\n",
    "        self.page +=1\n",
    "        node = self.head\n",
    "        if node == None:\n",
    "            node = Memopad(self.head,self.title,self.page,memo)\n",
    "        else:\n",
    "            while node.next:\n",
    "                node = node.next\n",
    "            node.next = Memopad(self.head,self.title,self.page,memo)\n",
    "\n",
    "    def delete_memo(self,delete_page):\n",
    "        cnt=0\n",
    "        node = self.head\n",
    "        while cnt!=delete_page:\n",
    "            prev = node\n",
    "            node = node.next\n",
    "            cnt+=1\n",
    "        prev.next = node.next\n",
    "\n",
    "    def find_memo(self,find_page):\n",
    "        cnt=0\n",
    "        node = self.head\n",
    "        if node.next==None:\n",
    "            node = self.head\n",
    "        else:\n",
    "            while cnt!=find_page:\n",
    "                node = node.next\n",
    "                cnt+=1\n",
    "            print(node.title)\n",
    "            print(node.memo.content)\n",
    "        return node\n"
   ]
  },
  {
   "cell_type": "markdown",
   "metadata": {},
   "source": [
    "성공한 코드"
   ]
  },
  {
   "cell_type": "code",
   "execution_count": 73,
   "metadata": {},
   "outputs": [],
   "source": [
    "# 다시...\n",
    "class Notebook:\n",
    "    def __init__(self, title, page_num = 0, memo = [0]):\n",
    "        self.page_num = page_num\n",
    "        self.__title = title\n",
    "        self.memo = memo\n",
    "\n",
    "    @property\n",
    "    def title(self):\n",
    "        return self.__title\n",
    "\n",
    "    @title.setter\n",
    "    def title(self, title):\n",
    "        self.__title = title\n",
    "\n",
    "    def add_note(self, note):\n",
    "        if self.page_num >= 300:\n",
    "            raise ValueError(\"페이지가 300쪽이 넘어 더 이상 추가할 수 없습니다.\")\n",
    "        else:\n",
    "            self.memo.append(note)\n",
    "            self.page_num += 1\n",
    "\n",
    "    def get_note(self):\n",
    "        for i in range(1,len(self.memo)):\n",
    "            print(self.memo[i].memo)\n",
    "\n",
    "    def find_note(self,page):\n",
    "        return self.memo[page]\n",
    "\n",
    "    def delete_note(self, page):\n",
    "        self.memo.remove(self.memo[page])\n",
    "        self.page_num -= 1\n",
    "\n",
    "    def get_page_num(self):\n",
    "        return self.page_num\n",
    "\n",
    "\n",
    "class Note:\n",
    "    def __init__(self, memo):\n",
    "        self.memo = memo\n",
    "\n",
    "    def delete(self):\n",
    "        self.memo=\"\"\n",
    "\n",
    "    def write(self, notes):\n",
    "        self.memo+=(\" \"+notes)\n"
   ]
  },
  {
   "cell_type": "code",
   "execution_count": 87,
   "metadata": {},
   "outputs": [
    {
     "name": "stdout",
     "output_type": "stream",
     "text": [
      "웃음이 없는 하루는 버린 하루다\n",
      "웃음이 없는 하루는 버린 하루다 그래서 짜증을 내면 안된다.\n",
      "웃음이 없는 하루는 버린 하루다 그래서 짜증을 내면 안된다.\n",
      "웃음이 없는 하루는 버린 하루다 그래서 짜증을 내면 안된다.\n"
     ]
    }
   ],
   "source": [
    "memo1 = Note('꿈을 이루고자 하는 용기만 있다면 모든 꿈을 이룰 수 있다')\n",
    "memo1.write(\"파이팅!\")\n",
    "memo2 = Note('웃음이 없는 하루는 버린 하루다')\n",
    "memo3 = Note('승리는 가장 끈기 있는 사람에게 돌아간다')\n",
    "\n",
    "\n",
    "notebook=Notebook(\"내 메모장\",memo=[0]) #초기화\n",
    "\n",
    "notebook.add_note(memo1)\n",
    "\n",
    "\n",
    "notebook.delete_note(1)\n",
    "notebook.get_note()\n",
    "notebook.get_page_num()\n",
    "notebook.add_note(memo2)\n",
    "notebook.get_note()\n",
    "memo2.write(\"그래서 짜증을 내면 안된다.\")\n",
    "notebook.add_note(memo2)\n",
    "notebook.get_note()\n",
    "notebook.delete_note(2)\n"
   ]
  }
 ],
 "metadata": {
  "interpreter": {
   "hash": "aee8b7b246df8f9039afb4144a1f6fd8d2ca17a180786b69acc140d282b71a49"
  },
  "kernelspec": {
   "display_name": "Python 3.10.4 64-bit",
   "language": "python",
   "name": "python3"
  },
  "language_info": {
   "codemirror_mode": {
    "name": "ipython",
    "version": 3
   },
   "file_extension": ".py",
   "mimetype": "text/x-python",
   "name": "python",
   "nbconvert_exporter": "python",
   "pygments_lexer": "ipython3",
   "version": "3.10.4"
  },
  "orig_nbformat": 4
 },
 "nbformat": 4,
 "nbformat_minor": 2
}
