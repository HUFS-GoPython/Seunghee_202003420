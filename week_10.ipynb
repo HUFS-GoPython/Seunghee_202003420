{
 "cells": [
  {
   "cell_type": "markdown",
   "metadata": {},
   "source": [
    "### 상속 | inheritance\n",
    "- 이전 클래스의 내용을 추가, 변경해야 할 경우\n",
    "- 코드 재사용에 유용\n",
    "- 기준 : super,base,parent,vehicle, 부모\n",
    "- 상속 받는 클래스 : child, sub, derived, 자식\n",
    "- Vehicle <- Car\n",
    "    - 부모 클래스를 자식 클래스가 구체화시킨다\n",
    "    - Car is-a-Vehicle => 더 유의해야 하는 상황!\n",
    "    - has-a : Notebook has-a-Note"
   ]
  },
  {
   "cell_type": "code",
   "execution_count": 1,
   "metadata": {},
   "outputs": [],
   "source": [
    "class Vehicle:\n",
    "    def __init__(self,speed):\n",
    "        self.speed = speed\n",
    "    def go(self):\n",
    "        print(f\"{self.speed}의 속력으로 달린다.\")\n",
    "\n",
    "class Car(Vehicle):\n",
    "    pass"
   ]
  },
  {
   "cell_type": "code",
   "execution_count": 2,
   "metadata": {},
   "outputs": [],
   "source": [
    "car = Car(\"15km/h\")"
   ]
  },
  {
   "cell_type": "code",
   "execution_count": 3,
   "metadata": {},
   "outputs": [
    {
     "name": "stdout",
     "output_type": "stream",
     "text": [
      "15km/h의 속력으로 달린다.\n"
     ]
    }
   ],
   "source": [
    "car.go()"
   ]
  },
  {
   "cell_type": "markdown",
   "metadata": {},
   "source": [
    "### 추가, 변경\n",
    "- 속성(변수)"
   ]
  },
  {
   "cell_type": "code",
   "execution_count": 4,
   "metadata": {},
   "outputs": [],
   "source": [
    "class Car(Vehicle):\n",
    "    def __init__(self,speed,brand):\n",
    "        # self.speed = speed\n",
    "        super().__init__(speed) #speed 는 부모에게서 가져옴\n",
    "        self.brand = brand #brand 는 자식에서"
   ]
  },
  {
   "cell_type": "code",
   "execution_count": 5,
   "metadata": {},
   "outputs": [
    {
     "data": {
      "text/plain": [
       "'14km/h'"
      ]
     },
     "execution_count": 5,
     "metadata": {},
     "output_type": "execute_result"
    }
   ],
   "source": [
    "car2 = Car(\"14km/h\",'kia')\n",
    "car2.speed"
   ]
  },
  {
   "cell_type": "markdown",
   "metadata": {},
   "source": [
    "- 메소드 변경 => 오버라이드(override), 재정의"
   ]
  },
  {
   "cell_type": "code",
   "execution_count": 8,
   "metadata": {},
   "outputs": [],
   "source": [
    "class Car(Vehicle):\n",
    "    def __init__(self,speed,brand):\n",
    "        # self.speed = speed\n",
    "        super().__init__(speed) #speed 는 부모에게서 가져옴\n",
    "        self.brand = brand #brand 는 자식에서\n",
    "\n",
    "    def go(self):\n",
    "        super().go()\n",
    "        print(f\"차종은 {self.brand}\")\n",
    "\n",
    "    def stop(self):\n",
    "        print(\"차가 멈춘다\")"
   ]
  },
  {
   "cell_type": "code",
   "execution_count": 9,
   "metadata": {},
   "outputs": [
    {
     "name": "stdout",
     "output_type": "stream",
     "text": [
      "15km/h의 속력으로 달린다.\n",
      "차종은 kia\n"
     ]
    }
   ],
   "source": [
    "car3 = Car(\"15km/h\",'kia')\n",
    "car3.go()"
   ]
  },
  {
   "cell_type": "code",
   "execution_count": 11,
   "metadata": {},
   "outputs": [],
   "source": [
    "class Person:\n",
    "    def __init__(self,name):\n",
    "        self.name = name\n",
    "\n",
    "class Doctor(Person):\n",
    "    def __init__(self,name):\n",
    "        self.name = super().__init__(\"Dr. \"+name)\n",
    "\n",
    "class Male:\n",
    "    def __init__(self,name):\n",
    "        self.name = super().__init__(\"Mr. \"+name)\n",
    "class Female:\n",
    "    def __init__(self,name):\n",
    "        self.name = super().__init__(\"Mrs. \"+name)"
   ]
  },
  {
   "cell_type": "markdown",
   "metadata": {},
   "source": [
    "### 다중 상속\n",
    "- method resolution order(MRO)\n",
    "- Animal <- Horse <- Donkey <- Mule(Donkey의 성격이 더 강함) / Hinny(Horse의 성격이 더 강함)"
   ]
  },
  {
   "cell_type": "code",
   "execution_count": 12,
   "metadata": {},
   "outputs": [],
   "source": [
    "class Animal:\n",
    "    def says(self):\n",
    "        return \"동물이 운다\"\n",
    "\n",
    "# -         -        - - - - child\n",
    "\n",
    "class Horse(Animal):\n",
    "    def says(self):\n",
    "        return \"히히힝\"\n",
    "\n",
    "class Donkey(Animal):\n",
    "    def says(self):\n",
    "        return \"히히호\"\n",
    "\n",
    "# -         -        - - - - grandchild\n",
    "\n",
    "#먼저 쓰인 부모가 더 가깝다\n",
    "class Mule(Donkey,Horse):\n",
    "    pass\n",
    "\n",
    "class Hinny(Horse,Donkey):\n",
    "    pass"
   ]
  },
  {
   "cell_type": "code",
   "execution_count": 17,
   "metadata": {},
   "outputs": [
    {
     "data": {
      "text/plain": [
       "'히히호'"
      ]
     },
     "execution_count": 17,
     "metadata": {},
     "output_type": "execute_result"
    }
   ],
   "source": [
    "Mule().says()"
   ]
  },
  {
   "cell_type": "code",
   "execution_count": 16,
   "metadata": {},
   "outputs": [
    {
     "data": {
      "text/plain": [
       "'히히힝'"
      ]
     },
     "execution_count": 16,
     "metadata": {},
     "output_type": "execute_result"
    }
   ],
   "source": [
    "Hinny().says()"
   ]
  },
  {
   "cell_type": "code",
   "execution_count": 18,
   "metadata": {},
   "outputs": [
    {
     "data": {
      "text/plain": [
       "[__main__.Mule, __main__.Donkey, __main__.Horse, __main__.Animal, object]"
      ]
     },
     "execution_count": 18,
     "metadata": {},
     "output_type": "execute_result"
    }
   ],
   "source": [
    "Mule.mro() #가까운 순서대로 출력됨"
   ]
  },
  {
   "cell_type": "markdown",
   "metadata": {},
   "source": [
    "### 다형성 duck typing\n",
    "- 같은 모양의 코드가 다른 동작을 할 수 있는 것 => 유지보수에 good"
   ]
  },
  {
   "cell_type": "code",
   "execution_count": 19,
   "metadata": {},
   "outputs": [
    {
     "name": "stdout",
     "output_type": "stream",
     "text": [
      "동물이 운다\n",
      "히히힝\n",
      "히히호\n"
     ]
    }
   ],
   "source": [
    "for animal in [Animal(),Horse(),Mule()]: #각각을 돌면서 기능을 할 수 있다 => 다형성\n",
    "    print(animal.says())"
   ]
  },
  {
   "cell_type": "markdown",
   "metadata": {},
   "source": [
    "### 메서드\n",
    "- 인스턴스 메서드\n",
    "    - 첫번째 인수가 self 인 메서드\n",
    "    - 우리가 지금까지 배운 메서드\n",
    "    - 객체 생성 => 사용 가능"
   ]
  },
  {
   "cell_type": "code",
   "execution_count": 20,
   "metadata": {},
   "outputs": [
    {
     "data": {
      "text/plain": [
       "'히히힝'"
      ]
     },
     "execution_count": 20,
     "metadata": {},
     "output_type": "execute_result"
    }
   ],
   "source": [
    "h = Hinny() #객체 생성\n",
    "h.says() #인스턴스메서드"
   ]
  },
  {
   "cell_type": "markdown",
   "metadata": {},
   "source": [
    "- 클래스 메서드\n",
    "    - 인스턴스와 연관 없음.\n",
    "    - 객체마다 달라지지 않음\n",
    "    - 모든 객체가 공유하는 변수, 메소드"
   ]
  },
  {
   "cell_type": "code",
   "execution_count": 21,
   "metadata": {},
   "outputs": [],
   "source": [
    "class A:\n",
    "    cnt=0\n",
    "    @classmethod\n",
    "    def move(cls): #self,super(),cls\n",
    "        print(cls.cnt)"
   ]
  },
  {
   "cell_type": "code",
   "execution_count": 22,
   "metadata": {},
   "outputs": [
    {
     "name": "stdout",
     "output_type": "stream",
     "text": [
      "0\n"
     ]
    }
   ],
   "source": [
    "A().move()"
   ]
  },
  {
   "cell_type": "code",
   "execution_count": 35,
   "metadata": {},
   "outputs": [],
   "source": [
    "class B:\n",
    "    cnt=0\n",
    "    def __init__(self):\n",
    "        B.cnt+=1\n",
    "\n",
    "    @classmethod\n",
    "    def count(cls): #객체가 생성될 때마다 횟수 증가해서 프린트하기\n",
    "        print(cls.cnt)"
   ]
  },
  {
   "cell_type": "code",
   "execution_count": 31,
   "metadata": {},
   "outputs": [],
   "source": [
    "b_2 = B()"
   ]
  },
  {
   "cell_type": "code",
   "execution_count": 33,
   "metadata": {},
   "outputs": [],
   "source": [
    "b_3 = B()"
   ]
  },
  {
   "cell_type": "code",
   "execution_count": 34,
   "metadata": {},
   "outputs": [
    {
     "name": "stdout",
     "output_type": "stream",
     "text": [
      "2\n"
     ]
    }
   ],
   "source": [
    "b_2.count()"
   ]
  },
  {
   "cell_type": "code",
   "execution_count": 37,
   "metadata": {},
   "outputs": [],
   "source": [
    "class Person:\n",
    "    def __init__(self,name,age):\n",
    "        self.name = name\n",
    "        self.age = age\n",
    "\n",
    "    @classmethod\n",
    "    def tuple_object(cls,args):\n",
    "        return cls(args[0],args[1])"
   ]
  },
  {
   "cell_type": "code",
   "execution_count": 38,
   "metadata": {},
   "outputs": [],
   "source": [
    "name = 'hong'\n",
    "age = 24\n",
    "p = Person(name,age)\n",
    "info = name,age\n",
    "p = Person.tuple_object(info) #괄호가 없음. 객체 생성하지 않고 메서드에 접근."
   ]
  },
  {
   "cell_type": "code",
   "execution_count": 40,
   "metadata": {},
   "outputs": [
    {
     "data": {
      "text/plain": [
       "('hong', 24)"
      ]
     },
     "execution_count": 40,
     "metadata": {},
     "output_type": "execute_result"
    }
   ],
   "source": [
    "p.name, p.age"
   ]
  },
  {
   "cell_type": "markdown",
   "metadata": {},
   "source": [
    "- 정적 메서드\n",
    "    - 객체를 사용하지 않음\n",
    "    - self 를 넣지 않아도 됨\n",
    "    - 객체를 생성하지 않고도 쓸 수 있음"
   ]
  },
  {
   "cell_type": "code",
   "execution_count": 41,
   "metadata": {},
   "outputs": [],
   "source": [
    "class Coyote:\n",
    "    @staticmethod\n",
    "    def says(): #self 를 쓰지 않는다\n",
    "        return \"hi\""
   ]
  },
  {
   "cell_type": "code",
   "execution_count": 43,
   "metadata": {},
   "outputs": [
    {
     "data": {
      "text/plain": [
       "'hi'"
      ]
     },
     "execution_count": 43,
     "metadata": {},
     "output_type": "execute_result"
    }
   ],
   "source": [
    "Coyote.says() #() 괄호 없이 가능하다!"
   ]
  },
  {
   "cell_type": "markdown",
   "metadata": {},
   "source": [
    "- 추상 메서드\n",
    "    - 청사진의 느낌!\n",
    "    - 개괄적으로 어떤 틀인지 정해놓는 것\n",
    "    - 상속받는 클래스가 이를 구체화한다"
   ]
  },
  {
   "cell_type": "code",
   "execution_count": 47,
   "metadata": {},
   "outputs": [],
   "source": [
    "from abc import *\n",
    "\n",
    "class Vehicle(metaclass=ABCMeta): #추상클래스\n",
    "    speed='속도'\n",
    "\n",
    "    #자식 클래스가 오버라이드하는 메서드 정의, 구체화하지 않음\n",
    "    @abstractmethod\n",
    "    def drive(self):\n",
    "        print(\"교통수단에 관하여\")\n",
    "\n",
    "    def stop(self):\n",
    "        pass\n",
    "\n",
    "    def park(self):\n",
    "        pass\n",
    "\n",
    "class Car(Vehicle):\n",
    "    def drive(self):\n",
    "        return super().speed"
   ]
  },
  {
   "cell_type": "code",
   "execution_count": 49,
   "metadata": {},
   "outputs": [
    {
     "name": "stdout",
     "output_type": "stream",
     "text": [
      "속도\n"
     ]
    }
   ],
   "source": [
    "car = Car()\n",
    "print(car.drive())"
   ]
  },
  {
   "cell_type": "markdown",
   "metadata": {},
   "source": [
    "### 매직메소드\n",
    "- init : special method\n",
    "- `object 클래스 메서드 재정의하는 것 중 하나`\n",
    "\n",
    "- str\n",
    "- repr : representation\n",
    "    - 사용자가 이해할 수 있도록"
   ]
  },
  {
   "cell_type": "code",
   "execution_count": 50,
   "metadata": {},
   "outputs": [],
   "source": [
    "class Person:\n",
    "    def __init__(self,name):\n",
    "        self.name = name\n",
    "\n",
    "    def __str__(self):\n",
    "        #인스턴스를 스트링으로 출력\n",
    "        #print(인스턴스)했을 때 출력되는 값\n",
    "        return self.name\n",
    "\n",
    "    def __repr__(self):\n",
    "        return f\"Person({self.name})\""
   ]
  },
  {
   "cell_type": "code",
   "execution_count": 51,
   "metadata": {},
   "outputs": [
    {
     "data": {
      "text/plain": [
       "Person(lee)"
      ]
     },
     "execution_count": 51,
     "metadata": {},
     "output_type": "execute_result"
    }
   ],
   "source": [
    "p = Person('lee')\n",
    "p #원래는 주소가 나왔었음."
   ]
  },
  {
   "cell_type": "markdown",
   "metadata": {},
   "source": [
    "#### namedtuple, dataclass\n",
    "- 변수만 있는 클래스 설정할 때 더 효율적으로 사용하는 수단\n",
    "- 불변객체 => replace 는 가능"
   ]
  },
  {
   "cell_type": "code",
   "execution_count": 52,
   "metadata": {},
   "outputs": [],
   "source": [
    "from collections import namedtuple\n",
    "\n",
    "Person = namedtuple('Person','name age') #name age 스페이스 기준으로 변수 구분\n",
    "a = Person('kim',33)"
   ]
  },
  {
   "cell_type": "code",
   "execution_count": 53,
   "metadata": {},
   "outputs": [
    {
     "data": {
      "text/plain": [
       "'kim'"
      ]
     },
     "execution_count": 53,
     "metadata": {},
     "output_type": "execute_result"
    }
   ],
   "source": [
    "a.name"
   ]
  },
  {
   "cell_type": "code",
   "execution_count": 54,
   "metadata": {},
   "outputs": [
    {
     "data": {
      "text/plain": [
       "33"
      ]
     },
     "execution_count": 54,
     "metadata": {},
     "output_type": "execute_result"
    }
   ],
   "source": [
    "a.age"
   ]
  },
  {
   "cell_type": "code",
   "execution_count": 56,
   "metadata": {},
   "outputs": [
    {
     "data": {
      "text/plain": [
       "Person(name='lee', age=33)"
      ]
     },
     "execution_count": 56,
     "metadata": {},
     "output_type": "execute_result"
    }
   ],
   "source": [
    "a._replace(name='lee') #새로 객체가 만들어짐"
   ]
  },
  {
   "cell_type": "code",
   "execution_count": 57,
   "metadata": {},
   "outputs": [],
   "source": [
    "from dataclasses import dataclass\n",
    "\n",
    "@dataclass\n",
    "class Person:\n",
    "    name:str\n",
    "    age:int"
   ]
  },
  {
   "cell_type": "code",
   "execution_count": 58,
   "metadata": {},
   "outputs": [],
   "source": [
    "a = Person('kim',33)"
   ]
  },
  {
   "cell_type": "code",
   "execution_count": 59,
   "metadata": {},
   "outputs": [
    {
     "data": {
      "text/plain": [
       "33"
      ]
     },
     "execution_count": 59,
     "metadata": {},
     "output_type": "execute_result"
    }
   ],
   "source": [
    "a.age"
   ]
  }
 ],
 "metadata": {
  "interpreter": {
   "hash": "aee8b7b246df8f9039afb4144a1f6fd8d2ca17a180786b69acc140d282b71a49"
  },
  "kernelspec": {
   "display_name": "Python 3.10.4 64-bit",
   "language": "python",
   "name": "python3"
  },
  "language_info": {
   "codemirror_mode": {
    "name": "ipython",
    "version": 3
   },
   "file_extension": ".py",
   "mimetype": "text/x-python",
   "name": "python",
   "nbconvert_exporter": "python",
   "pygments_lexer": "ipython3",
   "version": "3.10.4"
  },
  "orig_nbformat": 4
 },
 "nbformat": 4,
 "nbformat_minor": 2
}
