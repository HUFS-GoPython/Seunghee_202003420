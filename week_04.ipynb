{
 "cells": [
  {
   "cell_type": "markdown",
   "id": "d67a9703",
   "metadata": {},
   "source": [
    "## NLTK"
   ]
  },
  {
   "cell_type": "code",
   "execution_count": 2,
   "id": "e032165a",
   "metadata": {
    "scrolled": true
   },
   "outputs": [
    {
     "name": "stdout",
     "output_type": "stream",
     "text": [
      "*** Introductory Examples for the NLTK Book ***\n",
      "Loading text1, ..., text9 and sent1, ..., sent9\n",
      "Type the name of the text or sentence to view it.\n",
      "Type: 'texts()' or 'sents()' to list the materials.\n",
      "text1: Moby Dick by Herman Melville 1851\n",
      "text2: Sense and Sensibility by Jane Austen 1811\n",
      "text3: The Book of Genesis\n",
      "text4: Inaugural Address Corpus\n",
      "text5: Chat Corpus\n",
      "text6: Monty Python and the Holy Grail\n",
      "text7: Wall Street Journal\n",
      "text8: Personals Corpus\n",
      "text9: The Man Who Was Thursday by G . K . Chesterton 1908\n"
     ]
    },
    {
     "data": {
      "text/plain": [
       "True"
      ]
     },
     "execution_count": 2,
     "metadata": {},
     "output_type": "execute_result"
    }
   ],
   "source": [
    "import nltk\n",
    "from nltk.book import *\n",
    "nltk.download('book',quiet=True)"
   ]
  },
  {
   "cell_type": "markdown",
   "id": "c89d11c0",
   "metadata": {},
   "source": [
    "### 함수\n",
    "- count() -> 텍스트에서 어떤 요소의 개수를 세는\n",
    "- replace() -> A ->B\n",
    "- strip() -> 불필요한 공백, 원하는 요소 제거하는 역할\n",
    "- find() -> 원하는 문자열 찾기\n",
    "- index() -> 원하는 문자열의 인덱스 반환"
   ]
  },
  {
   "cell_type": "markdown",
   "id": "4b872a1e",
   "metadata": {},
   "source": [
    "##### count"
   ]
  },
  {
   "cell_type": "code",
   "execution_count": 6,
   "id": "5553b1f3",
   "metadata": {},
   "outputs": [
    {
     "data": {
      "text/plain": [
       "13721"
      ]
     },
     "execution_count": 6,
     "metadata": {},
     "output_type": "execute_result"
    }
   ],
   "source": [
    "text1.count('the') #The THE 는 세지 않은 것."
   ]
  },
  {
   "cell_type": "code",
   "execution_count": 7,
   "id": "e24341d1",
   "metadata": {},
   "outputs": [
    {
     "data": {
      "text/plain": [
       "3861"
      ]
     },
     "execution_count": 7,
     "metadata": {},
     "output_type": "execute_result"
    }
   ],
   "source": [
    "text2.count('the')"
   ]
  },
  {
   "cell_type": "markdown",
   "id": "56c3fe0b",
   "metadata": {},
   "source": [
    "##### replace"
   ]
  },
  {
   "cell_type": "code",
   "execution_count": 11,
   "id": "ac4fb369",
   "metadata": {},
   "outputs": [
    {
     "data": {
      "text/plain": [
       "'the'"
      ]
     },
     "execution_count": 11,
     "metadata": {},
     "output_type": "execute_result"
    }
   ],
   "source": [
    "word = 'the'\n",
    "word.replace('t','T')\n",
    "word"
   ]
  },
  {
   "cell_type": "code",
   "execution_count": 12,
   "id": "ec499373",
   "metadata": {},
   "outputs": [
    {
     "data": {
      "text/plain": [
       "'The'"
      ]
     },
     "execution_count": 12,
     "metadata": {},
     "output_type": "execute_result"
    }
   ],
   "source": [
    "word = 'the'\n",
    "word = word.replace('t','T')\n",
    "word #할당해야만 바뀐다."
   ]
  },
  {
   "cell_type": "markdown",
   "id": "d59a4749",
   "metadata": {},
   "source": [
    "##### strip"
   ]
  },
  {
   "cell_type": "code",
   "execution_count": 14,
   "id": "81a7a2bd",
   "metadata": {},
   "outputs": [
    {
     "data": {
      "text/plain": [
       "'word'"
      ]
     },
     "execution_count": 14,
     "metadata": {},
     "output_type": "execute_result"
    }
   ],
   "source": [
    "word = '                word'\n",
    "# word.strip() #공백이 사라짐\n",
    "word.lstrip() #왼쪽의 공백이 사라짐"
   ]
  },
  {
   "cell_type": "markdown",
   "id": "4feba7ef",
   "metadata": {},
   "source": [
    "##### 혼합해서 쓰기"
   ]
  },
  {
   "cell_type": "code",
   "execution_count": 17,
   "id": "29c21d2e",
   "metadata": {},
   "outputs": [
    {
     "data": {
      "text/plain": [
       "'Work'"
      ]
     },
     "execution_count": 17,
     "metadata": {},
     "output_type": "execute_result"
    }
   ],
   "source": [
    "word.lstrip().replace('w','W').replace('d','k') #연속적으로 스트링에 붙일 수 있음. \n",
    "#함수에 대한 결과가 스트링이라서."
   ]
  },
  {
   "cell_type": "markdown",
   "id": "c58e5678",
   "metadata": {},
   "source": [
    "##### find"
   ]
  },
  {
   "cell_type": "code",
   "execution_count": 18,
   "id": "87b2d95e",
   "metadata": {},
   "outputs": [
    {
     "data": {
      "text/plain": [
       "18"
      ]
     },
     "execution_count": 18,
     "metadata": {},
     "output_type": "execute_result"
    }
   ],
   "source": [
    "word.find('r') #r의 인덱스 (처음으로 발견한 위치로)\n",
    "# lfind, rfind 어디서 시작하면서 찾을지를 설정할 수 있음!"
   ]
  },
  {
   "cell_type": "markdown",
   "id": "d60c2290",
   "metadata": {},
   "source": [
    "##### index"
   ]
  },
  {
   "cell_type": "code",
   "execution_count": 19,
   "id": "6f84ed82",
   "metadata": {},
   "outputs": [
    {
     "data": {
      "text/plain": [
       "18"
      ]
     },
     "execution_count": 19,
     "metadata": {},
     "output_type": "execute_result"
    }
   ],
   "source": [
    "word.index('r')"
   ]
  },
  {
   "cell_type": "markdown",
   "id": "404e9e40",
   "metadata": {},
   "source": [
    "##### index find의 차이?\n",
    "- find 는 없는 문자열을 찾으면 -1, index는 오류를 반환"
   ]
  },
  {
   "cell_type": "code",
   "execution_count": 20,
   "id": "77107705",
   "metadata": {},
   "outputs": [
    {
     "data": {
      "text/plain": [
       "-1"
      ]
     },
     "execution_count": 20,
     "metadata": {},
     "output_type": "execute_result"
    }
   ],
   "source": [
    "word2 = 'i have a pen'\n",
    "word2.find('k')"
   ]
  },
  {
   "cell_type": "code",
   "execution_count": 21,
   "id": "2454178c",
   "metadata": {},
   "outputs": [
    {
     "ename": "ValueError",
     "evalue": "substring not found",
     "output_type": "error",
     "traceback": [
      "\u001b[0;31m---------------------------------------------------------------------------\u001b[0m",
      "\u001b[0;31mValueError\u001b[0m                                Traceback (most recent call last)",
      "\u001b[0;32m/var/folders/m_/dw2g6cv578x3b79x2j4mhq_m0000gn/T/ipykernel_26990/624018613.py\u001b[0m in \u001b[0;36m<module>\u001b[0;34m\u001b[0m\n\u001b[0;32m----> 1\u001b[0;31m \u001b[0mword2\u001b[0m\u001b[0;34m.\u001b[0m\u001b[0mindex\u001b[0m\u001b[0;34m(\u001b[0m\u001b[0;34m'k'\u001b[0m\u001b[0;34m)\u001b[0m\u001b[0;34m\u001b[0m\u001b[0;34m\u001b[0m\u001b[0m\n\u001b[0m",
      "\u001b[0;31mValueError\u001b[0m: substring not found"
     ]
    }
   ],
   "source": [
    "word2.index('k') #없는 문자열을 찾으니 오류가 반환됨."
   ]
  },
  {
   "cell_type": "markdown",
   "id": "fce3c560",
   "metadata": {},
   "source": [
    "### NLTK 내장함수\n",
    "\n",
    "- NLTK 전용\n",
    "- concordance() -> 특정 스트링이 어떤 문맥에서 쓰이는지\n",
    "- similar() -> 주어진 문자열과 비슷한 문맥에서 쓰이는 단어들 보여줌\n",
    "- commmon_context(리스트) -> 주어진 스트링들(리스트로 들어가야 함) 공유하는 문맥\n",
    "- dispersion_plot(리스트) -> 주어진 스트링들이 텍스트의 어느 위치에 나오는지 이미지로 보여줌."
   ]
  },
  {
   "cell_type": "code",
   "execution_count": 24,
   "id": "b40e5d14",
   "metadata": {},
   "outputs": [
    {
     "name": "stdout",
     "output_type": "stream",
     "text": [
      "Displaying 25 of 1226 matches:\n",
      "s , and to teach them by what name a whale - fish is to be called in our tongue\n",
      "t which is not true .\" -- HACKLUYT \" WHALE . ... Sw . and Dan . HVAL . This ani\n",
      "ulted .\" -- WEBSTER ' S DICTIONARY \" WHALE . ... It is more immediately from th\n",
      "ISH . WAL , DUTCH . HWAL , SWEDISH . WHALE , ICELANDIC . WHALE , ENGLISH . BALE\n",
      "HWAL , SWEDISH . WHALE , ICELANDIC . WHALE , ENGLISH . BALEINE , FRENCH . BALLE\n",
      "least , take the higgledy - piggledy whale statements , however authentic , in \n",
      " dreadful gulf of this monster ' s ( whale ' s ) mouth , are immediately lost a\n",
      " patient Job .\" -- RABELAIS . \" This whale ' s liver was two cartloads .\" -- ST\n",
      " Touching that monstrous bulk of the whale or ork we have received nothing cert\n",
      " of oil will be extracted out of one whale .\" -- IBID . \" HISTORY OF LIFE AND D\n",
      "ise .\" -- KING HENRY . \" Very like a whale .\" -- HAMLET . \" Which to secure , n\n",
      "restless paine , Like as the wounded whale to shore flies thro ' the maine .\" -\n",
      ". OF SPERMA CETI AND THE SPERMA CETI WHALE . VIDE HIS V . E . \" Like Spencer ' \n",
      "t had been a sprat in the mouth of a whale .\" -- PILGRIM ' S PROGRESS . \" That \n",
      "EN ' S ANNUS MIRABILIS . \" While the whale is floating at the stern of the ship\n",
      "e ship called The Jonas - in - the - Whale . ... Some say the whale can ' t ope\n",
      " in - the - Whale . ... Some say the whale can ' t open his mouth , but that is\n",
      " masts to see whether they can see a whale , for the first discoverer has a duc\n",
      " for his pains . ... I was told of a whale taken near Shetland , that had above\n",
      "oneers told me that he caught once a whale in Spitzbergen that was white all ov\n",
      "2 , one eighty feet in length of the whale - bone kind came in , which ( as I w\n",
      "n master and kill this Sperma - ceti whale , for I could never hear of any of t\n",
      " . 1729 . \"... and the breath of the whale is frequendy attended with such an i\n",
      "ed with hoops and armed with ribs of whale .\" -- RAPE OF THE LOCK . \" If we com\n",
      "contemptible in the comparison . The whale is doubtless the largest animal in c\n"
     ]
    }
   ],
   "source": [
    "text1.concordance('whale') #whale 주변에 무엇이 나오는지"
   ]
  },
  {
   "cell_type": "code",
   "execution_count": 26,
   "id": "82c41026",
   "metadata": {},
   "outputs": [
    {
     "name": "stdout",
     "output_type": "stream",
     "text": [
      "ship boat sea time captain world man deck pequod other whales air\n",
      "water head crew line thing side way body\n"
     ]
    }
   ],
   "source": [
    "text1.similar('whale') #이는 nontype. 즉 출력만 가능하고 할당하는 것은 불가능!"
   ]
  },
  {
   "cell_type": "code",
   "execution_count": 28,
   "id": "d54dc7ee",
   "metadata": {},
   "outputs": [
    {
     "name": "stdout",
     "output_type": "stream",
     "text": [
      "am_glad a_pretty a_lucky is_pretty be_glad\n"
     ]
    }
   ],
   "source": [
    "text2.common_contexts(['monstrous','very']) #이 두 단어가 공유하는 문맥이 무엇인지"
   ]
  },
  {
   "cell_type": "code",
   "execution_count": 31,
   "id": "00865cc8",
   "metadata": {},
   "outputs": [
    {
     "data": {
      "text/plain": [
       "<Text: Inaugural Address Corpus>"
      ]
     },
     "execution_count": 31,
     "metadata": {},
     "output_type": "execute_result"
    }
   ],
   "source": [
    "text4"
   ]
  },
  {
   "cell_type": "code",
   "execution_count": 30,
   "id": "0d5aec98",
   "metadata": {},
   "outputs": [
    {
     "data": {
      "image/png": "[encoded data removed]",
      "text/plain": [
       "<Figure size 432x288 with 1 Axes>"
      ]
     },
     "metadata": {
      "needs_background": "light"
     },
     "output_type": "display_data"
    }
   ],
   "source": [
    "text4.dispersion_plot(['citizens','democracy','America']) # citizen이 나오는 위치들을 보여주는 것"
   ]
  },
  {
   "cell_type": "markdown",
   "id": "34d086f5",
   "metadata": {},
   "source": [
    "### 리스트, 리스트컴프리핸션\n",
    "- 프로그래밍에서 '배열'에 해당, 파이썬에서는 리스트라고 부른다.\n",
    "- 하나의 변수에 여러 값을 할당하는 자료형\n",
    "    - `example = [1,2,3,4]`\n",
    "- 대괄호를 사용한다\n",
    "- 내부 요소들의 자료형은 같을 필요 없다.\n",
    "    - `example = [1,'yes',True]`\n",
    "- 순서가 있는 자료형 => 슬라이싱, 인덱싱이 가능하다\n",
    "- 빈 리스트 선언 `set(),[]`"
   ]
  },
  {
   "cell_type": "code",
   "execution_count": 32,
   "id": "0d8fd082",
   "metadata": {},
   "outputs": [],
   "source": [
    "empty = []"
   ]
  },
  {
   "cell_type": "code",
   "execution_count": 33,
   "id": "bc389453",
   "metadata": {},
   "outputs": [
    {
     "data": {
      "text/plain": [
       "'blue'"
      ]
     },
     "execution_count": 33,
     "metadata": {},
     "output_type": "execute_result"
    }
   ],
   "source": [
    "colors = ['blue','yellow','white']\n",
    "colors[0]"
   ]
  },
  {
   "cell_type": "code",
   "execution_count": 34,
   "id": "4ecc9894",
   "metadata": {},
   "outputs": [
    {
     "data": {
      "text/plain": [
       "['white', 'yellow', 'blue']"
      ]
     },
     "execution_count": 34,
     "metadata": {},
     "output_type": "execute_result"
    }
   ],
   "source": [
    "colors[::-1]"
   ]
  },
  {
   "cell_type": "markdown",
   "id": "6494fa4c",
   "metadata": {},
   "source": [
    "### list comprehension\n",
    "- 포함형/지능형/축약형 리스트\n",
    "- 하나의 리스트에서 이를 포함하여 다른 리스트를 만든다.\n",
    "- list + for loop\n",
    "- [A for B in C]\n",
    "    - C에 있는 B에서 A를 가져와라 ==> 리스트에 담아서 반환\n",
    "    - A : 내가 원하는 출력 형태\n",
    "    - B : C의 형태\n",
    "    - C : 반복 가능한 자료형\n",
    " \n",
    "- 조건 추가 : [A for B in C if ...]"
   ]
  },
  {
   "cell_type": "code",
   "execution_count": 35,
   "id": "f2a625d5",
   "metadata": {},
   "outputs": [
    {
     "data": {
      "text/plain": [
       "['b', 'y', 'w']"
      ]
     },
     "execution_count": 35,
     "metadata": {},
     "output_type": "execute_result"
    }
   ],
   "source": [
    "[color[0] for color in colors] #각각 color의 0번쨰 인덱스만 출력"
   ]
  },
  {
   "cell_type": "code",
   "execution_count": 36,
   "id": "a75b163a",
   "metadata": {},
   "outputs": [
    {
     "data": {
      "text/plain": [
       "['blue', 'yellow', 'white']"
      ]
     },
     "execution_count": 36,
     "metadata": {},
     "output_type": "execute_result"
    }
   ],
   "source": [
    "[color for color in colors]"
   ]
  },
  {
   "cell_type": "code",
   "execution_count": 39,
   "id": "3d001d84",
   "metadata": {},
   "outputs": [
    {
     "data": {
      "text/plain": [
       "['[', 'y', 'k', 'y', 'n', 'e', '1', ']', 'Y', '.']"
      ]
     },
     "execution_count": 39,
     "metadata": {},
     "output_type": "execute_result"
    }
   ],
   "source": [
    "#text1의 토큰 중 처음 10개 단어에서 마지막 알파벳 반환\n",
    "[token[-1] for token in text1.tokens][:10]"
   ]
  },
  {
   "cell_type": "code",
   "execution_count": 40,
   "id": "9dcd72d0",
   "metadata": {},
   "outputs": [
    {
     "data": {
      "text/plain": [
       "['[', 'y', 'k', 'y', 'n', 'e', '1', ']', 'Y', '.']"
      ]
     },
     "execution_count": 40,
     "metadata": {},
     "output_type": "execute_result"
    }
   ],
   "source": [
    "#더 나은 코드 (시간이 덜걸림)\n",
    "[token[-1] for token in text1.tokens[:10]]"
   ]
  },
  {
   "cell_type": "markdown",
   "id": "9dd569ec",
   "metadata": {},
   "source": [
    "##### 조건이 추가된 리스트 컴프리헨션"
   ]
  },
  {
   "cell_type": "code",
   "execution_count": 43,
   "id": "253fb951",
   "metadata": {},
   "outputs": [
    {
     "data": {
      "text/plain": [
       "['.']"
      ]
     },
     "execution_count": 43,
     "metadata": {},
     "output_type": "execute_result"
    }
   ],
   "source": [
    "[word for word in text1.tokens[:10] if len(word)<3 and (word=='.')]"
   ]
  },
  {
   "cell_type": "code",
   "execution_count": 44,
   "id": "3dda7eb9",
   "metadata": {},
   "outputs": [
    {
     "data": {
      "text/plain": [
       "['iamahotniplickme',\n",
       " '!!!!!!!!!!!!!!!!',\n",
       " 'iamahotnipwithpics',\n",
       " 'iamahotnipwithhotnippics',\n",
       " '--------------------',\n",
       " '..............................',\n",
       " '!!!!!!!!!!!!!!!!',\n",
       " 'mikeeeeeeeeeeeeeeeeeeeeeeeeee',\n",
       " 'oooooooooooooonnnnnnnnnnnneeeeeeeeeeeeeeesssssssss',\n",
       " 'WEEEEEEEEEEEEEEEEEE',\n",
       " '!!!!!!!!!!!!!!!!!!!!!!!',\n",
       " 'niteeeeeeeeeeeeeeeeeee',\n",
       " '#talkcity_adults',\n",
       " 'http://forums.talkcity.com/tc-adults/start ',\n",
       " '#talkcity_adults',\n",
       " 'http://www.shadowbots.com',\n",
       " '(((((((((((((((((((((',\n",
       " ')))))))))))))))))))))',\n",
       " 'huuuuuuuuuuuuuuuuuuuuuuuuuuuuuuuuuuugZ',\n",
       " ')))))))))))))))',\n",
       " 'wooooooooooooohoooooooooooooooo',\n",
       " 'www.Wunderground.com',\n",
       " '//www.wunderground.com/cgi-bin/findweather/getForecast?query=95953#FIR',\n",
       " 'www.Wunderground.com',\n",
       " 'www.Wunderground.com',\n",
       " '#talkcity_adults',\n",
       " 'whoaaaaaaaaaaaa',\n",
       " '((((((((((((((((((((',\n",
       " ')))))))))))))))))))',\n",
       " '((((((((((((((((((',\n",
       " ')))))))))))))))))))',\n",
       " '(((((((((((((((((',\n",
       " ')))))))))))))))))))))',\n",
       " 'ohhhhhhhhhhhhhhhh',\n",
       " '((((((((((((((((((((',\n",
       " ')))))))))))))))))))))))))))))))',\n",
       " '((((((((((((((((((((((((((',\n",
       " ')))))))))))))))))))))',\n",
       " '(((((((((((((((',\n",
       " ')))))))))))))))))))',\n",
       " 'grrrrrrrrrrrrrrrrr',\n",
       " '(((((((((((((((((',\n",
       " '))))))))))))))))))))))',\n",
       " '.(..(.vMp3 v1.7.4.).)',\n",
       " 'technologically',\n",
       " '.A.n.a.c.?.n.?.a.',\n",
       " '#talkcity_adults',\n",
       " 'http://forums.talkcity.com/tc-adults/start ',\n",
       " '#talkcity_adults',\n",
       " 'http://www.shadowbots.com',\n",
       " 'Nooooooooooooooo',\n",
       " '#talkcity_adults',\n",
       " '#talkcity_adults',\n",
       " 'hearthechatters',\n",
       " 'bwahahahahahahahahahaha',\n",
       " '[[[[[[[[[[[[[[[[[[',\n",
       " ']]]]]]]]]]]]]]]]]]]]]',\n",
       " 'noooooooooooooo',\n",
       " '#talkcity_adults',\n",
       " '#talkcity_adults',\n",
       " '<3333333333333333',\n",
       " '<33333333333333333',\n",
       " 'heeheeheeheeheehee',\n",
       " '))))))))))))))))))))))))))))',\n",
       " 'agurlwithbigguns',\n",
       " 'agurlwithbigguns',\n",
       " 'anyyyyyyyyyyyyyyyyy',\n",
       " 'muahsssssssssssssssssss',\n",
       " '(((((((((((((((',\n",
       " 'muahssssssssssssssss',\n",
       " '((((((((((((((((((((((((',\n",
       " ')))))))))))))))))',\n",
       " '(((((((((((((((((((((((',\n",
       " ')))))))))))))))',\n",
       " '(((((((((((((((((((((((((',\n",
       " '(((((((((((((((',\n",
       " '#talkcity_adults',\n",
       " '#talkcity_adults',\n",
       " 'http://www.shadowbots.com',\n",
       " 'antidepressants',\n",
       " 'antidepressants',\n",
       " 'antidepressants',\n",
       " 'heyyyyyyyyyyyyyy',\n",
       " '!!!!!!!!!!!!!!!!!!!!!!!!!!!',\n",
       " 'miiiiiinnnnnnnnnneeeeeeee',\n",
       " '....................',\n",
       " '...................',\n",
       " '..................',\n",
       " 'lllllllliiiiiiiiiikeee',\n",
       " 'miiiiiiiiiiiiinnnnnnnnnnneeeeeeeeee',\n",
       " 'aiiiiiiiiiiiiiiiiiiiiiiii',\n",
       " 'mmmmmmmmiiiiiiiiinnnnnnnnneeeeeeee',\n",
       " 'woooooooooaaaahhhhhhhhhhhh',\n",
       " 'backfrontsidewaysandallaroundtheworld',\n",
       " 'ahhhhhhhhhhhhhh',\n",
       " '#talkcity_adults',\n",
       " 'tatatatnanaantatat',\n",
       " '#talkcity_adults',\n",
       " '#talkcity_adults',\n",
       " 'weeeeeeeeeeeeeeeeeeeeeeeeed',\n",
       " '#talkcity_adults',\n",
       " 'hahahahahahahahahahahahahahahaha',\n",
       " '!!!!!!!!!!!!!!!!',\n",
       " 'eeeeeeeeewwwwwwww',\n",
       " '.(..(.vMp3 vi.p.t.)..).',\n",
       " '.(..(.vMp3 vi.p.t.)..).',\n",
       " 'cooooooooookiiiiiiiiiiiieeeeeeeeeeee',\n",
       " 'yuuuuuuuuuuuummmmmmmmmmmm',\n",
       " 'aaaaaaaaaaaaaaaaa',\n",
       " 'raaaaaaaaaaaaaaaaaaaaaaaaaaaaa',\n",
       " 'weeeeeeeeeeeeeeee',\n",
       " 'oooooooooooglyyyyyyyy',\n",
       " 'boooooooooooglyyyyyy',\n",
       " 'HHEEYYYYYYYYYYYYYYYYYYYYYYYYYYYYYYYYYYYYYYYYYYYYYYY',\n",
       " 'llloooozzzzeeerrrrzzzzzzzzzzzzzzzzzzzzzzzzzzzzzzzzzzzzzzzzzzzzzzzzz',\n",
       " '!!!!!!!!!!!!!!!!!!!!!!!!!!!!',\n",
       " '................',\n",
       " '........................',\n",
       " '!!!!!!!!!!!!!!!!!!!!!!',\n",
       " '!!!!!!!!!!!!!!!!!!!!!!',\n",
       " 'byeeeeeeeeeeeee',\n",
       " 'peace-and-quiet',\n",
       " '#talkcity_adults',\n",
       " 'http://forums.talkcity.com/tc-adults/start ',\n",
       " '#talkcity_adults',\n",
       " 'http://www.shadowbots.com',\n",
       " 'Mooooooooooooooooooooooooooo',\n",
       " 'wheeeeeeeeeeeeeeeeeeeeeeeeeeeeeeeeee',\n",
       " 'bbbbbyyyyyyyeeeeeeeee',\n",
       " '!!!!!!!!!!!!!!!!!!!!!!!!!!!!!!!!!!!!!!!!!!!!!!!!!!!!!!',\n",
       " 'HolocaustYourMom',\n",
       " 'Bloooooooooooood',\n",
       " 'BAAAAALLLLLLLLIIIIIIINNNNNNNNNNN']"
      ]
     },
     "execution_count": 44,
     "metadata": {},
     "output_type": "execute_result"
    }
   ],
   "source": [
    "#text5에서 길이가 15이상인 단어\n",
    "\n",
    "[word for word in text5.tokens if len(word)>=15]"
   ]
  },
  {
   "cell_type": "code",
   "execution_count": 47,
   "id": "0d7affdd",
   "metadata": {},
   "outputs": [
    {
     "data": {
      "text/plain": [
       "False"
      ]
     },
     "execution_count": 47,
     "metadata": {},
     "output_type": "execute_result"
    }
   ],
   "source": [
    "'hey'.isupper() #lower 인지 upper 인지 알려줌"
   ]
  },
  {
   "cell_type": "code",
   "execution_count": 50,
   "id": "3a8c9e36",
   "metadata": {},
   "outputs": [
    {
     "data": {
      "text/plain": [
       "['i',\n",
       " 'i',\n",
       " 'lord',\n",
       " 'lord',\n",
       " 'lord',\n",
       " 'lord',\n",
       " 'lord',\n",
       " 'lord',\n",
       " 'lord',\n",
       " 'lord',\n",
       " 'i',\n",
       " 'lord',\n",
       " 'lord',\n",
       " 'lord',\n",
       " 'lord',\n",
       " 'lord',\n",
       " 'lord',\n",
       " 'lord',\n",
       " 'i',\n",
       " 'i',\n",
       " 'i',\n",
       " 'i',\n",
       " 'i',\n",
       " 'i',\n",
       " 'lord',\n",
       " 'i',\n",
       " 'lord',\n",
       " 'i',\n",
       " 'i',\n",
       " 'i',\n",
       " 'lord',\n",
       " 'lord',\n",
       " 'lord',\n",
       " 'i',\n",
       " 'lord',\n",
       " 'lord',\n",
       " 'lord',\n",
       " 'lord',\n",
       " 'lord',\n",
       " 'i',\n",
       " 'i',\n",
       " 'lord',\n",
       " 'i',\n",
       " 'i',\n",
       " 'i',\n",
       " 'lord',\n",
       " 'lord',\n",
       " 'lord',\n",
       " 'i',\n",
       " 'lord',\n",
       " 'lord',\n",
       " 'lord',\n",
       " 'lord',\n",
       " 'lord',\n",
       " 'i',\n",
       " 'i',\n",
       " 'i',\n",
       " 'lord',\n",
       " 'i',\n",
       " 'a',\n",
       " 'i',\n",
       " 'i',\n",
       " 'i',\n",
       " 'lord',\n",
       " 'i',\n",
       " 'i',\n",
       " 'i',\n",
       " 'i',\n",
       " 'lord',\n",
       " 'lord',\n",
       " 'lord',\n",
       " 'lord',\n",
       " 'lord',\n",
       " 'i',\n",
       " 'i',\n",
       " 'i',\n",
       " 'i',\n",
       " 'i',\n",
       " 'i',\n",
       " 'i',\n",
       " 'i',\n",
       " 'i',\n",
       " 'i',\n",
       " 'i',\n",
       " 'i',\n",
       " 'i',\n",
       " 'i',\n",
       " 'i',\n",
       " 'i',\n",
       " 'i',\n",
       " 'lord',\n",
       " 'lord',\n",
       " 'lord',\n",
       " 'lord',\n",
       " 'lord',\n",
       " 'lord',\n",
       " 'lord',\n",
       " 'lord',\n",
       " 'lord',\n",
       " 'i',\n",
       " 'i',\n",
       " 'i',\n",
       " 'i',\n",
       " 'lord',\n",
       " 'lord',\n",
       " 'i',\n",
       " 'lord',\n",
       " 'lord',\n",
       " 'lord',\n",
       " 'i',\n",
       " 'i',\n",
       " 'lord',\n",
       " 'i',\n",
       " 'lord',\n",
       " 'i',\n",
       " 'i',\n",
       " 'i',\n",
       " 'i',\n",
       " 'lord',\n",
       " 'lord',\n",
       " 'lord',\n",
       " 'lord',\n",
       " 'i',\n",
       " 'i',\n",
       " 'i',\n",
       " 'lord',\n",
       " 'i',\n",
       " 'lord',\n",
       " 'i',\n",
       " 'i',\n",
       " 'i',\n",
       " 'lord',\n",
       " 'i',\n",
       " 'lord',\n",
       " 'i',\n",
       " 'lord',\n",
       " 'lord',\n",
       " 'i',\n",
       " 'lord',\n",
       " 'lord',\n",
       " 'i',\n",
       " 'i',\n",
       " 'i',\n",
       " 'lord',\n",
       " 'i',\n",
       " 'lord',\n",
       " 'i',\n",
       " 'i',\n",
       " 'i',\n",
       " 'i',\n",
       " 'lord',\n",
       " 'lord',\n",
       " 'i',\n",
       " 'lord',\n",
       " 'lord',\n",
       " 'i',\n",
       " 'lord',\n",
       " 'lord',\n",
       " 'lord',\n",
       " 'i',\n",
       " 'lord',\n",
       " 'i',\n",
       " 'i',\n",
       " 'i',\n",
       " 'i',\n",
       " 'i',\n",
       " 'i',\n",
       " 'i',\n",
       " 'i',\n",
       " 'i',\n",
       " 'i',\n",
       " 'o',\n",
       " 'i',\n",
       " 'i',\n",
       " 'i',\n",
       " 'i',\n",
       " 'i',\n",
       " 'lord',\n",
       " 'lord',\n",
       " 'i',\n",
       " 'i',\n",
       " 'i',\n",
       " 'i',\n",
       " 'i',\n",
       " 'i',\n",
       " 'i',\n",
       " 'lord',\n",
       " 'i',\n",
       " 'lord',\n",
       " 'i',\n",
       " 'i',\n",
       " 'lord',\n",
       " 'i',\n",
       " 'i',\n",
       " 'i',\n",
       " 'lord',\n",
       " 'lord',\n",
       " 'lord',\n",
       " 'i',\n",
       " 'i',\n",
       " 'lord',\n",
       " 'lord',\n",
       " 'i',\n",
       " 'i',\n",
       " 'i',\n",
       " 'lord',\n",
       " 'i',\n",
       " 'i',\n",
       " 'i',\n",
       " 'lord',\n",
       " 'i',\n",
       " 'i',\n",
       " 'i',\n",
       " 'i',\n",
       " 'lo',\n",
       " 'i',\n",
       " 'lord',\n",
       " 'i',\n",
       " 'i',\n",
       " 'lord',\n",
       " 'i',\n",
       " 'i',\n",
       " 'i',\n",
       " 'i',\n",
       " 'lord',\n",
       " 'lord',\n",
       " 'lord',\n",
       " 'lord',\n",
       " 'lord',\n",
       " 'i',\n",
       " 'i',\n",
       " 'i',\n",
       " 'i',\n",
       " 'i',\n",
       " 'lord',\n",
       " 'lord',\n",
       " 'lo',\n",
       " 'i',\n",
       " 'lord',\n",
       " 'i',\n",
       " 'i',\n",
       " 'i',\n",
       " 'i',\n",
       " 'i',\n",
       " 'i',\n",
       " 'i',\n",
       " 'i',\n",
       " 'lord',\n",
       " 'lord',\n",
       " 'lord',\n",
       " 'i',\n",
       " 'i',\n",
       " 'i',\n",
       " 'i',\n",
       " 'i',\n",
       " 'i',\n",
       " 'i',\n",
       " 'i',\n",
       " 'lord',\n",
       " 'i',\n",
       " 'i',\n",
       " 'i',\n",
       " 'i',\n",
       " 'lord',\n",
       " 'i',\n",
       " 'i',\n",
       " 'lord',\n",
       " 'lord',\n",
       " 'i',\n",
       " 'lord',\n",
       " 'i',\n",
       " 'i',\n",
       " 'i',\n",
       " 'i',\n",
       " 'i',\n",
       " 'i',\n",
       " 'i',\n",
       " 'i',\n",
       " 'i',\n",
       " 'i',\n",
       " 'i',\n",
       " 'lord',\n",
       " 'i',\n",
       " 'i',\n",
       " 'lord',\n",
       " 'i',\n",
       " 'i',\n",
       " 'lord',\n",
       " 'i',\n",
       " 'o',\n",
       " 'lord',\n",
       " 'i',\n",
       " 'i',\n",
       " 'i',\n",
       " 'i',\n",
       " 'i',\n",
       " 'i',\n",
       " 'i',\n",
       " 'i',\n",
       " 'i',\n",
       " 'lord',\n",
       " 'i',\n",
       " 'i',\n",
       " 'lord',\n",
       " 'lord',\n",
       " 'i',\n",
       " 'lord',\n",
       " 'lord',\n",
       " 'i',\n",
       " 'i',\n",
       " 'i',\n",
       " 'i',\n",
       " 'lord',\n",
       " 'i',\n",
       " 'i',\n",
       " 'lord',\n",
       " 'i',\n",
       " 'i',\n",
       " 'o',\n",
       " 'lord',\n",
       " 'i',\n",
       " 'i',\n",
       " 'i',\n",
       " 'i',\n",
       " 'i',\n",
       " 'lord',\n",
       " 'i',\n",
       " 'i',\n",
       " 'i',\n",
       " 'i',\n",
       " 'i',\n",
       " 'i',\n",
       " 'i',\n",
       " 'i',\n",
       " 'lord',\n",
       " 'lord',\n",
       " 'i',\n",
       " 'lo',\n",
       " 'lord',\n",
       " 'lord',\n",
       " 'lord',\n",
       " 'i',\n",
       " 'i',\n",
       " 'lord',\n",
       " 'lord',\n",
       " 'i',\n",
       " 'lord',\n",
       " 'lord',\n",
       " 'i',\n",
       " 'i',\n",
       " 'i',\n",
       " 'lord',\n",
       " 'i',\n",
       " 'i',\n",
       " 'i',\n",
       " 'i',\n",
       " 'i',\n",
       " 'i',\n",
       " 'i',\n",
       " 'i',\n",
       " 'lord',\n",
       " 'lord',\n",
       " 'lord',\n",
       " 'i',\n",
       " 'i',\n",
       " 'lord',\n",
       " 'lord',\n",
       " 'lord',\n",
       " 'i',\n",
       " 'i',\n",
       " 'i',\n",
       " 'i',\n",
       " 'i',\n",
       " 'i',\n",
       " 'i',\n",
       " 'i',\n",
       " 'i',\n",
       " 'lord',\n",
       " 'i',\n",
       " 'i',\n",
       " 'i',\n",
       " 'i',\n",
       " 'i',\n",
       " 'i',\n",
       " 'i',\n",
       " 'i',\n",
       " 'i',\n",
       " 'lord',\n",
       " 'i',\n",
       " 'i',\n",
       " 'i',\n",
       " 'i',\n",
       " 'lord',\n",
       " 'i',\n",
       " 'i',\n",
       " 'o',\n",
       " 'i',\n",
       " 'i',\n",
       " 'i',\n",
       " 'i',\n",
       " 'o',\n",
       " 'i',\n",
       " 'i',\n",
       " 'i',\n",
       " 'i',\n",
       " 'lord',\n",
       " 'i',\n",
       " 'lord',\n",
       " 'i',\n",
       " 'i',\n",
       " 'i',\n",
       " 'i',\n",
       " 'i',\n",
       " 'lord',\n",
       " 'i',\n",
       " 'i',\n",
       " 'i',\n",
       " 'lord',\n",
       " 'g',\n",
       " 'i',\n",
       " 'i',\n",
       " 'i',\n",
       " 'i',\n",
       " 'i',\n",
       " 'i',\n",
       " 'i',\n",
       " 'lord',\n",
       " 'lord',\n",
       " 'lord',\n",
       " 'i',\n",
       " 'i',\n",
       " 'i',\n",
       " 'lo',\n",
       " 'i',\n",
       " 'i',\n",
       " 'i',\n",
       " 'i',\n",
       " 'i',\n",
       " 'a',\n",
       " 'i',\n",
       " 'i',\n",
       " 'i',\n",
       " 'i',\n",
       " 'i',\n",
       " 'lord',\n",
       " 'i',\n",
       " 'i',\n",
       " 'i',\n",
       " 'i',\n",
       " 'i',\n",
       " 'i',\n",
       " 'lord',\n",
       " 'i',\n",
       " 'i',\n",
       " 'i',\n",
       " 'lord',\n",
       " 'i',\n",
       " 'i',\n",
       " 'i',\n",
       " 'i',\n",
       " 'i',\n",
       " 'lord',\n",
       " 'i',\n",
       " 'i',\n",
       " 'i',\n",
       " 'i',\n",
       " 'i',\n",
       " 'i',\n",
       " 'i',\n",
       " 'i',\n",
       " 'i',\n",
       " 'i',\n",
       " 'i',\n",
       " 'i',\n",
       " 'i',\n",
       " 'i',\n",
       " 'i',\n",
       " 'i',\n",
       " 'i',\n",
       " 'i',\n",
       " 'i',\n",
       " 'i',\n",
       " 'i',\n",
       " 'lord',\n",
       " 'i',\n",
       " 'i',\n",
       " 'i',\n",
       " 'i',\n",
       " 'i',\n",
       " 'i',\n",
       " 'o',\n",
       " 'lord',\n",
       " 'i',\n",
       " 'i',\n",
       " 'i',\n",
       " 'i',\n",
       " 'i',\n",
       " 'i',\n",
       " 'i',\n",
       " 'i',\n",
       " 'i',\n",
       " 'i',\n",
       " 'i',\n",
       " 'i',\n",
       " 'i',\n",
       " 'i',\n",
       " 'i',\n",
       " 'i',\n",
       " 'i',\n",
       " 'i',\n",
       " 'i',\n",
       " 'i',\n",
       " 'i',\n",
       " 'i',\n",
       " 'i',\n",
       " 'i',\n",
       " 'i',\n",
       " 'i',\n",
       " 'i',\n",
       " 'i',\n",
       " 'i',\n",
       " 'i',\n",
       " 'i',\n",
       " 'i',\n",
       " 'i',\n",
       " 'i',\n",
       " 'i',\n",
       " 'i',\n",
       " 'i',\n",
       " 'i',\n",
       " 'i',\n",
       " 'i',\n",
       " 'i',\n",
       " 'i',\n",
       " 'i',\n",
       " 'i',\n",
       " 'i',\n",
       " 'i',\n",
       " 'i',\n",
       " 'i',\n",
       " 'i',\n",
       " 'lord',\n",
       " 'lord',\n",
       " 'lord',\n",
       " 'i',\n",
       " 'i',\n",
       " 'i',\n",
       " 'i',\n",
       " 'i',\n",
       " 'i',\n",
       " 'i',\n",
       " 'i',\n",
       " 'i',\n",
       " 'lord',\n",
       " 'lord',\n",
       " 'lord',\n",
       " 'lord',\n",
       " 'lord',\n",
       " 'i',\n",
       " 'i',\n",
       " 'i',\n",
       " 'i',\n",
       " 'i',\n",
       " 'lord',\n",
       " 'lord',\n",
       " 'lord',\n",
       " 'i',\n",
       " 'i',\n",
       " 'i',\n",
       " 'i',\n",
       " 'i',\n",
       " 'i',\n",
       " 'i',\n",
       " 'i',\n",
       " 'i',\n",
       " 'i',\n",
       " 'i',\n",
       " 'i',\n",
       " 'i',\n",
       " 'i',\n",
       " 'i',\n",
       " 'i',\n",
       " 'i',\n",
       " 'i',\n",
       " 'i',\n",
       " 'i',\n",
       " 'i',\n",
       " 'i',\n",
       " 'i',\n",
       " 'i',\n",
       " 'g',\n",
       " 'i',\n",
       " 'i',\n",
       " 'i',\n",
       " 'i',\n",
       " 'i',\n",
       " 'i',\n",
       " 'i',\n",
       " 'i',\n",
       " 'i',\n",
       " 'i',\n",
       " 'o',\n",
       " 'i',\n",
       " 'i',\n",
       " 'i',\n",
       " 'i',\n",
       " 'i',\n",
       " 'i',\n",
       " 'i',\n",
       " 'i',\n",
       " 'i',\n",
       " 'i',\n",
       " 'i',\n",
       " 'i',\n",
       " 'i',\n",
       " 'i',\n",
       " 'i',\n",
       " 'i',\n",
       " 'i',\n",
       " 'i',\n",
       " 'i',\n",
       " 'i',\n",
       " 'i',\n",
       " 'i',\n",
       " 'i',\n",
       " 'i',\n",
       " 'i',\n",
       " 'i',\n",
       " 'i',\n",
       " 'i',\n",
       " 'i',\n",
       " 'i',\n",
       " 'i',\n",
       " 'i',\n",
       " 'i',\n",
       " 'i',\n",
       " 'i',\n",
       " 'i',\n",
       " 'i',\n",
       " 'i',\n",
       " 'i',\n",
       " 'i',\n",
       " 'i',\n",
       " 'i',\n",
       " 'i',\n",
       " 'i',\n",
       " 'i',\n",
       " 'i',\n",
       " 'i',\n",
       " 'i',\n",
       " 'o',\n",
       " 'i',\n",
       " 'i',\n",
       " 'o',\n",
       " 'lord',\n",
       " 'i',\n",
       " 'i',\n",
       " 'i',\n",
       " 'i',\n",
       " 'i',\n",
       " 'i',\n",
       " 'i',\n",
       " 'i',\n",
       " 'i',\n",
       " 'i',\n",
       " 'i',\n",
       " 'i']"
      ]
     },
     "execution_count": 50,
     "metadata": {},
     "output_type": "execute_result"
    }
   ],
   "source": [
    "#text3에서 대문자인 단어를 소문자로 추출\n",
    "[word.lower() for word in text3.tokens if word.isupper()]"
   ]
  },
  {
   "cell_type": "markdown",
   "id": "8dabd5d6",
   "metadata": {},
   "source": [
    "### cased, uncased\n",
    "- 변환 : `upper(),lower(),title() -> 앞에만 대문자로,swapcase() #-> 대문자는 소문자 소문자는 대문자`\n",
    "- 형태 체크 : `isupper(), islower(), istitle()`\n",
    "    - `endswith(<string>), startswith()`\n",
    "    - `isalpha():문자인지 아닌지`"
   ]
  },
  {
   "cell_type": "code",
   "execution_count": 62,
   "id": "00a438db",
   "metadata": {},
   "outputs": [
    {
     "name": "stdout",
     "output_type": "stream",
     "text": [
      "['uncomfortableness', 'comfortableness', 'intolerableness', 'immutableness', 'indomitableness', 'reasonableness', 'indispensableness', 'indomitableness', 'honourableness', 'palpableness']\n"
     ]
    }
   ],
   "source": [
    "#text1에서 ableness로 끝나는 단어를 중복없이 정렬해서\n",
    "result = []\n",
    "for token in text1.tokens:\n",
    "    if token.endswith('ableness'):\n",
    "        result.append(token)\n",
    "sorted(set(result))\n",
    "print(result)"
   ]
  },
  {
   "cell_type": "code",
   "execution_count": 7,
   "id": "c67c7714",
   "metadata": {},
   "outputs": [
    {
     "name": "stdout",
     "output_type": "stream",
     "text": [
      "['uncomfortableness', 'comfortableness', 'intolerableness', 'immutableness', 'indomitableness', 'reasonableness', 'indispensableness', 'indomitableness', 'honourableness', 'palpableness']\n"
     ]
    }
   ],
   "source": [
    "# 위를 리스트 컴프리헨션 방식으로 해보기\n",
    "result = [token for token in text1.tokens if token.endswith('ableness')]\n",
    "sorted(set(result))\n",
    "print(result)"
   ]
  },
  {
   "cell_type": "code",
   "execution_count": 65,
   "id": "73d9e999",
   "metadata": {
    "scrolled": true
   },
   "outputs": [
    {
     "data": {
      "text/plain": [
       "['sovereignty',\n",
       " 'sovereignty',\n",
       " 'sovereignty',\n",
       " 'sovereignty',\n",
       " 'sovereignty',\n",
       " 'sovereignty',\n",
       " 'sovereignty',\n",
       " 'sovereignty',\n",
       " 'sovereignty',\n",
       " 'sovereignties',\n",
       " 'sovereignties',\n",
       " 'sovereignty',\n",
       " 'sovereignties',\n",
       " 'sovereignty',\n",
       " 'sovereignty',\n",
       " 'sovereignty',\n",
       " 'sovereignty',\n",
       " 'sovereignty',\n",
       " 'sovereignty',\n",
       " 'sovereignty',\n",
       " 'sovereignty',\n",
       " 'sovereignty',\n",
       " 'sovereignty',\n",
       " 'sovereignty',\n",
       " 'sovereignty',\n",
       " 'sovereignty',\n",
       " 'sovereignties',\n",
       " 'sovereignty',\n",
       " 'sovereignty',\n",
       " 'sovereignty',\n",
       " 'sovereignty']"
      ]
     },
     "execution_count": 65,
     "metadata": {},
     "output_type": "execute_result"
    }
   ],
   "source": [
    "#text4에서 'gnt'가 포함된 단어들을 소문자로 \n",
    "\n",
    "[token.lower() for token in text4.tokens if 'gnt' in token]"
   ]
  },
  {
   "cell_type": "markdown",
   "id": "04f611cb",
   "metadata": {},
   "source": [
    "   ## `주의!` 왜 차이가 생겼지?"
   ]
  },
  {
   "cell_type": "code",
   "execution_count": 66,
   "id": "aaf4edd3",
   "metadata": {},
   "outputs": [
    {
     "name": "stdout",
     "output_type": "stream",
     "text": [
      "3 2\n"
     ]
    }
   ],
   "source": [
    "a = [token.lower() for token in set(text4.tokens) if 'gnt' in token] #America와 america가 둘 다 남아있음.\n",
    "b = set([token.lower() for token in text4.tokens if 'gnt' in token]) #America가 america가 되기 때문에 둘이 같은 것으로 취급되어 사라짐.\n",
    "print(len(a),len(b)) #그래서 길이에 차이가 존재함!"
   ]
  },
  {
   "cell_type": "markdown",
   "id": "5375bbee",
   "metadata": {},
   "source": [
    "### `a의 경우에는`, 애초에 중복을 제거한 text4 의 단어 중에서 gnt 를 포함하는 단어들을 모두 소문자로 바꾸었음. 따라서 GNT 와 gnt 모두 존재.\n",
    "### `b의 경우에는` 중복을 제거하지 않은 text4 의 단어들을 모두 소문자로 바꾸고, 집합으로 형변환 함으로서 중복을 제거함. 따라서 GNT 와 gnt 가 모두 gnt 로 변한 뒤에, 중복이 제거 되었기에 개수에 차이가 존재한다.!"
   ]
  },
  {
   "cell_type": "markdown",
   "id": "416364ad",
   "metadata": {},
   "source": [
    "### NLTK\n",
    "- Frequency Distribution : 단어가 몇번 출현했는지 (빈도수)\n",
    "- 텍스트의 성질 알기 위해 \n",
    "    - 단어 개수\n",
    "    - 단어 빈도수\n",
    "- `FreqDist(text)`"
   ]
  },
  {
   "cell_type": "code",
   "execution_count": 69,
   "id": "b9080c0b",
   "metadata": {},
   "outputs": [
    {
     "data": {
      "text/plain": [
       "FreqDist({',': 18713, 'the': 13721, '.': 6862, 'of': 6536, 'and': 6024, 'a': 4569, 'to': 4542, ';': 4072, 'in': 3916, 'that': 2982, ...})"
      ]
     },
     "execution_count": 69,
     "metadata": {},
     "output_type": "execute_result"
    }
   ],
   "source": [
    "fdist = FreqDist(text1)\n",
    "fdist #딕셔너리 형태로 반환된다.\n",
    "#','가 18713번 나타났다 ..."
   ]
  },
  {
   "cell_type": "code",
   "execution_count": 71,
   "id": "f4322755",
   "metadata": {},
   "outputs": [
    {
     "data": {
      "text/plain": [
       "[(',', 18713),\n",
       " ('the', 13721),\n",
       " ('.', 6862),\n",
       " ('of', 6536),\n",
       " ('and', 6024),\n",
       " ('a', 4569),\n",
       " ('to', 4542),\n",
       " (';', 4072),\n",
       " ('in', 3916),\n",
       " ('that', 2982)]"
      ]
     },
     "execution_count": 71,
     "metadata": {},
     "output_type": "execute_result"
    }
   ],
   "source": [
    "fdist.most_common(10) #가장 빈번한 것 몇개를 보여줌"
   ]
  },
  {
   "cell_type": "code",
   "execution_count": 73,
   "id": "63b53083",
   "metadata": {},
   "outputs": [
    {
     "data": {
      "text/plain": [
       "2982"
      ]
     },
     "execution_count": 73,
     "metadata": {},
     "output_type": "execute_result"
    }
   ],
   "source": [
    "fdist['that'] #that이 몇번 나왔는지 알 수 있음."
   ]
  },
  {
   "cell_type": "code",
   "execution_count": 74,
   "id": "91f83cc6",
   "metadata": {},
   "outputs": [
    {
     "data": {
      "text/plain": [
       "2982"
      ]
     },
     "execution_count": 74,
     "metadata": {},
     "output_type": "execute_result"
    }
   ],
   "source": [
    "text1.count('that') #위와 똑같은 역할"
   ]
  },
  {
   "cell_type": "code",
   "execution_count": 75,
   "id": "48a4591d",
   "metadata": {},
   "outputs": [
    {
     "data": {
      "text/plain": [
       "0.011433216138394826"
      ]
     },
     "execution_count": 75,
     "metadata": {},
     "output_type": "execute_result"
    }
   ],
   "source": [
    "fdist.freq('that') #전체에서 몇퍼센트를 차지하는지"
   ]
  },
  {
   "cell_type": "code",
   "execution_count": 76,
   "id": "e4b5093f",
   "metadata": {},
   "outputs": [
    {
     "data": {
      "image/png": "[encoded data removed]",
      "text/plain": [
       "<Figure size 432x288 with 1 Axes>"
      ]
     },
     "metadata": {
      "needs_background": "light"
     },
     "output_type": "display_data"
    },
    {
     "data": {
      "text/plain": [
       "<AxesSubplot:xlabel='Samples', ylabel='Cumulative Counts'>"
      ]
     },
     "execution_count": 76,
     "metadata": {},
     "output_type": "execute_result"
    }
   ],
   "source": [
    "fdist.plot(50,cumulative=True) #가장 빈번한 단어에서 빈번하지 않은 (곡선이 완화될수록 덜 나타난 단어)"
   ]
  },
  {
   "cell_type": "code",
   "execution_count": 80,
   "id": "0daf7b18",
   "metadata": {},
   "outputs": [
    {
     "name": "stdout",
     "output_type": "stream",
     "text": [
      "9002\n"
     ]
    },
    {
     "data": {
      "text/plain": [
       "8815"
      ]
     },
     "execution_count": 80,
     "metadata": {},
     "output_type": "execute_result"
    }
   ],
   "source": [
    "# 가장 빈번하지 않은 => 1번만 나타나는 단어들\n",
    "#알파벳만\n",
    "fdist.hapaxes()\n",
    "print(len(fdist.hapaxes()))\n",
    "a = set([word for word in fdist.hapaxes() if word.isalpha()])\n",
    "len(a)"
   ]
  },
  {
   "cell_type": "code",
   "execution_count": 82,
   "id": "4e56dbd8",
   "metadata": {},
   "outputs": [
    {
     "data": {
      "text/plain": [
       "14431"
      ]
     },
     "execution_count": 82,
     "metadata": {},
     "output_type": "execute_result"
    }
   ],
   "source": [
    "#전체 다 소문자로 만들고 빈도수 세기\n",
    "fdist2 = FreqDist([word.lower() for word in text1])\n",
    "fdist2['the']"
   ]
  },
  {
   "cell_type": "code",
   "execution_count": 83,
   "id": "2fdf9f0a",
   "metadata": {},
   "outputs": [
    {
     "data": {
      "text/plain": [
       "0"
      ]
     },
     "execution_count": 83,
     "metadata": {},
     "output_type": "execute_result"
    }
   ],
   "source": [
    "fdist2['The']"
   ]
  },
  {
   "cell_type": "code",
   "execution_count": 92,
   "id": "0c562091",
   "metadata": {},
   "outputs": [
    {
     "ename": "KeyboardInterrupt",
     "evalue": "",
     "output_type": "error",
     "traceback": [
      "\u001b[0;31m---------------------------------------------------------------------------\u001b[0m",
      "\u001b[0;31mKeyboardInterrupt\u001b[0m                         Traceback (most recent call last)",
      "\u001b[0;32m/var/folders/m_/dw2g6cv578x3b79x2j4mhq_m0000gn/T/ipykernel_26990/400589400.py\u001b[0m in \u001b[0;36m<module>\u001b[0;34m\u001b[0m\n\u001b[1;32m      1\u001b[0m \u001b[0;31m#text2에서 길이가 3자이하 빈도수가 5이상\u001b[0m\u001b[0;34m\u001b[0m\u001b[0;34m\u001b[0m\u001b[0m\n\u001b[1;32m      2\u001b[0m \u001b[0;34m\u001b[0m\u001b[0m\n\u001b[0;32m----> 3\u001b[0;31m \u001b[0;34m[\u001b[0m\u001b[0mword\u001b[0m \u001b[0;32mfor\u001b[0m \u001b[0mword\u001b[0m \u001b[0;32min\u001b[0m \u001b[0mtext2\u001b[0m\u001b[0;34m.\u001b[0m\u001b[0mtokens\u001b[0m \u001b[0;32mif\u001b[0m \u001b[0mlen\u001b[0m\u001b[0;34m(\u001b[0m\u001b[0mword\u001b[0m\u001b[0;34m)\u001b[0m\u001b[0;34m<=\u001b[0m\u001b[0;36m3\u001b[0m \u001b[0;32mand\u001b[0m \u001b[0mtext2\u001b[0m\u001b[0;34m.\u001b[0m\u001b[0mcount\u001b[0m\u001b[0;34m(\u001b[0m\u001b[0mword\u001b[0m\u001b[0;34m)\u001b[0m\u001b[0;34m>=\u001b[0m\u001b[0;36m5\u001b[0m\u001b[0;34m]\u001b[0m\u001b[0;34m\u001b[0m\u001b[0;34m\u001b[0m\u001b[0m\n\u001b[0m",
      "\u001b[0;32m/var/folders/m_/dw2g6cv578x3b79x2j4mhq_m0000gn/T/ipykernel_26990/400589400.py\u001b[0m in \u001b[0;36m<listcomp>\u001b[0;34m(.0)\u001b[0m\n\u001b[1;32m      1\u001b[0m \u001b[0;31m#text2에서 길이가 3자이하 빈도수가 5이상\u001b[0m\u001b[0;34m\u001b[0m\u001b[0;34m\u001b[0m\u001b[0m\n\u001b[1;32m      2\u001b[0m \u001b[0;34m\u001b[0m\u001b[0m\n\u001b[0;32m----> 3\u001b[0;31m \u001b[0;34m[\u001b[0m\u001b[0mword\u001b[0m \u001b[0;32mfor\u001b[0m \u001b[0mword\u001b[0m \u001b[0;32min\u001b[0m \u001b[0mtext2\u001b[0m\u001b[0;34m.\u001b[0m\u001b[0mtokens\u001b[0m \u001b[0;32mif\u001b[0m \u001b[0mlen\u001b[0m\u001b[0;34m(\u001b[0m\u001b[0mword\u001b[0m\u001b[0;34m)\u001b[0m\u001b[0;34m<=\u001b[0m\u001b[0;36m3\u001b[0m \u001b[0;32mand\u001b[0m \u001b[0mtext2\u001b[0m\u001b[0;34m.\u001b[0m\u001b[0mcount\u001b[0m\u001b[0;34m(\u001b[0m\u001b[0mword\u001b[0m\u001b[0;34m)\u001b[0m\u001b[0;34m>=\u001b[0m\u001b[0;36m5\u001b[0m\u001b[0;34m]\u001b[0m\u001b[0;34m\u001b[0m\u001b[0;34m\u001b[0m\u001b[0m\n\u001b[0m",
      "\u001b[0;32m~/opt/anaconda3/lib/python3.9/site-packages/nltk/text.py\u001b[0m in \u001b[0;36mcount\u001b[0;34m(self, word)\u001b[0m\n\u001b[1;32m    465\u001b[0m         \u001b[0mCount\u001b[0m \u001b[0mthe\u001b[0m \u001b[0mnumber\u001b[0m \u001b[0mof\u001b[0m \u001b[0mtimes\u001b[0m \u001b[0mthis\u001b[0m \u001b[0mword\u001b[0m \u001b[0mappears\u001b[0m \u001b[0;32min\u001b[0m \u001b[0mthe\u001b[0m \u001b[0mtext\u001b[0m\u001b[0;34m.\u001b[0m\u001b[0;34m\u001b[0m\u001b[0;34m\u001b[0m\u001b[0m\n\u001b[1;32m    466\u001b[0m         \"\"\"\n\u001b[0;32m--> 467\u001b[0;31m         \u001b[0;32mreturn\u001b[0m \u001b[0mself\u001b[0m\u001b[0;34m.\u001b[0m\u001b[0mtokens\u001b[0m\u001b[0;34m.\u001b[0m\u001b[0mcount\u001b[0m\u001b[0;34m(\u001b[0m\u001b[0mword\u001b[0m\u001b[0;34m)\u001b[0m\u001b[0;34m\u001b[0m\u001b[0;34m\u001b[0m\u001b[0m\n\u001b[0m\u001b[1;32m    468\u001b[0m \u001b[0;34m\u001b[0m\u001b[0m\n\u001b[1;32m    469\u001b[0m     \u001b[0;32mdef\u001b[0m \u001b[0mindex\u001b[0m\u001b[0;34m(\u001b[0m\u001b[0mself\u001b[0m\u001b[0;34m,\u001b[0m \u001b[0mword\u001b[0m\u001b[0;34m)\u001b[0m\u001b[0;34m:\u001b[0m\u001b[0;34m\u001b[0m\u001b[0;34m\u001b[0m\u001b[0m\n",
      "\u001b[0;31mKeyboardInterrupt\u001b[0m: "
     ]
    }
   ],
   "source": [
    "#text2에서 길이가 3자이하 빈도수가 5이상\n",
    "# 너무 오래걸림. 비효율적 -> 오류메시지는 중단해서 생기는 오류\n",
    "[word for word in text2.tokens if len(word)<=3 and text2.count(word)>=5]"
   ]
  },
  {
   "cell_type": "code",
   "execution_count": 95,
   "id": "b4764085",
   "metadata": {},
   "outputs": [
    {
     "data": {
      "text/plain": [
       "['and',\n",
       " 'CHAPTER',\n",
       " 'The',\n",
       " 'family',\n",
       " 'Dashwood',\n",
       " 'had',\n",
       " 'long',\n",
       " 'been',\n",
       " 'settled',\n",
       " 'Sussex',\n",
       " 'Their',\n",
       " 'estate',\n",
       " 'was',\n",
       " 'large',\n",
       " 'their',\n",
       " 'residence',\n",
       " 'Norland',\n",
       " 'Park',\n",
       " 'the',\n",
       " 'property',\n",
       " 'where',\n",
       " 'for',\n",
       " 'many',\n",
       " 'they',\n",
       " 'lived',\n",
       " 'respectable',\n",
       " 'manner',\n",
       " 'engage',\n",
       " 'general',\n",
       " 'good',\n",
       " 'opinion',\n",
       " 'acquaintance',\n",
       " 'late',\n",
       " 'this',\n",
       " 'single',\n",
       " 'man',\n",
       " 'who',\n",
       " 'very',\n",
       " 'advanced',\n",
       " 'age',\n",
       " 'years',\n",
       " 'his',\n",
       " 'life',\n",
       " 'constant',\n",
       " 'companion',\n",
       " 'housekeeper',\n",
       " 'sister',\n",
       " 'But',\n",
       " 'her',\n",
       " 'death',\n",
       " 'which',\n",
       " 'happened',\n",
       " 'ten',\n",
       " 'before',\n",
       " 'own',\n",
       " 'produced',\n",
       " 'great',\n",
       " 'alteration',\n",
       " 'home',\n",
       " 'supply',\n",
       " 'loss',\n",
       " 'invited',\n",
       " 'received',\n",
       " 'into',\n",
       " 'house',\n",
       " 'person',\n",
       " 'whom',\n",
       " 'intended',\n",
       " 'society',\n",
       " 'children',\n",
       " 'old',\n",
       " 'days',\n",
       " 'were',\n",
       " 'comfortably',\n",
       " 'spent',\n",
       " 'His',\n",
       " 'attachment',\n",
       " 'them',\n",
       " 'all',\n",
       " 'increased',\n",
       " 'attention',\n",
       " 'Mrs',\n",
       " 'wishes',\n",
       " 'proceeded',\n",
       " 'not',\n",
       " 'merely',\n",
       " 'from',\n",
       " 'interest',\n",
       " 'but',\n",
       " 'goodness',\n",
       " 'heart',\n",
       " 'gave',\n",
       " 'him',\n",
       " 'every',\n",
       " 'degree',\n",
       " 'comfort',\n",
       " 'could',\n",
       " 'receive',\n",
       " 'cheerfulness',\n",
       " 'added',\n",
       " 'existence',\n",
       " 'former',\n",
       " 'marriage',\n",
       " 'one',\n",
       " 'son',\n",
       " 'present',\n",
       " 'lady',\n",
       " 'three',\n",
       " 'daughters',\n",
       " 'steady',\n",
       " 'young',\n",
       " 'provided',\n",
       " 'fortune',\n",
       " 'mother',\n",
       " 'half',\n",
       " 'coming',\n",
       " 'likewise',\n",
       " 'soon',\n",
       " 'afterwards',\n",
       " 'wealth',\n",
       " 'therefore',\n",
       " 'really',\n",
       " 'important',\n",
       " 'sisters',\n",
       " 'independent',\n",
       " 'what',\n",
       " 'might',\n",
       " 'arise',\n",
       " 'father',\n",
       " 'that',\n",
       " 'small',\n",
       " 'nothing',\n",
       " 'only',\n",
       " 'seven',\n",
       " 'thousand',\n",
       " 'pounds',\n",
       " 'disposal',\n",
       " 'remaining',\n",
       " 'first',\n",
       " 'wife',\n",
       " 'also',\n",
       " 'secured',\n",
       " 'child',\n",
       " 'gentleman',\n",
       " 'died',\n",
       " 'will',\n",
       " 'read',\n",
       " 'like',\n",
       " 'almost',\n",
       " 'other',\n",
       " 'much',\n",
       " 'disappointment',\n",
       " 'pleasure',\n",
       " 'neither',\n",
       " 'unjust',\n",
       " 'nor',\n",
       " 'leave',\n",
       " ';--',\n",
       " 'left',\n",
       " 'such',\n",
       " 'terms',\n",
       " 'value',\n",
       " 'wished',\n",
       " 'more',\n",
       " 'sake',\n",
       " 'than',\n",
       " 'himself',\n",
       " 'four',\n",
       " 'way',\n",
       " 'power',\n",
       " 'those',\n",
       " 'most',\n",
       " 'dear',\n",
       " 'needed',\n",
       " 'any',\n",
       " 'charge',\n",
       " 'its',\n",
       " 'valuable',\n",
       " 'woods',\n",
       " 'whole',\n",
       " 'occasional',\n",
       " 'with',\n",
       " 'far',\n",
       " 'gained',\n",
       " 'affections',\n",
       " 'uncle',\n",
       " 'attractions',\n",
       " 'are',\n",
       " 'means',\n",
       " 'two',\n",
       " 'earnest',\n",
       " 'desire',\n",
       " 'having',\n",
       " 'deal',\n",
       " 'noise',\n",
       " 'meant',\n",
       " 'unkind',\n",
       " 'however',\n",
       " 'mark',\n",
       " 'affection',\n",
       " 'girls',\n",
       " 'piece',\n",
       " 'severe',\n",
       " 'temper',\n",
       " 'cheerful',\n",
       " 'sanguine',\n",
       " 'reasonably',\n",
       " 'hope',\n",
       " 'live',\n",
       " 'living',\n",
       " 'lay',\n",
       " 'considerable',\n",
       " 'sum',\n",
       " 'produce',\n",
       " 'already',\n",
       " 'capable',\n",
       " 'immediate',\n",
       " 'improvement',\n",
       " 'twelvemonth',\n",
       " 'longer',\n",
       " 'remained',\n",
       " 'widow',\n",
       " 'sent',\n",
       " 'danger',\n",
       " 'known',\n",
       " 'recommended',\n",
       " 'strength',\n",
       " 'illness',\n",
       " 'command',\n",
       " 'law',\n",
       " 'John',\n",
       " 'strong',\n",
       " 'feelings',\n",
       " 'rest',\n",
       " 'affected',\n",
       " 'nature',\n",
       " 'time',\n",
       " 'promised',\n",
       " 'thing',\n",
       " 'make',\n",
       " 'comfortable',\n",
       " 'rendered',\n",
       " 'easy',\n",
       " 'assurance',\n",
       " 'then',\n",
       " 'leisure',\n",
       " 'consider',\n",
       " 'how',\n",
       " 'there',\n",
       " 'ill',\n",
       " 'disposed',\n",
       " 'rather',\n",
       " 'cold',\n",
       " 'hearted',\n",
       " 'selfish',\n",
       " 'well',\n",
       " 'propriety',\n",
       " 'ordinary',\n",
       " 'Had',\n",
       " 'married',\n",
       " 'amiable',\n",
       " 'woman',\n",
       " 'have',\n",
       " 'made',\n",
       " 'still',\n",
       " ':--',\n",
       " 'even',\n",
       " 'when',\n",
       " 'fond',\n",
       " 'narrow',\n",
       " 'When',\n",
       " 'promise',\n",
       " 'within',\n",
       " 'increase',\n",
       " 'thought',\n",
       " 'equal',\n",
       " 'prospect',\n",
       " 'year',\n",
       " 'addition',\n",
       " 'income',\n",
       " 'besides',\n",
       " 'feel',\n",
       " 'generosity',\n",
       " '.--',\n",
       " 'Yes',\n",
       " 'would',\n",
       " 'give',\n",
       " 'liberal',\n",
       " 'handsome',\n",
       " 'enough',\n",
       " 'completely',\n",
       " 'spare',\n",
       " 'little',\n",
       " 'inconvenience',\n",
       " '.\"--',\n",
       " 'day',\n",
       " 'did',\n",
       " 'sooner',\n",
       " 'over',\n",
       " 'without',\n",
       " 'sending',\n",
       " 'notice',\n",
       " 'intention',\n",
       " 'arrived',\n",
       " 'right',\n",
       " 'come',\n",
       " 'husband',\n",
       " 'moment',\n",
       " 'conduct',\n",
       " 'greater',\n",
       " 'situation',\n",
       " 'common',\n",
       " 'must',\n",
       " 'highly',\n",
       " 'HER',\n",
       " 'mind',\n",
       " 'sense',\n",
       " 'offence',\n",
       " 'kind',\n",
       " 'given',\n",
       " 'source',\n",
       " 'never',\n",
       " 'favourite',\n",
       " 'she',\n",
       " 'opportunity',\n",
       " 'till',\n",
       " 'shewing',\n",
       " 'people',\n",
       " 'act',\n",
       " 'occasion',\n",
       " 'required',\n",
       " 'behaviour',\n",
       " 'earnestly',\n",
       " 'daughter',\n",
       " 'arrival',\n",
       " 'latter',\n",
       " 'quitted',\n",
       " 'ever',\n",
       " 'entreaty',\n",
       " 'eldest',\n",
       " 'girl',\n",
       " 'induced',\n",
       " 'reflect',\n",
       " 'going',\n",
       " 'tender',\n",
       " 'love',\n",
       " 'determined',\n",
       " 'stay',\n",
       " 'avoid',\n",
       " 'breach',\n",
       " 'brother',\n",
       " 'Elinor',\n",
       " 'whose',\n",
       " 'advice',\n",
       " 'understanding',\n",
       " 'judgment',\n",
       " 'though',\n",
       " 'nineteen',\n",
       " 'frequently',\n",
       " 'advantage',\n",
       " 'eagerness',\n",
       " 'generally',\n",
       " 'led',\n",
       " 'imprudence',\n",
       " 'She',\n",
       " 'excellent',\n",
       " 'disposition',\n",
       " 'affectionate',\n",
       " 'knew',\n",
       " 'knowledge',\n",
       " 'yet',\n",
       " 'learn',\n",
       " 'resolved',\n",
       " 'Marianne',\n",
       " 'abilities',\n",
       " 'quite',\n",
       " 'sensible',\n",
       " 'clever',\n",
       " 'eager',\n",
       " 'everything',\n",
       " 'sorrows',\n",
       " 'generous',\n",
       " 'interesting',\n",
       " 'prudent',\n",
       " 'resemblance',\n",
       " 'between',\n",
       " 'saw',\n",
       " 'concern',\n",
       " 'excess',\n",
       " 'sensibility',\n",
       " 'valued',\n",
       " 'They',\n",
       " 'encouraged',\n",
       " 'each',\n",
       " 'now',\n",
       " 'affliction',\n",
       " 'agony',\n",
       " 'grief',\n",
       " 'voluntarily',\n",
       " 'sought',\n",
       " 'again',\n",
       " 'themselves',\n",
       " 'wholly',\n",
       " 'sorrow',\n",
       " 'seeking',\n",
       " 'wretchedness',\n",
       " 'reflection',\n",
       " 'afford',\n",
       " 'against',\n",
       " 'consolation',\n",
       " 'future',\n",
       " 'too',\n",
       " 'deeply',\n",
       " 'struggle',\n",
       " 'exert',\n",
       " 'herself',\n",
       " 'treat',\n",
       " 'proper',\n",
       " 'similar',\n",
       " 'exertion',\n",
       " 'Margaret',\n",
       " 'fair',\n",
       " 'period',\n",
       " 'mistress',\n",
       " 'condition',\n",
       " 'visitors',\n",
       " 'treated',\n",
       " 'quiet',\n",
       " 'civility',\n",
       " 'kindness',\n",
       " 'towards',\n",
       " 'anybody',\n",
       " 'beyond',\n",
       " 'pressed',\n",
       " 'some',\n",
       " 'earnestness',\n",
       " 'plan',\n",
       " 'appeared',\n",
       " 'eligible',\n",
       " 'neighbourhood',\n",
       " 'invitation',\n",
       " 'accepted',\n",
       " 'continuance',\n",
       " 'place',\n",
       " 'delight',\n",
       " 'exactly',\n",
       " 'suited',\n",
       " 'hers',\n",
       " 'expectation',\n",
       " 'happiness',\n",
       " 'itself',\n",
       " 'equally',\n",
       " 'carried',\n",
       " 'away',\n",
       " 'fancy',\n",
       " 'approve',\n",
       " 'take',\n",
       " 'boy',\n",
       " 'dreadful',\n",
       " 'begged',\n",
       " 'think',\n",
       " 'subject',\n",
       " 'How',\n",
       " 'answer',\n",
       " 'And',\n",
       " 'possible',\n",
       " 'claim',\n",
       " 'Miss',\n",
       " 'Dashwoods',\n",
       " 'related',\n",
       " 'considered',\n",
       " 'supposed',\n",
       " 'different',\n",
       " 'why',\n",
       " 'ruin',\n",
       " 'poor',\n",
       " 'Harry',\n",
       " 'giving',\n",
       " 'money',\n",
       " 'last',\n",
       " 'request',\n",
       " 'replied',\n",
       " 'should',\n",
       " 'assist',\n",
       " 'know',\n",
       " 'talking',\n",
       " 'dare',\n",
       " 'say',\n",
       " 'light',\n",
       " 'you',\n",
       " 'your',\n",
       " 'particular',\n",
       " 'Fanny',\n",
       " 'Perhaps',\n",
       " 'myself',\n",
       " 'hardly',\n",
       " 'suppose',\n",
       " 'less',\n",
       " 'least',\n",
       " 'performed',\n",
       " 'done',\n",
       " 'whenever',\n",
       " 'settle',\n",
       " 'new',\n",
       " 'Well',\n",
       " 'something',\n",
       " 'THAT',\n",
       " 'need',\n",
       " 'once',\n",
       " 'parted',\n",
       " 'can',\n",
       " 'return',\n",
       " 'Your',\n",
       " 'marry',\n",
       " 'gone',\n",
       " 'indeed',\n",
       " 'restored',\n",
       " 'our',\n",
       " '--\"',\n",
       " 'Why',\n",
       " 'sure',\n",
       " 'said',\n",
       " 'difference',\n",
       " 'may',\n",
       " 'regret',\n",
       " 'instance',\n",
       " 'better',\n",
       " 'parties',\n",
       " 'hundred',\n",
       " 'anything',\n",
       " 'What',\n",
       " 'earth',\n",
       " '!--',\n",
       " 'spirit',\n",
       " 'wish',\n",
       " 'mean',\n",
       " 'One',\n",
       " 'expect',\n",
       " 'There',\n",
       " 'knowing',\n",
       " 'expectations',\n",
       " 'question',\n",
       " 'Certainly',\n",
       " 'five',\n",
       " 'mine',\n",
       " 'about',\n",
       " 'want',\n",
       " 'divided',\n",
       " 'amongst',\n",
       " 'doing',\n",
       " 'together',\n",
       " 'That',\n",
       " 'true',\n",
       " 'whether',\n",
       " 'upon',\n",
       " 'advisable',\n",
       " 'while',\n",
       " 'lives',\n",
       " 'effects',\n",
       " 'perfectly',\n",
       " 'consent',\n",
       " 'parting',\n",
       " 'shall',\n",
       " 'taken',\n",
       " 'cannot',\n",
       " 'worth',\n",
       " 'observe',\n",
       " 'always',\n",
       " 'paid',\n",
       " 'serious',\n",
       " 'business',\n",
       " 'comes',\n",
       " 'getting',\n",
       " 'You',\n",
       " 'aware',\n",
       " 'trouble',\n",
       " 'servants',\n",
       " 'found',\n",
       " 'these',\n",
       " 'turned',\n",
       " 'out',\n",
       " 'Her',\n",
       " 'claims',\n",
       " 'because',\n",
       " 'otherwise',\n",
       " 'entirely',\n",
       " 'whatever',\n",
       " 'has',\n",
       " 'down',\n",
       " 'world',\n",
       " 'certainly',\n",
       " 'unpleasant',\n",
       " 'justly',\n",
       " 'says',\n",
       " 'NOT',\n",
       " 'desirable',\n",
       " 'takes',\n",
       " 'independence',\n",
       " 'after',\n",
       " 'thanks',\n",
       " 'secure',\n",
       " 'expected',\n",
       " 'gratitude',\n",
       " 'discretion',\n",
       " 'allow',\n",
       " 'fifty',\n",
       " 'expenses',\n",
       " 'believe',\n",
       " 'case',\n",
       " 'assistance',\n",
       " 'style',\n",
       " 'felt',\n",
       " 'end',\n",
       " 'best',\n",
       " 'prevent',\n",
       " 'being',\n",
       " 'distressed',\n",
       " 'Indeed',\n",
       " 'truth',\n",
       " 'convinced',\n",
       " 'idea',\n",
       " 'looking',\n",
       " 'things',\n",
       " 'game',\n",
       " 'forth',\n",
       " 'season',\n",
       " 'farther',\n",
       " 'strange',\n",
       " 'excessively',\n",
       " 'belonging',\n",
       " 'course',\n",
       " 'pay',\n",
       " 'women',\n",
       " '?--',\n",
       " 'carriage',\n",
       " 'horses',\n",
       " 'keep',\n",
       " 'company',\n",
       " 'Only',\n",
       " 'conceive',\n",
       " 'imagine',\n",
       " 'spend',\n",
       " 'able',\n",
       " 'YOU',\n",
       " 'Upon',\n",
       " 'word',\n",
       " 'understand',\n",
       " 'engagement',\n",
       " 'described',\n",
       " 'another',\n",
       " 'readily',\n",
       " 'Some',\n",
       " 'furniture',\n",
       " 'returned',\n",
       " 'ONE',\n",
       " 'moved',\n",
       " 'sold',\n",
       " 'saved',\n",
       " 'fitted',\n",
       " 'material',\n",
       " 'consideration',\n",
       " 'undoubtedly',\n",
       " 'pleasant',\n",
       " 'here',\n",
       " 'set',\n",
       " 'breakfast',\n",
       " 'twice',\n",
       " 'THEM',\n",
       " 'owe',\n",
       " 'This',\n",
       " 'intentions',\n",
       " 'wanting',\n",
       " 'finally',\n",
       " 'absolutely',\n",
       " 'unnecessary',\n",
       " 'pointed',\n",
       " 'several',\n",
       " 'months',\n",
       " 'sight',\n",
       " 'spot',\n",
       " 'ceased',\n",
       " 'raise',\n",
       " 'violent',\n",
       " 'emotion',\n",
       " 'spirits',\n",
       " 'began',\n",
       " 'became',\n",
       " 'melancholy',\n",
       " 'impatient',\n",
       " 'inquiries',\n",
       " 'dwelling',\n",
       " 'remove',\n",
       " 'beloved',\n",
       " 'impossible',\n",
       " 'hear',\n",
       " 'answered',\n",
       " 'ease',\n",
       " 'prudence',\n",
       " 'houses',\n",
       " 'informed',\n",
       " 'part',\n",
       " 'favour',\n",
       " 'reflections',\n",
       " 'doubted',\n",
       " 'sincerity',\n",
       " 'satisfaction',\n",
       " 'persuaded',\n",
       " 'support',\n",
       " 'For',\n",
       " 'rejoiced',\n",
       " 'merit',\n",
       " 'believing',\n",
       " 'attentive',\n",
       " 'liberality',\n",
       " 'contempt',\n",
       " 'early',\n",
       " 'character',\n",
       " 'afforded',\n",
       " 'perhaps',\n",
       " 'spite',\n",
       " 'politeness',\n",
       " 'side',\n",
       " 'ladies',\n",
       " 'circumstance',\n",
       " 'occurred',\n",
       " 'opinions',\n",
       " 'growing',\n",
       " 'pleasing',\n",
       " 'introduced',\n",
       " 'establishment',\n",
       " 'since',\n",
       " 'greatest',\n",
       " 'intimacy',\n",
       " 'motives',\n",
       " 'Edward',\n",
       " 'Ferrars',\n",
       " 'rich',\n",
       " 'except',\n",
       " 'trifling',\n",
       " 'depended',\n",
       " 'alike',\n",
       " 'either',\n",
       " 'loved',\n",
       " 'partiality',\n",
       " 'contrary',\n",
       " 'couple',\n",
       " 'acknowledged',\n",
       " 'peculiar',\n",
       " 'address',\n",
       " 'manners',\n",
       " 'justice',\n",
       " 'natural',\n",
       " 'shyness',\n",
       " 'overcome',\n",
       " 'open',\n",
       " 'education',\n",
       " 'see',\n",
       " 'distinguished',\n",
       " 'wanted',\n",
       " 'fine',\n",
       " 'figure',\n",
       " 'concerns',\n",
       " 'get',\n",
       " 'connected',\n",
       " 'men',\n",
       " 'superior',\n",
       " 'turn',\n",
       " 'All',\n",
       " 'domestic',\n",
       " 'private',\n",
       " 'younger',\n",
       " 'promising',\n",
       " 'staying',\n",
       " 'weeks',\n",
       " 'engaged',\n",
       " 'objects',\n",
       " 'liked',\n",
       " 'disturb',\n",
       " 'conversation',\n",
       " 'called',\n",
       " 'unlike',\n",
       " 'smile',\n",
       " 'approbation',\n",
       " 'esteem',\n",
       " 'took',\n",
       " 'acquainted',\n",
       " 'reserve',\n",
       " 'speedily',\n",
       " 'merits',\n",
       " 'persuasion',\n",
       " 'regard',\n",
       " 'assisted',\n",
       " 'assured',\n",
       " 'established',\n",
       " 'ideas',\n",
       " 'ought',\n",
       " 'warm',\n",
       " 'perceive',\n",
       " 'symptom',\n",
       " 'certain',\n",
       " 'looked',\n",
       " 'forward',\n",
       " 'few',\n",
       " 'probability',\n",
       " 'SHE',\n",
       " 'happy',\n",
       " 'Mamma',\n",
       " 'scarcely',\n",
       " 'separation',\n",
       " 'miles',\n",
       " 'meet',\n",
       " 'gain',\n",
       " 'real',\n",
       " 'look',\n",
       " 'grave',\n",
       " 'choice',\n",
       " 'surprise',\n",
       " 'striking',\n",
       " 'none',\n",
       " 'seriously',\n",
       " 'attach',\n",
       " 'eyes',\n",
       " 'fire',\n",
       " 'announce',\n",
       " 'intelligence',\n",
       " 'afraid',\n",
       " 'taste',\n",
       " 'seems',\n",
       " 'admiration',\n",
       " 'evident',\n",
       " 'frequent',\n",
       " 'fact',\n",
       " 'knows',\n",
       " 'matter',\n",
       " 'lover',\n",
       " 'satisfy',\n",
       " 'united',\n",
       " 'point',\n",
       " 'enter',\n",
       " 'same',\n",
       " 'books',\n",
       " 'music',\n",
       " 'both',\n",
       " 'mama',\n",
       " 'reading',\n",
       " 'night',\n",
       " 'Yet',\n",
       " 'composure',\n",
       " 'seemed',\n",
       " 'seat',\n",
       " 'beautiful',\n",
       " 'calmness',\n",
       " 'indifference',\n",
       " '!\"--',\n",
       " 'simple',\n",
       " 'elegant',\n",
       " 'WOULD',\n",
       " 'Nay',\n",
       " 'animated',\n",
       " 'broke',\n",
       " 'Remember',\n",
       " 'seventeen',\n",
       " 'pity',\n",
       " 'drawing',\n",
       " 'does',\n",
       " 'draw',\n",
       " 'seeing',\n",
       " 'assure',\n",
       " 'deficient',\n",
       " 'improving',\n",
       " 'drawn',\n",
       " 'matters',\n",
       " 'unwilling',\n",
       " 'picture',\n",
       " 'direct',\n",
       " 'excited',\n",
       " 'alone',\n",
       " 'smiling',\n",
       " 'mistake',\n",
       " 'blind',\n",
       " 'continued',\n",
       " 'civil',\n",
       " 'wound',\n",
       " 'account',\n",
       " 'length',\n",
       " 'offended',\n",
       " 'praise',\n",
       " 'dearest',\n",
       " 'friends',\n",
       " 'dissatisfied',\n",
       " 'commendation',\n",
       " 'express',\n",
       " 'yourself',\n",
       " 'warmly',\n",
       " 'find',\n",
       " 'easily',\n",
       " 'pleased',\n",
       " 'doubt',\n",
       " 'seen',\n",
       " 'often',\n",
       " 'principles',\n",
       " 'concealed',\n",
       " 'silent',\n",
       " 'call',\n",
       " 'circumstances',\n",
       " 'kept',\n",
       " 'ignorant',\n",
       " 'times',\n",
       " 'thrown',\n",
       " 'principle',\n",
       " 'sentiments',\n",
       " 'heard',\n",
       " 'venture',\n",
       " 'enjoyment',\n",
       " 'exceedingly',\n",
       " 'imagination',\n",
       " 'lively',\n",
       " 'observation',\n",
       " 'just',\n",
       " 'delicate',\n",
       " 'respect',\n",
       " 'expression',\n",
       " 'uncommonly',\n",
       " 'countenance',\n",
       " 'perceived',\n",
       " 'tell',\n",
       " 'face',\n",
       " 'started',\n",
       " 'declaration',\n",
       " 'sorry',\n",
       " 'warmth',\n",
       " 'betrayed',\n",
       " 'speaking',\n",
       " 'stood',\n",
       " 'high',\n",
       " 'believed',\n",
       " 'mutual',\n",
       " 'conviction',\n",
       " 'agreeable',\n",
       " 'next',\n",
       " 'tried',\n",
       " 'explain',\n",
       " 'state',\n",
       " 'attempt',\n",
       " 'deny',\n",
       " 'greatly',\n",
       " 'burst',\n",
       " 'indignation',\n",
       " 'worse',\n",
       " 'words',\n",
       " 'room',\n",
       " 'help',\n",
       " 'laughing',\n",
       " 'stronger',\n",
       " 'declared',\n",
       " 'short',\n",
       " 'suspicion',\n",
       " 'warrant',\n",
       " 'folly',\n",
       " 'moments',\n",
       " 'extent',\n",
       " 'fully',\n",
       " 'wonder',\n",
       " 'wishing',\n",
       " 'encouragement',\n",
       " 'calling',\n",
       " 'preference',\n",
       " 'points',\n",
       " 'inclination',\n",
       " 'mention',\n",
       " 'mistaken',\n",
       " 'difficulties',\n",
       " 'astonished',\n",
       " 'happen',\n",
       " 'proceed',\n",
       " 'delay',\n",
       " 'necessary',\n",
       " 'felicity',\n",
       " 'delightful',\n",
       " 'spoke',\n",
       " 'supposing',\n",
       " 'likely',\n",
       " 'attended',\n",
       " 'reasonable',\n",
       " 'cause',\n",
       " 'behaved',\n",
       " 'form',\n",
       " 'attending',\n",
       " 'views',\n",
       " 'With',\n",
       " 'result',\n",
       " 'sometimes',\n",
       " 'painful',\n",
       " 'minutes',\n",
       " 'friendship',\n",
       " 'resolution',\n",
       " 'sons',\n",
       " 'attempted',\n",
       " 'HIM',\n",
       " 'pretend',\n",
       " ...]"
      ]
     },
     "execution_count": 95,
     "metadata": {},
     "output_type": "execute_result"
    }
   ],
   "source": [
    "[word for (word,count) in FreqDist(text2).items() if len(word)>=3 and (count>=5)]\n",
    "#FreqDist 가 딕셔너리기 때문에 items 로 돌려야 한다."
   ]
  },
  {
   "cell_type": "markdown",
   "id": "b51db75b",
   "metadata": {},
   "source": [
    "### 리스트 <-> 스트링\n",
    "- split() : string.split(seperator) 스트링에서 리스트\n",
    "    - default = ' '\n",
    "- join() : seperator.join(string) 리스트에서 스트링"
   ]
  },
  {
   "cell_type": "code",
   "execution_count": 96,
   "id": "fea346df",
   "metadata": {},
   "outputs": [
    {
     "data": {
      "text/plain": [
       "['i', 'have', 'a', 'car']"
      ]
     },
     "execution_count": 96,
     "metadata": {},
     "output_type": "execute_result"
    }
   ],
   "source": [
    "sent = 'i have a car'\n",
    "sent.split()"
   ]
  },
  {
   "cell_type": "code",
   "execution_count": 97,
   "id": "a234e937",
   "metadata": {},
   "outputs": [
    {
     "data": {
      "text/plain": [
       "['i', ' have', ' a car']"
      ]
     },
     "execution_count": 97,
     "metadata": {},
     "output_type": "execute_result"
    }
   ],
   "source": [
    "sent = 'i, have, a car'\n",
    "sent.split(',')"
   ]
  },
  {
   "cell_type": "code",
   "execution_count": 100,
   "id": "b8b6d237",
   "metadata": {},
   "outputs": [
    {
     "data": {
      "text/plain": [
       "['i', 'have', 'a car']"
      ]
     },
     "execution_count": 100,
     "metadata": {},
     "output_type": "execute_result"
    }
   ],
   "source": [
    "[word.strip() for word in sent.split(',')] #공백이 없어짐"
   ]
  },
  {
   "cell_type": "code",
   "execution_count": 101,
   "id": "0591848e",
   "metadata": {},
   "outputs": [
    {
     "data": {
      "text/plain": [
       "'i have a car'"
      ]
     },
     "execution_count": 101,
     "metadata": {},
     "output_type": "execute_result"
    }
   ],
   "source": [
    "sent_tokens = [word.strip() for word in sent.split(',')]\n",
    "# 다시 한 문장으로 붙이고 싶음\n",
    "' '.join(sent_tokens)"
   ]
  },
  {
   "cell_type": "markdown",
   "id": "fdf19dc7",
   "metadata": {},
   "source": [
    "### 반복문 맛보기\n",
    "- 자료구조를 순회할 때 사용\n",
    "- 시작조건, 종료조건, 수행 명령\n",
    "- for 변수 in <반복 범위>:<br>\n",
    "    <들여쓰기> <수행명령>\n",
    "    \n",
    "- 리스트 컴프리헨션과 거의 동일\n",
    "- range는 숫자를 순회할 때"
   ]
  },
  {
   "cell_type": "code",
   "execution_count": 102,
   "id": "441bd66b",
   "metadata": {},
   "outputs": [
    {
     "data": {
      "text/plain": [
       "['i', 'have', 'a car']"
      ]
     },
     "execution_count": 102,
     "metadata": {},
     "output_type": "execute_result"
    }
   ],
   "source": [
    "[word for word in sent_tokens]"
   ]
  },
  {
   "cell_type": "code",
   "execution_count": 103,
   "id": "f7d2ef2d",
   "metadata": {},
   "outputs": [
    {
     "name": "stdout",
     "output_type": "stream",
     "text": [
      "i\n",
      "have\n",
      "a car\n"
     ]
    }
   ],
   "source": [
    "for word in sent_tokens:\n",
    "    print(word)"
   ]
  },
  {
   "cell_type": "code",
   "execution_count": 104,
   "id": "c9064f0d",
   "metadata": {},
   "outputs": [
    {
     "name": "stdout",
     "output_type": "stream",
     "text": [
      "1\n",
      "2\n",
      "3\n",
      "4\n",
      "5\n",
      "6\n",
      "7\n",
      "8\n",
      "9\n",
      "10\n"
     ]
    }
   ],
   "source": [
    "for i in range(1,11):\n",
    "    print(i)"
   ]
  },
  {
   "cell_type": "markdown",
   "id": "b0c3e878",
   "metadata": {},
   "source": [
    "### Ex\n",
    "- 1. text6에서 길이가 4자 이하인 알파벳 중 ie 를 포함하는 단어를 단어 개수로 출력하시오.\n",
    "        - 예: [1,2,4,3] i have a car\n",
    "        \n",
    "- 2. text2에서 ch로 끝나는 단어를 출력하는데\n",
    "    - 중복 없고\n",
    "    - 첫 글자와 ch 남기고 가운데는 모두 -로 가려라.\n",
    "        예: much -> m-ch \n",
    "        - ch로 시작하면 바꾸면 안됨.\n",
    "    - 정렬\n",
    "        - 문자 길이로 정렬하기"
   ]
  },
  {
   "cell_type": "code",
   "execution_count": 4,
   "id": "e8b73e29",
   "metadata": {
    "scrolled": true
   },
   "outputs": [
    {
     "data": {
      "text/plain": [
       "FreqDist({'Pie': 10, 'lies': 4, 'died': 3, 'die': 2, 'lie': 2, 'Lie': 1, 'tie': 1})"
      ]
     },
     "execution_count": 4,
     "metadata": {},
     "output_type": "execute_result"
    }
   ],
   "source": [
    "#1번 문제\n",
    "fdist = FreqDist([word for word in text6.tokens if len(word)<=4 and 'ie' in word])\n",
    "fdist"
   ]
  },
  {
   "cell_type": "code",
   "execution_count": 6,
   "id": "31433716",
   "metadata": {},
   "outputs": [
    {
     "data": {
      "text/plain": [
       "['M-ch',\n",
       " 'i-ch',\n",
       " 'm-ch',\n",
       " 'E-ch',\n",
       " 'e-ch',\n",
       " 's-ch',\n",
       " 'r-ch',\n",
       " 'S-ch',\n",
       " 'p--ch',\n",
       " 'm--ch',\n",
       " 'c--ch',\n",
       " 'c--ch',\n",
       " 'W--ch',\n",
       " 'w--ch',\n",
       " 'b--ch',\n",
       " 't--ch',\n",
       " 'f--ch',\n",
       " 'w--ch',\n",
       " 'M--ch',\n",
       " 'r--ch',\n",
       " 't--ch',\n",
       " 'b---ch',\n",
       " 's---ch',\n",
       " 'church',\n",
       " 's---ch',\n",
       " 's---ch',\n",
       " 'b---ch',\n",
       " 'e---ch',\n",
       " 'a---ch',\n",
       " 's----ch',\n",
       " 's----ch',\n",
       " 's----ch',\n",
       " 'd-----ch',\n",
       " 'a-----ch',\n",
       " 'd-----ch',\n",
       " 'r-----ch']"
      ]
     },
     "execution_count": 6,
     "metadata": {},
     "output_type": "execute_result"
    }
   ],
   "source": [
    "#2번 문제\n",
    "word_list = [word for word in set(text2.tokens) if word.endswith('ch')]\n",
    "new_words = []\n",
    "for word in word_list:\n",
    "    if word.startswith('ch'):\n",
    "        new_words.append(word)\n",
    "    else:\n",
    "        new_word = ''\n",
    "        for i in range(len(word)):\n",
    "            if i==0 or i==(len(word)-1) or i==(len(word)-2):\n",
    "                new_word+=word[i]\n",
    "            else:\n",
    "                new_word+='-'\n",
    "        new_words.append(new_word)\n",
    "           \n",
    "new_words.sort(key=len)\n",
    "new_words"
   ]
  }
 ],
 "metadata": {
  "kernelspec": {
   "display_name": "Python 3 (ipykernel)",
   "language": "python",
   "name": "python3"
  },
  "language_info": {
   "codemirror_mode": {
    "name": "ipython",
    "version": 3
   },
   "file_extension": ".py",
   "mimetype": "text/x-python",
   "name": "python",
   "nbconvert_exporter": "python",
   "pygments_lexer": "ipython3",
   "version": "3.9.7"
  }
 },
 "nbformat": 4,
 "nbformat_minor": 5
}
