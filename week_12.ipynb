{
 "cells": [
  {
   "cell_type": "markdown",
   "metadata": {},
   "source": [
    "### 함수 II\n",
    "- 중첩함수\n",
    "    - 캡슐화 목적\n",
    "        - 변수 범위 제한할 수 있음\n",
    "        - 책임, 관리 명확해짐\n",
    "- 제너레이터\n",
    "    \n",
    "- 재귀함수"
   ]
  },
  {
   "cell_type": "code",
   "execution_count": 1,
   "metadata": {},
   "outputs": [
    {
     "data": {
      "text/plain": [
       "4"
      ]
     },
     "execution_count": 1,
     "metadata": {},
     "output_type": "execute_result"
    }
   ],
   "source": [
    "def outer(a,b):\n",
    "    def inner(c,d):\n",
    "        return c+d\n",
    "    return inner(a,b)\n",
    "\n",
    "outer(2,2)"
   ]
  },
  {
   "cell_type": "code",
   "execution_count": 3,
   "metadata": {},
   "outputs": [
    {
     "ename": "NameError",
     "evalue": "name 'inner' is not defined",
     "output_type": "error",
     "traceback": [
      "\u001b[0;31m---------------------------------------------------------------------------\u001b[0m",
      "\u001b[0;31mNameError\u001b[0m                                 Traceback (most recent call last)",
      "\u001b[1;32m/Users/jinseunghui/Documents/3학년 1학기/고급파이썬프로그래밍/seungheejin_202003420/week_12.ipynb Cell 3'\u001b[0m in \u001b[0;36m<cell line: 1>\u001b[0;34m()\u001b[0m\n\u001b[0;32m----> <a href='vscode-notebook-cell:/Users/jinseunghui/Documents/3%ED%95%99%EB%85%84%201%ED%95%99%EA%B8%B0/%EA%B3%A0%EA%B8%89%ED%8C%8C%EC%9D%B4%EC%8D%AC%ED%94%84%EB%A1%9C%EA%B7%B8%EB%9E%98%EB%B0%8D/seungheejin_202003420/week_12.ipynb#ch0000005?line=0'>1</a>\u001b[0m inner(\u001b[39m2\u001b[39m,\u001b[39m3\u001b[39m)\n",
      "\u001b[0;31mNameError\u001b[0m: name 'inner' is not defined"
     ]
    }
   ],
   "source": [
    "inner(2,3) # error => 선언한 적 없다"
   ]
  },
  {
   "cell_type": "code",
   "execution_count": 4,
   "metadata": {},
   "outputs": [],
   "source": [
    "def knights(saying):\n",
    "    def inner(quote):\n",
    "        return f\"we are the knights who say {quote}\"\n",
    "    return inner(saying)\n",
    "\n",
    "case1 = knights(\"Ni!\")"
   ]
  },
  {
   "cell_type": "code",
   "execution_count": 5,
   "metadata": {},
   "outputs": [
    {
     "data": {
      "text/plain": [
       "'we are the knights who say Ni!'"
      ]
     },
     "execution_count": 5,
     "metadata": {},
     "output_type": "execute_result"
    }
   ],
   "source": [
    "case1"
   ]
  },
  {
   "cell_type": "markdown",
   "metadata": {},
   "source": [
    "클로저\n",
    "- 자신을 둘러싼 scope 의 상태값을 기억하는 함수\n",
    "- 메모리를 효율적으로 사용 가능하다 (함수 호출 시에 꺼내쓸 수 있다)\n",
    "- 조건\n",
    "    - 중첩함수여야 함\n",
    "    - 외부함수의 상태값 참조해야 함\n",
    "    - 외부함수가 내부함수를 반환해야 함"
   ]
  },
  {
   "cell_type": "code",
   "execution_count": 10,
   "metadata": {},
   "outputs": [
    {
     "data": {
      "text/plain": [
       "<function __main__.multiply(x)>"
      ]
     },
     "execution_count": 10,
     "metadata": {},
     "output_type": "execute_result"
    }
   ],
   "source": [
    "def multiply(x): #클로저 (closure)\n",
    "    def inner(y):\n",
    "        return x*y\n",
    "    return inner #함수 실행되기 전\n",
    "\n",
    "multiply #반환값은 함수"
   ]
  },
  {
   "cell_type": "code",
   "execution_count": 11,
   "metadata": {},
   "outputs": [],
   "source": [
    "m5 = multiply(5) #x가 5로 정해진 함수\n",
    "m6 = multiply(6) #x가 6으로 정해진 함수"
   ]
  },
  {
   "cell_type": "code",
   "execution_count": 12,
   "metadata": {},
   "outputs": [
    {
     "data": {
      "text/plain": [
       "30"
      ]
     },
     "execution_count": 12,
     "metadata": {},
     "output_type": "execute_result"
    }
   ],
   "source": [
    "m5(6)"
   ]
  },
  {
   "cell_type": "markdown",
   "metadata": {},
   "source": [
    "*******"
   ]
  },
  {
   "cell_type": "markdown",
   "metadata": {},
   "source": [
    "#### 왜 메모리에 효율적일까"
   ]
  },
  {
   "cell_type": "code",
   "execution_count": 13,
   "metadata": {},
   "outputs": [],
   "source": [
    "del (multiply) #메모리에서 multiply 지워보기"
   ]
  },
  {
   "cell_type": "code",
   "execution_count": 14,
   "metadata": {},
   "outputs": [
    {
     "ename": "NameError",
     "evalue": "name 'multiply' is not defined",
     "output_type": "error",
     "traceback": [
      "\u001b[0;31m---------------------------------------------------------------------------\u001b[0m",
      "\u001b[0;31mNameError\u001b[0m                                 Traceback (most recent call last)",
      "\u001b[1;32m/Users/jinseunghui/Documents/3학년 1학기/고급파이썬프로그래밍/seungheejin_202003420/week_12.ipynb Cell 11'\u001b[0m in \u001b[0;36m<cell line: 1>\u001b[0;34m()\u001b[0m\n\u001b[0;32m----> <a href='vscode-notebook-cell:/Users/jinseunghui/Documents/3%ED%95%99%EB%85%84%201%ED%95%99%EA%B8%B0/%EA%B3%A0%EA%B8%89%ED%8C%8C%EC%9D%B4%EC%8D%AC%ED%94%84%EB%A1%9C%EA%B7%B8%EB%9E%98%EB%B0%8D/seungheejin_202003420/week_12.ipynb#ch0000011?line=0'>1</a>\u001b[0m multiply\n",
      "\u001b[0;31mNameError\u001b[0m: name 'multiply' is not defined"
     ]
    }
   ],
   "source": [
    "multiply #정의된 적 없다는 에러"
   ]
  },
  {
   "cell_type": "code",
   "execution_count": 15,
   "metadata": {},
   "outputs": [
    {
     "data": {
      "text/plain": [
       "50"
      ]
     },
     "execution_count": 15,
     "metadata": {},
     "output_type": "execute_result"
    }
   ],
   "source": [
    "m5(10) #메모리에는 multiply 가 없는데도, 함수는 작동함 => 메모리에 효율적!"
   ]
  },
  {
   "cell_type": "markdown",
   "metadata": {},
   "source": [
    "******"
   ]
  },
  {
   "cell_type": "markdown",
   "metadata": {},
   "source": [
    "### 데코레이터\n",
    "- 메인 함수에 또 다른 함수를 데코레이터로 선언하여 사용 가능"
   ]
  },
  {
   "cell_type": "code",
   "execution_count": 20,
   "metadata": {},
   "outputs": [],
   "source": [
    "@document_it\n",
    "def add(a,b):\n",
    "    return a+b\n",
    "\n",
    "@document_it\n",
    "def subtract(a,b):\n",
    "    return a-b\n",
    "\n",
    "def document_it(func):\n",
    "    def new_func(*args,**kargs):\n",
    "        print('arguments: ',args)\n",
    "        print('key arguments: ',kargs)\n",
    "        return func(*args,**kargs)\n",
    "    return new_func"
   ]
  },
  {
   "cell_type": "code",
   "execution_count": 17,
   "metadata": {},
   "outputs": [
    {
     "data": {
      "text/plain": [
       "4"
      ]
     },
     "execution_count": 17,
     "metadata": {},
     "output_type": "execute_result"
    }
   ],
   "source": [
    "add(1,3) #document_it 붙이기 전"
   ]
  },
  {
   "cell_type": "code",
   "execution_count": 19,
   "metadata": {},
   "outputs": [
    {
     "name": "stdout",
     "output_type": "stream",
     "text": [
      "arguments:  (1, 3)\n",
      "key arguments:  {}\n"
     ]
    },
    {
     "data": {
      "text/plain": [
       "4"
      ]
     },
     "execution_count": 19,
     "metadata": {},
     "output_type": "execute_result"
    }
   ],
   "source": [
    "add(1,3) #document_it 붙인 후"
   ]
  },
  {
   "cell_type": "code",
   "execution_count": 21,
   "metadata": {},
   "outputs": [
    {
     "name": "stdout",
     "output_type": "stream",
     "text": [
      "arguments:  (1, 3)\n",
      "key arguments:  {}\n"
     ]
    },
    {
     "data": {
      "text/plain": [
       "-2"
      ]
     },
     "execution_count": 21,
     "metadata": {},
     "output_type": "execute_result"
    }
   ],
   "source": [
    "subtract(1,3)"
   ]
  },
  {
   "cell_type": "markdown",
   "metadata": {},
   "source": [
    "#### add에 활용할 중첩함수\n",
    "- 결과값의 제곱 값을 반환하는 클로저 함수 만들기"
   ]
  },
  {
   "cell_type": "code",
   "execution_count": 25,
   "metadata": {},
   "outputs": [],
   "source": [
    "def square(func):\n",
    "    def inner(x,y):\n",
    "        return x*x\n",
    "    return inner"
   ]
  },
  {
   "cell_type": "code",
   "execution_count": 26,
   "metadata": {},
   "outputs": [],
   "source": [
    "@square\n",
    "def add(a,b):\n",
    "    return a+b"
   ]
  },
  {
   "cell_type": "code",
   "execution_count": 27,
   "metadata": {},
   "outputs": [
    {
     "data": {
      "text/plain": [
       "9"
      ]
     },
     "execution_count": 27,
     "metadata": {},
     "output_type": "execute_result"
    }
   ],
   "source": [
    "add(3,4)"
   ]
  },
  {
   "cell_type": "code",
   "execution_count": 28,
   "metadata": {},
   "outputs": [],
   "source": [
    "def square(func): #function이 인자로 들어와야 데코레이터 사용 가능\n",
    "    def new_func(*args):\n",
    "        result = func(*args) * func(*args)\n",
    "        return result\n",
    "    return new_func\n",
    "\n",
    "@square\n",
    "def add(a,b):\n",
    "    return a+b"
   ]
  },
  {
   "cell_type": "code",
   "execution_count": 29,
   "metadata": {},
   "outputs": [
    {
     "data": {
      "text/plain": [
       "49"
      ]
     },
     "execution_count": 29,
     "metadata": {},
     "output_type": "execute_result"
    }
   ],
   "source": [
    "add(3,4)"
   ]
  },
  {
   "cell_type": "code",
   "execution_count": 32,
   "metadata": {},
   "outputs": [],
   "source": [
    "# 전역 (global)\n",
    "a = 4\n",
    "def square(func): #function이 인자로 들어와야 데코레이터 사용 가능\n",
    "    # 지역 (local)\n",
    "    def new_func(*args):\n",
    "        result = func(*args) * func(*args)\n",
    "        return result\n",
    "    return new_func"
   ]
  },
  {
   "cell_type": "code",
   "execution_count": 39,
   "metadata": {},
   "outputs": [
    {
     "data": {
      "text/plain": [
       "1000"
      ]
     },
     "execution_count": 39,
     "metadata": {},
     "output_type": "execute_result"
    }
   ],
   "source": [
    "z = 3\n",
    "def outer(x):\n",
    "    y = 4\n",
    "    def inner():\n",
    "        x = 1000\n",
    "        return x\n",
    "    return inner()\n",
    "\n",
    "outer(10) #1000"
   ]
  },
  {
   "cell_type": "markdown",
   "metadata": {},
   "source": [
    "#### scope : global local nonlocal\n",
    "- 내부함수는 외부함수의 인자를 \"참조\"만 할 수 있다.\n",
    "- nonlocal 예약어를 활용"
   ]
  },
  {
   "cell_type": "code",
   "execution_count": 43,
   "metadata": {},
   "outputs": [
    {
     "ename": "UnboundLocalError",
     "evalue": "local variable 'x' referenced before assignment",
     "output_type": "error",
     "traceback": [
      "\u001b[0;31m---------------------------------------------------------------------------\u001b[0m",
      "\u001b[0;31mUnboundLocalError\u001b[0m                         Traceback (most recent call last)",
      "\u001b[1;32m/Users/jinseunghui/Documents/3학년 1학기/고급파이썬프로그래밍/seungheejin_202003420/week_12.ipynb Cell 29'\u001b[0m in \u001b[0;36m<cell line: 10>\u001b[0;34m()\u001b[0m\n\u001b[1;32m      <a href='vscode-notebook-cell:/Users/jinseunghui/Documents/3%ED%95%99%EB%85%84%201%ED%95%99%EA%B8%B0/%EA%B3%A0%EA%B8%89%ED%8C%8C%EC%9D%B4%EC%8D%AC%ED%94%84%EB%A1%9C%EA%B7%B8%EB%9E%98%EB%B0%8D/seungheejin_202003420/week_12.ipynb#ch0000031?line=6'>7</a>\u001b[0m         \u001b[39mreturn\u001b[39;00m x\n\u001b[1;32m      <a href='vscode-notebook-cell:/Users/jinseunghui/Documents/3%ED%95%99%EB%85%84%201%ED%95%99%EA%B8%B0/%EA%B3%A0%EA%B8%89%ED%8C%8C%EC%9D%B4%EC%8D%AC%ED%94%84%EB%A1%9C%EA%B7%B8%EB%9E%98%EB%B0%8D/seungheejin_202003420/week_12.ipynb#ch0000031?line=7'>8</a>\u001b[0m     \u001b[39mreturn\u001b[39;00m inner()\n\u001b[0;32m---> <a href='vscode-notebook-cell:/Users/jinseunghui/Documents/3%ED%95%99%EB%85%84%201%ED%95%99%EA%B8%B0/%EA%B3%A0%EA%B8%89%ED%8C%8C%EC%9D%B4%EC%8D%AC%ED%94%84%EB%A1%9C%EA%B7%B8%EB%9E%98%EB%B0%8D/seungheejin_202003420/week_12.ipynb#ch0000031?line=9'>10</a>\u001b[0m outer(\u001b[39m10\u001b[39;49m)\n",
      "\u001b[1;32m/Users/jinseunghui/Documents/3학년 1학기/고급파이썬프로그래밍/seungheejin_202003420/week_12.ipynb Cell 29'\u001b[0m in \u001b[0;36mouter\u001b[0;34m(x)\u001b[0m\n\u001b[1;32m      <a href='vscode-notebook-cell:/Users/jinseunghui/Documents/3%ED%95%99%EB%85%84%201%ED%95%99%EA%B8%B0/%EA%B3%A0%EA%B8%89%ED%8C%8C%EC%9D%B4%EC%8D%AC%ED%94%84%EB%A1%9C%EA%B7%B8%EB%9E%98%EB%B0%8D/seungheejin_202003420/week_12.ipynb#ch0000031?line=5'>6</a>\u001b[0m     x \u001b[39m=\u001b[39m \u001b[39m1000\u001b[39m\n\u001b[1;32m      <a href='vscode-notebook-cell:/Users/jinseunghui/Documents/3%ED%95%99%EB%85%84%201%ED%95%99%EA%B8%B0/%EA%B3%A0%EA%B8%89%ED%8C%8C%EC%9D%B4%EC%8D%AC%ED%94%84%EB%A1%9C%EA%B7%B8%EB%9E%98%EB%B0%8D/seungheejin_202003420/week_12.ipynb#ch0000031?line=6'>7</a>\u001b[0m     \u001b[39mreturn\u001b[39;00m x\n\u001b[0;32m----> <a href='vscode-notebook-cell:/Users/jinseunghui/Documents/3%ED%95%99%EB%85%84%201%ED%95%99%EA%B8%B0/%EA%B3%A0%EA%B8%89%ED%8C%8C%EC%9D%B4%EC%8D%AC%ED%94%84%EB%A1%9C%EA%B7%B8%EB%9E%98%EB%B0%8D/seungheejin_202003420/week_12.ipynb#ch0000031?line=7'>8</a>\u001b[0m \u001b[39mreturn\u001b[39;00m inner()\n",
      "\u001b[1;32m/Users/jinseunghui/Documents/3학년 1학기/고급파이썬프로그래밍/seungheejin_202003420/week_12.ipynb Cell 29'\u001b[0m in \u001b[0;36mouter.<locals>.inner\u001b[0;34m()\u001b[0m\n\u001b[1;32m      <a href='vscode-notebook-cell:/Users/jinseunghui/Documents/3%ED%95%99%EB%85%84%201%ED%95%99%EA%B8%B0/%EA%B3%A0%EA%B8%89%ED%8C%8C%EC%9D%B4%EC%8D%AC%ED%94%84%EB%A1%9C%EA%B7%B8%EB%9E%98%EB%B0%8D/seungheejin_202003420/week_12.ipynb#ch0000031?line=3'>4</a>\u001b[0m \u001b[39mdef\u001b[39;00m \u001b[39minner\u001b[39m():\n\u001b[0;32m----> <a href='vscode-notebook-cell:/Users/jinseunghui/Documents/3%ED%95%99%EB%85%84%201%ED%95%99%EA%B8%B0/%EA%B3%A0%EA%B8%89%ED%8C%8C%EC%9D%B4%EC%8D%AC%ED%94%84%EB%A1%9C%EA%B7%B8%EB%9E%98%EB%B0%8D/seungheejin_202003420/week_12.ipynb#ch0000031?line=4'>5</a>\u001b[0m     x\u001b[39m+\u001b[39m\u001b[39m=\u001b[39m\u001b[39m1\u001b[39m \u001b[39m#x를 모름\u001b[39;00m\n\u001b[1;32m      <a href='vscode-notebook-cell:/Users/jinseunghui/Documents/3%ED%95%99%EB%85%84%201%ED%95%99%EA%B8%B0/%EA%B3%A0%EA%B8%89%ED%8C%8C%EC%9D%B4%EC%8D%AC%ED%94%84%EB%A1%9C%EA%B7%B8%EB%9E%98%EB%B0%8D/seungheejin_202003420/week_12.ipynb#ch0000031?line=5'>6</a>\u001b[0m     x \u001b[39m=\u001b[39m \u001b[39m1000\u001b[39m\n\u001b[1;32m      <a href='vscode-notebook-cell:/Users/jinseunghui/Documents/3%ED%95%99%EB%85%84%201%ED%95%99%EA%B8%B0/%EA%B3%A0%EA%B8%89%ED%8C%8C%EC%9D%B4%EC%8D%AC%ED%94%84%EB%A1%9C%EA%B7%B8%EB%9E%98%EB%B0%8D/seungheejin_202003420/week_12.ipynb#ch0000031?line=6'>7</a>\u001b[0m     \u001b[39mreturn\u001b[39;00m x\n",
      "\u001b[0;31mUnboundLocalError\u001b[0m: local variable 'x' referenced before assignment"
     ]
    }
   ],
   "source": [
    "z = 3\n",
    "def outer(x):\n",
    "    y = 4\n",
    "    def inner():\n",
    "        x+=1 #x를 모름\n",
    "        x = 1000\n",
    "        return x\n",
    "    return inner()\n",
    "\n",
    "outer(10) #1000"
   ]
  },
  {
   "cell_type": "code",
   "execution_count": 44,
   "metadata": {},
   "outputs": [
    {
     "data": {
      "text/plain": [
       "1000"
      ]
     },
     "execution_count": 44,
     "metadata": {},
     "output_type": "execute_result"
    }
   ],
   "source": [
    "z = 3\n",
    "def outer(x):\n",
    "    y = 4\n",
    "    def inner():\n",
    "        nonlocal x #해주지 않으면 연산이 불가함\n",
    "        x+=1 #x를 모름\n",
    "        x = 1000\n",
    "        return x\n",
    "    return inner()\n",
    "\n",
    "outer(10) #1000"
   ]
  },
  {
   "cell_type": "code",
   "execution_count": 47,
   "metadata": {},
   "outputs": [],
   "source": [
    "#안좋은 함수!\n",
    "def my_func(nums:list): # 가변인자 => 반환값이 없이도 반환이 있다\n",
    "    #문서화 => 사용자가 알 수 있게 해야 함\n",
    "    nums.append(sum(nums))\n",
    "\n",
    "a = [1,2,3]\n",
    "my_func(a)"
   ]
  },
  {
   "cell_type": "code",
   "execution_count": 48,
   "metadata": {},
   "outputs": [
    {
     "data": {
      "text/plain": [
       "[1, 2, 3, 6]"
      ]
     },
     "execution_count": 48,
     "metadata": {},
     "output_type": "execute_result"
    }
   ],
   "source": [
    "a #반환값이 없었는데도 값이 나옴!"
   ]
  },
  {
   "cell_type": "markdown",
   "metadata": {},
   "source": [
    "### 실습\n",
    "1. 함수 : 차 속도, 제한 속도를 비교해서 true/false\n",
    "\n",
    "2. 데코레이터 함수\n",
    "- 초과했다면 얼마나 초과했는지\n",
    "- 예 : 100, 80\n",
    "- 20km/h 초과"
   ]
  },
  {
   "cell_type": "code",
   "execution_count": 62,
   "metadata": {},
   "outputs": [],
   "source": [
    "def calculate_speed(func):\n",
    "    def calculate_speed_inner(*args):\n",
    "        if func(*args):\n",
    "            return f\"{args[0]-args[1]} 초과\"\n",
    "        else:\n",
    "            return \"초과하지 않았습니다.\"\n",
    "    return calculate_speed_inner\n",
    "\n",
    "@calculate_speed\n",
    "def is_speeding(speed,limit_speed):\n",
    "    return speed > limit_speed"
   ]
  },
  {
   "cell_type": "code",
   "execution_count": 63,
   "metadata": {},
   "outputs": [
    {
     "data": {
      "text/plain": [
       "'초과하지 않았습니다.'"
      ]
     },
     "execution_count": 63,
     "metadata": {},
     "output_type": "execute_result"
    }
   ],
   "source": [
    "is_speeding(80,100)"
   ]
  },
  {
   "cell_type": "markdown",
   "metadata": {},
   "source": [
    "### 더 나은 코드"
   ]
  },
  {
   "cell_type": "code",
   "execution_count": 64,
   "metadata": {},
   "outputs": [],
   "source": [
    "def calculate_speed(func):\n",
    "    def calculate_speed_inner(speed,limit_speed):\n",
    "        if func(speed,limit_speed):\n",
    "           return f\"초과 속도 {speed-limit_speed}km/h\"\n",
    "        else:\n",
    "            return \"정상 속도\"\n",
    "    return calculate_speed_inner\n",
    "\n",
    "@calculate_speed\n",
    "def is_speeding(speed,limit_speed):\n",
    "    return speed > limit_speed"
   ]
  },
  {
   "cell_type": "markdown",
   "metadata": {},
   "source": [
    "******"
   ]
  },
  {
   "cell_type": "markdown",
   "metadata": {},
   "source": [
    "### 제너레이터\n",
    "- return => yield\n",
    "- 순회의 반환값을 하나씩 반환\n",
    "- 시퀀스를 생성하는 객체\n",
    "- 메모리 효율성 증대 (한번 쓰고 없어져서!)"
   ]
  },
  {
   "cell_type": "markdown",
   "metadata": {},
   "source": [
    "```Python\n",
    "def ...():\n",
    "    for i in range(5):\n",
    "        yield i #하나하나씩 반환해준다\n",
    "```"
   ]
  },
  {
   "cell_type": "code",
   "execution_count": 70,
   "metadata": {},
   "outputs": [],
   "source": [
    "names = \"Kevin Micheal Juliette Laura\".split()\n",
    "\n",
    "def printing(name_list:list):\n",
    "    for name in name_list:\n",
    "        yield name\n",
    "\n",
    "name_list = printing(names)"
   ]
  },
  {
   "cell_type": "code",
   "execution_count": 73,
   "metadata": {},
   "outputs": [],
   "source": [
    "for i in printing(name_list):\n",
    "    print(i) #두번 출력하면 안나옴!"
   ]
  },
  {
   "cell_type": "code",
   "execution_count": 76,
   "metadata": {},
   "outputs": [],
   "source": [
    "#실습 : range 함수 구현하기\n",
    "def my_range(start,end,step=1):\n",
    "    num = start\n",
    "    while num <= end:\n",
    "        yield num\n",
    "        num+=step\n",
    "ranger = my_range(1,10)"
   ]
  },
  {
   "cell_type": "code",
   "execution_count": 77,
   "metadata": {},
   "outputs": [
    {
     "name": "stdout",
     "output_type": "stream",
     "text": [
      "1\n",
      "2\n",
      "3\n",
      "4\n",
      "5\n",
      "6\n",
      "7\n",
      "8\n",
      "9\n",
      "10\n"
     ]
    }
   ],
   "source": [
    "for i in ranger:\n",
    "    print(i) #두번 출력하면 안나옴!"
   ]
  },
  {
   "cell_type": "markdown",
   "metadata": {},
   "source": [
    "********"
   ]
  },
  {
   "cell_type": "markdown",
   "metadata": {},
   "source": [
    "### 재귀함수\n",
    "- 자기 자신을 호출하는 함수\n",
    "- 재귀가 너무 깊어지면 예외 발생, 주의해야 함\n",
    "- [[a,,b],[[[a,b,c],b],b,c]] => 모든 요소의 차원을 단일화시킬 때"
   ]
  },
  {
   "cell_type": "code",
   "execution_count": 80,
   "metadata": {},
   "outputs": [],
   "source": [
    "def flatten(sent):\n",
    "    for word in sent:\n",
    "        if isinstance(word,list): #리스트가 맞다\n",
    "            for sub_word in flatten(word):\n",
    "                yield sub_word\n",
    "        else:\n",
    "            yield word"
   ]
  },
  {
   "cell_type": "code",
   "execution_count": 79,
   "metadata": {},
   "outputs": [
    {
     "data": {
      "text/plain": [
       "False"
      ]
     },
     "execution_count": 79,
     "metadata": {},
     "output_type": "execute_result"
    }
   ],
   "source": [
    "isinstance(\"word\",int)"
   ]
  },
  {
   "cell_type": "code",
   "execution_count": 81,
   "metadata": {},
   "outputs": [],
   "source": [
    "a = [1,2,[2,3,4],[[[1,2]]]]"
   ]
  },
  {
   "cell_type": "code",
   "execution_count": 82,
   "metadata": {},
   "outputs": [
    {
     "name": "stdout",
     "output_type": "stream",
     "text": [
      "1\n",
      "2\n",
      "2\n",
      "3\n",
      "4\n",
      "1\n",
      "2\n"
     ]
    }
   ],
   "source": [
    "for i in flatten(a):\n",
    "    print(i)"
   ]
  },
  {
   "cell_type": "markdown",
   "metadata": {},
   "source": [
    "******"
   ]
  },
  {
   "cell_type": "markdown",
   "metadata": {},
   "source": [
    "### 예외 처리 | exception handling\n",
    "- 프로그램 동작 중 예외 발생시 대처하기 위함\n",
    "- 사용자에게 예외를 알리고, 원하는 조치를 설정한다\n",
    "- 프로그램이 정상적으로 종료될 수 있음"
   ]
  },
  {
   "cell_type": "code",
   "execution_count": 83,
   "metadata": {},
   "outputs": [
    {
     "name": "stdout",
     "output_type": "stream",
     "text": [
      "0으로 나눌 수 없음\n"
     ]
    }
   ],
   "source": [
    "try:\n",
    "    5/0\n",
    "except ZeroDivisionError:\n",
    "    print(\"0으로 나눌 수 없음\")"
   ]
  },
  {
   "cell_type": "code",
   "execution_count": 84,
   "metadata": {},
   "outputs": [
    {
     "name": "stdout",
     "output_type": "stream",
     "text": [
      "0으로 나눌 수 없음\n",
      "10.0\n",
      "5.0\n",
      "3.3333333333333335\n",
      "2.5\n",
      "2.0\n",
      "1.6666666666666667\n",
      "1.4285714285714286\n",
      "1.25\n",
      "1.1111111111111112\n"
     ]
    }
   ],
   "source": [
    "for i in range(10):\n",
    "    try:\n",
    "        print(10/i)\n",
    "    except ZeroDivisionError:\n",
    "        print(\"0으로 나눌 수 없음\")"
   ]
  },
  {
   "cell_type": "code",
   "execution_count": 88,
   "metadata": {},
   "outputs": [
    {
     "name": "stdout",
     "output_type": "stream",
     "text": [
      "l\n",
      "string index out of range\n",
      "l\n",
      "string index out of range\n"
     ]
    }
   ],
   "source": [
    "word = 'hello'\n",
    "while True:\n",
    "    index= input(\"인덱스를 입력하세요>> \")\n",
    "    if index==\"q\":\n",
    "        break\n",
    "    try:\n",
    "        index = int(index)\n",
    "        print(word[index])\n",
    "    except ValueError as e1:\n",
    "        print(e1)\n",
    "    except IndexError as e2:\n",
    "        print(e2)"
   ]
  },
  {
   "cell_type": "markdown",
   "metadata": {},
   "source": [
    "### 에외 일으키기\n",
    "- 프로그램을 강제 종료시키기 위해 사용함\n",
    "- raise, assert"
   ]
  },
  {
   "cell_type": "code",
   "execution_count": 90,
   "metadata": {},
   "outputs": [
    {
     "name": "stdout",
     "output_type": "stream",
     "text": [
      "8\n"
     ]
    },
    {
     "ename": "ValueError",
     "evalue": "숫자가 아닙니다!",
     "output_type": "error",
     "traceback": [
      "\u001b[0;31m---------------------------------------------------------------------------\u001b[0m",
      "\u001b[0;31mValueError\u001b[0m                                Traceback (most recent call last)",
      "\u001b[1;32m/Users/jinseunghui/Documents/3학년 1학기/고급파이썬프로그래밍/seungheejin_202003420/week_12.ipynb Cell 58'\u001b[0m in \u001b[0;36m<cell line: 1>\u001b[0;34m()\u001b[0m\n\u001b[1;32m      <a href='vscode-notebook-cell:/Users/jinseunghui/Documents/3%ED%95%99%EB%85%84%201%ED%95%99%EA%B8%B0/%EA%B3%A0%EA%B8%89%ED%8C%8C%EC%9D%B4%EC%8D%AC%ED%94%84%EB%A1%9C%EA%B7%B8%EB%9E%98%EB%B0%8D/seungheejin_202003420/week_12.ipynb#ch0000066?line=1'>2</a>\u001b[0m num \u001b[39m=\u001b[39m \u001b[39minput\u001b[39m(\u001b[39m\"\u001b[39m\u001b[39m숫자>> \u001b[39m\u001b[39m\"\u001b[39m)\n\u001b[1;32m      <a href='vscode-notebook-cell:/Users/jinseunghui/Documents/3%ED%95%99%EB%85%84%201%ED%95%99%EA%B8%B0/%EA%B3%A0%EA%B8%89%ED%8C%8C%EC%9D%B4%EC%8D%AC%ED%94%84%EB%A1%9C%EA%B7%B8%EB%9E%98%EB%B0%8D/seungheejin_202003420/week_12.ipynb#ch0000066?line=2'>3</a>\u001b[0m \u001b[39mif\u001b[39;00m \u001b[39mnot\u001b[39;00m num\u001b[39m.\u001b[39misdigit():\n\u001b[0;32m----> <a href='vscode-notebook-cell:/Users/jinseunghui/Documents/3%ED%95%99%EB%85%84%201%ED%95%99%EA%B8%B0/%EA%B3%A0%EA%B8%89%ED%8C%8C%EC%9D%B4%EC%8D%AC%ED%94%84%EB%A1%9C%EA%B7%B8%EB%9E%98%EB%B0%8D/seungheejin_202003420/week_12.ipynb#ch0000066?line=3'>4</a>\u001b[0m     \u001b[39mraise\u001b[39;00m \u001b[39mValueError\u001b[39;00m(\u001b[39m'\u001b[39m\u001b[39m숫자가 아닙니다!\u001b[39m\u001b[39m'\u001b[39m)\n\u001b[1;32m      <a href='vscode-notebook-cell:/Users/jinseunghui/Documents/3%ED%95%99%EB%85%84%201%ED%95%99%EA%B8%B0/%EA%B3%A0%EA%B8%89%ED%8C%8C%EC%9D%B4%EC%8D%AC%ED%94%84%EB%A1%9C%EA%B7%B8%EB%9E%98%EB%B0%8D/seungheejin_202003420/week_12.ipynb#ch0000066?line=4'>5</a>\u001b[0m \u001b[39melse\u001b[39;00m:\n\u001b[1;32m      <a href='vscode-notebook-cell:/Users/jinseunghui/Documents/3%ED%95%99%EB%85%84%201%ED%95%99%EA%B8%B0/%EA%B3%A0%EA%B8%89%ED%8C%8C%EC%9D%B4%EC%8D%AC%ED%94%84%EB%A1%9C%EA%B7%B8%EB%9E%98%EB%B0%8D/seungheejin_202003420/week_12.ipynb#ch0000066?line=5'>6</a>\u001b[0m     \u001b[39mprint\u001b[39m(\u001b[39mint\u001b[39m(num)\u001b[39m+\u001b[39m\u001b[39m5\u001b[39m)\n",
      "\u001b[0;31mValueError\u001b[0m: 숫자가 아닙니다!"
     ]
    }
   ],
   "source": [
    "while True:\n",
    "    num = input(\"숫자>> \")\n",
    "    if not num.isdigit():\n",
    "        raise ValueError('숫자가 아닙니다!')\n",
    "    else:\n",
    "        print(int(num)+5)"
   ]
  },
  {
   "cell_type": "markdown",
   "metadata": {},
   "source": [
    "`assert <참인 조건>, <False 일 경우 내보낼 메시지>`"
   ]
  },
  {
   "cell_type": "code",
   "execution_count": 92,
   "metadata": {},
   "outputs": [
    {
     "ename": "AssertionError",
     "evalue": "정수가 아닙니다",
     "output_type": "error",
     "traceback": [
      "\u001b[0;31m---------------------------------------------------------------------------\u001b[0m",
      "\u001b[0;31mAssertionError\u001b[0m                            Traceback (most recent call last)",
      "\u001b[1;32m/Users/jinseunghui/Documents/3학년 1학기/고급파이썬프로그래밍/seungheejin_202003420/week_12.ipynb Cell 60'\u001b[0m in \u001b[0;36m<cell line: 5>\u001b[0;34m()\u001b[0m\n\u001b[1;32m      <a href='vscode-notebook-cell:/Users/jinseunghui/Documents/3%ED%95%99%EB%85%84%201%ED%95%99%EA%B8%B0/%EA%B3%A0%EA%B8%89%ED%8C%8C%EC%9D%B4%EC%8D%AC%ED%94%84%EB%A1%9C%EA%B7%B8%EB%9E%98%EB%B0%8D/seungheejin_202003420/week_12.ipynb#ch0000070?line=1'>2</a>\u001b[0m     \u001b[39massert\u001b[39;00m \u001b[39misinstance\u001b[39m(num,\u001b[39mint\u001b[39m), \u001b[39m\"\u001b[39m\u001b[39m정수가 아닙니다\u001b[39m\u001b[39m\"\u001b[39m\n\u001b[1;32m      <a href='vscode-notebook-cell:/Users/jinseunghui/Documents/3%ED%95%99%EB%85%84%201%ED%95%99%EA%B8%B0/%EA%B3%A0%EA%B8%89%ED%8C%8C%EC%9D%B4%EC%8D%AC%ED%94%84%EB%A1%9C%EA%B7%B8%EB%9E%98%EB%B0%8D/seungheejin_202003420/week_12.ipynb#ch0000070?line=2'>3</a>\u001b[0m     \u001b[39mreturn\u001b[39;00m \u001b[39mbin\u001b[39m(num)\n\u001b[0;32m----> <a href='vscode-notebook-cell:/Users/jinseunghui/Documents/3%ED%95%99%EB%85%84%201%ED%95%99%EA%B8%B0/%EA%B3%A0%EA%B8%89%ED%8C%8C%EC%9D%B4%EC%8D%AC%ED%94%84%EB%A1%9C%EA%B7%B8%EB%9E%98%EB%B0%8D/seungheejin_202003420/week_12.ipynb#ch0000070?line=4'>5</a>\u001b[0m get_binary(\u001b[39m'\u001b[39;49m\u001b[39m10\u001b[39;49m\u001b[39m'\u001b[39;49m)\n",
      "\u001b[1;32m/Users/jinseunghui/Documents/3학년 1학기/고급파이썬프로그래밍/seungheejin_202003420/week_12.ipynb Cell 60'\u001b[0m in \u001b[0;36mget_binary\u001b[0;34m(num)\u001b[0m\n\u001b[1;32m      <a href='vscode-notebook-cell:/Users/jinseunghui/Documents/3%ED%95%99%EB%85%84%201%ED%95%99%EA%B8%B0/%EA%B3%A0%EA%B8%89%ED%8C%8C%EC%9D%B4%EC%8D%AC%ED%94%84%EB%A1%9C%EA%B7%B8%EB%9E%98%EB%B0%8D/seungheejin_202003420/week_12.ipynb#ch0000070?line=0'>1</a>\u001b[0m \u001b[39mdef\u001b[39;00m \u001b[39mget_binary\u001b[39m(num):\n\u001b[0;32m----> <a href='vscode-notebook-cell:/Users/jinseunghui/Documents/3%ED%95%99%EB%85%84%201%ED%95%99%EA%B8%B0/%EA%B3%A0%EA%B8%89%ED%8C%8C%EC%9D%B4%EC%8D%AC%ED%94%84%EB%A1%9C%EA%B7%B8%EB%9E%98%EB%B0%8D/seungheejin_202003420/week_12.ipynb#ch0000070?line=1'>2</a>\u001b[0m     \u001b[39massert\u001b[39;00m \u001b[39misinstance\u001b[39m(num,\u001b[39mint\u001b[39m), \u001b[39m\"\u001b[39m\u001b[39m정수가 아닙니다\u001b[39m\u001b[39m\"\u001b[39m\n\u001b[1;32m      <a href='vscode-notebook-cell:/Users/jinseunghui/Documents/3%ED%95%99%EB%85%84%201%ED%95%99%EA%B8%B0/%EA%B3%A0%EA%B8%89%ED%8C%8C%EC%9D%B4%EC%8D%AC%ED%94%84%EB%A1%9C%EA%B7%B8%EB%9E%98%EB%B0%8D/seungheejin_202003420/week_12.ipynb#ch0000070?line=2'>3</a>\u001b[0m     \u001b[39mreturn\u001b[39;00m \u001b[39mbin\u001b[39m(num)\n",
      "\u001b[0;31mAssertionError\u001b[0m: 정수가 아닙니다"
     ]
    }
   ],
   "source": [
    "def get_binary(num):\n",
    "    assert isinstance(num,int), \"정수가 아닙니다\"\n",
    "    return bin(num)\n",
    "\n",
    "get_binary('10')"
   ]
  },
  {
   "cell_type": "markdown",
   "metadata": {},
   "source": [
    "### 사용자 정의 예외 타입\n",
    "- class 선언, Exception 클래스를 상속 받는다"
   ]
  },
  {
   "cell_type": "code",
   "execution_count": 93,
   "metadata": {},
   "outputs": [],
   "source": [
    "class MyException(Exception):\n",
    "    pass"
   ]
  },
  {
   "cell_type": "code",
   "execution_count": 94,
   "metadata": {},
   "outputs": [],
   "source": [
    "cities = 'dublin newyork seoul TOKYO'.split() #대문자일떄 에러가 나도록하기!"
   ]
  },
  {
   "cell_type": "code",
   "execution_count": 98,
   "metadata": {},
   "outputs": [
    {
     "name": "stdout",
     "output_type": "stream",
     "text": [
      "dublin\n",
      "newyork\n",
      "seoul\n"
     ]
    },
    {
     "ename": "TypeError",
     "evalue": "UppercaseException.__init__() takes 1 positional argument but 2 were given",
     "output_type": "error",
     "traceback": [
      "\u001b[0;31m---------------------------------------------------------------------------\u001b[0m",
      "\u001b[0;31mTypeError\u001b[0m                                 Traceback (most recent call last)",
      "\u001b[1;32m/Users/jinseunghui/Documents/3학년 1학기/고급파이썬프로그래밍/seungheejin_202003420/week_12.ipynb Cell 64'\u001b[0m in \u001b[0;36m<cell line: 1>\u001b[0;34m()\u001b[0m\n\u001b[1;32m      <a href='vscode-notebook-cell:/Users/jinseunghui/Documents/3%ED%95%99%EB%85%84%201%ED%95%99%EA%B8%B0/%EA%B3%A0%EA%B8%89%ED%8C%8C%EC%9D%B4%EC%8D%AC%ED%94%84%EB%A1%9C%EA%B7%B8%EB%9E%98%EB%B0%8D/seungheejin_202003420/week_12.ipynb#ch0000075?line=0'>1</a>\u001b[0m \u001b[39mfor\u001b[39;00m city \u001b[39min\u001b[39;00m cities:\n\u001b[1;32m      <a href='vscode-notebook-cell:/Users/jinseunghui/Documents/3%ED%95%99%EB%85%84%201%ED%95%99%EA%B8%B0/%EA%B3%A0%EA%B8%89%ED%8C%8C%EC%9D%B4%EC%8D%AC%ED%94%84%EB%A1%9C%EA%B7%B8%EB%9E%98%EB%B0%8D/seungheejin_202003420/week_12.ipynb#ch0000075?line=1'>2</a>\u001b[0m     \u001b[39mif\u001b[39;00m city\u001b[39m.\u001b[39misupper():\n\u001b[0;32m----> <a href='vscode-notebook-cell:/Users/jinseunghui/Documents/3%ED%95%99%EB%85%84%201%ED%95%99%EA%B8%B0/%EA%B3%A0%EA%B8%89%ED%8C%8C%EC%9D%B4%EC%8D%AC%ED%94%84%EB%A1%9C%EA%B7%B8%EB%9E%98%EB%B0%8D/seungheejin_202003420/week_12.ipynb#ch0000075?line=2'>3</a>\u001b[0m         \u001b[39mraise\u001b[39;00m UppercaseException(\u001b[39m\"\u001b[39;49m\u001b[39m대문자 안됨\u001b[39;49m\u001b[39m\"\u001b[39;49m)\n\u001b[1;32m      <a href='vscode-notebook-cell:/Users/jinseunghui/Documents/3%ED%95%99%EB%85%84%201%ED%95%99%EA%B8%B0/%EA%B3%A0%EA%B8%89%ED%8C%8C%EC%9D%B4%EC%8D%AC%ED%94%84%EB%A1%9C%EA%B7%B8%EB%9E%98%EB%B0%8D/seungheejin_202003420/week_12.ipynb#ch0000075?line=3'>4</a>\u001b[0m     \u001b[39melse\u001b[39;00m:\n\u001b[1;32m      <a href='vscode-notebook-cell:/Users/jinseunghui/Documents/3%ED%95%99%EB%85%84%201%ED%95%99%EA%B8%B0/%EA%B3%A0%EA%B8%89%ED%8C%8C%EC%9D%B4%EC%8D%AC%ED%94%84%EB%A1%9C%EA%B7%B8%EB%9E%98%EB%B0%8D/seungheejin_202003420/week_12.ipynb#ch0000075?line=4'>5</a>\u001b[0m         \u001b[39mprint\u001b[39m(city)\n",
      "\u001b[0;31mTypeError\u001b[0m: UppercaseException.__init__() takes 1 positional argument but 2 were given"
     ]
    }
   ],
   "source": [
    "for city in cities:\n",
    "    if city.isupper():\n",
    "        raise UppercaseException(\"대문자 안됨\")\n",
    "    else:\n",
    "        print(city)"
   ]
  },
  {
   "cell_type": "code",
   "execution_count": 97,
   "metadata": {},
   "outputs": [],
   "source": [
    "class UppercaseException(Exception):\n",
    "    def __init__(self):\n",
    "        super().__init__('대문자 안됨') #부모의 생성자로 접근"
   ]
  },
  {
   "cell_type": "code",
   "execution_count": null,
   "metadata": {},
   "outputs": [],
   "source": []
  }
 ],
 "metadata": {
  "interpreter": {
   "hash": "aee8b7b246df8f9039afb4144a1f6fd8d2ca17a180786b69acc140d282b71a49"
  },
  "kernelspec": {
   "display_name": "Python 3.10.4 64-bit",
   "language": "python",
   "name": "python3"
  },
  "language_info": {
   "codemirror_mode": {
    "name": "ipython",
    "version": 3
   },
   "file_extension": ".py",
   "mimetype": "text/x-python",
   "name": "python",
   "nbconvert_exporter": "python",
   "pygments_lexer": "ipython3",
   "version": "3.10.4"
  },
  "orig_nbformat": 4
 },
 "nbformat": 4,
 "nbformat_minor": 2
}
