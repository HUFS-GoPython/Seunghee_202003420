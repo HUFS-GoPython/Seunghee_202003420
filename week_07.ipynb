{
 "cells": [
  {
   "cell_type": "markdown",
   "metadata": {},
   "source": [
    "## `0415 복습`"
   ]
  },
  {
   "cell_type": "markdown",
   "metadata": {},
   "source": [
    "### 함수\n",
    "\n",
    "1. 정의\n",
    "    - 코드의 덩어리, 묶음\n",
    "    - 코드의 (편리한) 재사용이 주된 목적\n",
    "    - 정의하기(define) -> 호출하기(call)\n",
    "    - 구조\n",
    "        .<br>\n",
    "        *정의하기*\n",
    "        - def 함수이름(매개변수1,2,3,4...):\n",
    "            - 수행문1\n",
    "            - 수행문2<br>\n",
    "            ...<br>\n",
    "            return 출력값 <br>\n",
    "        *호출하기*<br>\n",
    "        - 함수이름(인수1,2,3,...)\n",
    "    - \"인터페이스\" 잘 설정하면 내부를 몰라도 함수를 쉽게 쓸 수 있다. \n",
    "\n",
    "- 입력 값 반환값 있고 없고 모든 경우 가능!\n",
    "\n",
    "2. `이름 짓기` -> 주의하기\n",
    "- 소문자 사용한다\n",
    "- 카멜표기법 가능 (그러나 주로 언더바 선호)\n",
    "- 동사 + 명사 : print_output,save_model,split_text\n",
    "- 줄임말 쓰지말기 pr_output (x),명료하게\n"
   ]
  },
  {
   "cell_type": "code",
   "execution_count": 2,
   "metadata": {},
   "outputs": [],
   "source": [
    "x = 3\n",
    "y = x + 1 #x는 매개변수 y는 출력값"
   ]
  },
  {
   "cell_type": "markdown",
   "metadata": {},
   "source": [
    "split(),join() 도 함수다"
   ]
  },
  {
   "cell_type": "markdown",
   "metadata": {},
   "source": [
    "#### #1. 입력값과 리턴값이 없는 경우\n"
   ]
  },
  {
   "cell_type": "code",
   "execution_count": 3,
   "metadata": {},
   "outputs": [
    {
     "name": "stdout",
     "output_type": "stream",
     "text": [
      "quack\n"
     ]
    }
   ],
   "source": [
    "def make_a_sound():\n",
    "    #입력 없고 반환 없음\n",
    "    print('quack')\n",
    "    #return None\n",
    "\n",
    "make_a_sound()"
   ]
  },
  {
   "cell_type": "markdown",
   "metadata": {},
   "source": [
    "#### #2. 입력값은 없고 리턴값이 있는 경우"
   ]
  },
  {
   "cell_type": "code",
   "execution_count": 4,
   "metadata": {},
   "outputs": [
    {
     "data": {
      "text/plain": [
       "True"
      ]
     },
     "execution_count": 4,
     "metadata": {},
     "output_type": "execute_result"
    }
   ],
   "source": [
    "def agree():\n",
    "    return True\n",
    "\n",
    "agree()"
   ]
  },
  {
   "cell_type": "code",
   "execution_count": 5,
   "metadata": {},
   "outputs": [
    {
     "name": "stdout",
     "output_type": "stream",
     "text": [
      "Splendid\n"
     ]
    }
   ],
   "source": [
    "if agree():\n",
    "    print('Splendid')\n",
    "else:\n",
    "    print(\"that was unexpected!\")"
   ]
  },
  {
   "cell_type": "markdown",
   "metadata": {},
   "source": [
    "#### #3. 입력값은 있고 리턴값은 없는 경우"
   ]
  },
  {
   "cell_type": "code",
   "execution_count": 6,
   "metadata": {},
   "outputs": [
    {
     "name": "stdout",
     "output_type": "stream",
     "text": [
      "hellohello\n"
     ]
    }
   ],
   "source": [
    "def echo(anything):\n",
    "    print('{0}{0}'.format(anything))\n",
    "\n",
    "echo('hello')"
   ]
  },
  {
   "cell_type": "markdown",
   "metadata": {},
   "source": [
    "#### #4. 입력값과 반환값이 있는 경우"
   ]
  },
  {
   "cell_type": "code",
   "execution_count": 7,
   "metadata": {},
   "outputs": [],
   "source": [
    "def echo(anything):\n",
    "    return '{0} {0}'.format(anything)\n",
    "\n",
    "echo = echo('hello')"
   ]
  },
  {
   "cell_type": "code",
   "execution_count": 8,
   "metadata": {},
   "outputs": [
    {
     "data": {
      "text/plain": [
       "'hello hello'"
      ]
     },
     "execution_count": 8,
     "metadata": {},
     "output_type": "execute_result"
    }
   ],
   "source": [
    "echo"
   ]
  },
  {
   "cell_type": "markdown",
   "metadata": {},
   "source": [
    "3. 인수와 매개변수\n",
    "- 매개변수 : 정의할 때 쓰임\n",
    "- 인수 : 호출할 때 쓰임\n",
    "- 함수 호출 시에 인수에 할당된 값이 매개변수에 복제됨\n",
    "    - line = 'hello'\n",
    "    - anything = line ### 복제되는 부분\n",
    "    - anything은 사라진다. \n",
    "    - positional argument\n",
    "    - 값 순서대로 상응하는매개변수에 복사하는 것\n",
    "\n",
    "- 키워드 인수\n",
    "    - 매개변수에 상응하는 이름을 저장한다.\n",
    "\n",
    "- 디폴트 인수\n",
    "    - 디폴트 인수는 가장 마지막에\n",
    "\n",
    "# `변경하기`"
   ]
  },
  {
   "cell_type": "code",
   "execution_count": 9,
   "metadata": {},
   "outputs": [
    {
     "data": {
      "text/plain": [
       "'black'"
      ]
     },
     "execution_count": 9,
     "metadata": {},
     "output_type": "execute_result"
    }
   ],
   "source": [
    "def commentary(color):\n",
    "    # pass -> 나중에 정의하고 싶을 때\n",
    "    if color=='g':\n",
    "        return 'green'\n",
    "    else:\n",
    "        return 'black'\n",
    "\n",
    "color = 'white'\n",
    "commentary(color)"
   ]
  },
  {
   "cell_type": "code",
   "execution_count": 10,
   "metadata": {},
   "outputs": [
    {
     "name": "stdout",
     "output_type": "stream",
     "text": [
      "green\n",
      "black\n",
      "black\n"
     ]
    }
   ],
   "source": [
    "colors = ['g','r','b']\n",
    "for c in colors:\n",
    "    print(commentary(c))"
   ]
  },
  {
   "cell_type": "code",
   "execution_count": 19,
   "metadata": {},
   "outputs": [
    {
     "data": {
      "text/plain": [
       "{'wine': 'rioja', 'entree': 'cake', 'dessert': 'egg'}"
      ]
     },
     "execution_count": 19,
     "metadata": {},
     "output_type": "execute_result"
    }
   ],
   "source": [
    "def menu(wine,entree,dessert):\n",
    "    return {'wine':wine,'entree':entree,'dessert':dessert}\n",
    "\n",
    "menu('rioja','cake','egg')"
   ]
  },
  {
   "cell_type": "markdown",
   "metadata": {},
   "source": [
    "#### 키워드 인수"
   ]
  },
  {
   "cell_type": "code",
   "execution_count": 12,
   "metadata": {},
   "outputs": [
    {
     "data": {
      "text/plain": [
       "{'wine': 'rioja', 'entree': 'egg', 'dessert': 'pancake'}"
      ]
     },
     "execution_count": 12,
     "metadata": {},
     "output_type": "execute_result"
    }
   ],
   "source": [
    "menu(entree='egg',dessert=\"pancake\",wine='rioja')"
   ]
  },
  {
   "cell_type": "markdown",
   "metadata": {},
   "source": [
    "#### 디폴트 인수"
   ]
  },
  {
   "cell_type": "code",
   "execution_count": 17,
   "metadata": {},
   "outputs": [],
   "source": [
    "def menu2(entree,dessert,wine='rioja'): #디폴트 \n",
    "    return {'wine':wine,'entree':entree,'dessert':dessert}"
   ]
  },
  {
   "cell_type": "code",
   "execution_count": 18,
   "metadata": {},
   "outputs": [
    {
     "data": {
      "text/plain": [
       "{'wine': 'rioja', 'entree': 'merlot', 'dessert': 'egg'}"
      ]
     },
     "execution_count": 18,
     "metadata": {},
     "output_type": "execute_result"
    }
   ],
   "source": [
    "menu2('merlot','egg') #두개만 넣어도 됨! (디폴트 인수가 이미 있어서)"
   ]
  },
  {
   "cell_type": "markdown",
   "metadata": {},
   "source": [
    "#### 키워드 인수 + 디폴트 인수"
   ]
  },
  {
   "cell_type": "code",
   "execution_count": 20,
   "metadata": {},
   "outputs": [
    {
     "data": {
      "text/plain": [
       "{'wine': 'egg', 'entree': 'rioja', 'dessert': 'pancake'}"
      ]
     },
     "execution_count": 20,
     "metadata": {},
     "output_type": "execute_result"
    }
   ],
   "source": [
    "menu('egg','rioja',dessert ='pancake') #맨 마지막만 가능하다"
   ]
  },
  {
   "cell_type": "markdown",
   "metadata": {},
   "source": [
    "### 나이 -> 연도\n",
    "def fx():\n",
    " #입력값 = 나이\n",
    " #반환값 = 출생년도\n",
    "\n",
    "- input으로 입력 받아서 함수 사용해서 출력하기"
   ]
  },
  {
   "cell_type": "markdown",
   "metadata": {},
   "source": [
    "`옳지 않은 함수 이름 짓기`\n",
    "- cnt 와 같은 줄임말 사용 (x)\n",
    "- 그러나 주로 줄여쓰는 calc 와 같은 방식은 (o)\n",
    "- 줄임말 사용하지 않도록 주의하기!\n"
   ]
  },
  {
   "cell_type": "code",
   "execution_count": 23,
   "metadata": {},
   "outputs": [
    {
     "data": {
      "text/plain": [
       "2001"
      ]
     },
     "execution_count": 23,
     "metadata": {},
     "output_type": "execute_result"
    }
   ],
   "source": [
    "def calc_birth_year(age):\n",
    "    year = 2022-age+1\n",
    "    return year\n",
    "\n",
    "age = int(input())\n",
    "calc_birth_year(age)"
   ]
  },
  {
   "cell_type": "markdown",
   "metadata": {},
   "source": [
    "### 예\n",
    "- 사각형 너비 구하기\n",
    "    - 입력 : 두 변 길이\n",
    "    - 출력 : string 'xx cm'\n",
    "def ###:\n"
   ]
  },
  {
   "cell_type": "code",
   "execution_count": 24,
   "metadata": {},
   "outputs": [
    {
     "data": {
      "text/plain": [
       "'2 cm'"
      ]
     },
     "execution_count": 24,
     "metadata": {},
     "output_type": "execute_result"
    }
   ],
   "source": [
    "def calc_area(side1,side2):\n",
    "    result = side1*side2\n",
    "    return str(result)+\" cm\"\n",
    "\n",
    "side1 = int(input())\n",
    "side2= int(input())\n",
    "calc_area(side1,side2)"
   ]
  },
  {
   "cell_type": "markdown",
   "metadata": {},
   "source": [
    "### 호출 방식\n",
    "- 정의된 부분이 메모리에는 업로드 되지만 실행은 안된다.\n",
    "- 실행은 호출 시에 \n",
    "- 값을 넘기는 방식 : 참조에 의한 호출 (call by reference) 메모리 주소\n",
    "- 메모리 주소가 복사되기 때문에 가변 객체가 매개변수로 들어갈 때 주의할 것"
   ]
  },
  {
   "cell_type": "code",
   "execution_count": 27,
   "metadata": {},
   "outputs": [
    {
     "name": "stdout",
     "output_type": "stream",
     "text": [
      "2\n",
      "3\n",
      "1\n",
      "4\n"
     ]
    }
   ],
   "source": [
    "def calc_area(length,width): #define\n",
    "    print('1')\n",
    "    return length*width\n",
    "\n",
    "print('2')\n",
    "garo = 2\n",
    "sero = 43\n",
    "print('3')\n",
    "calc_area(garo,sero) #call\n",
    "print('4')"
   ]
  },
  {
   "cell_type": "code",
   "execution_count": 28,
   "metadata": {},
   "outputs": [
    {
     "name": "stdout",
     "output_type": "stream",
     "text": [
      "['a']\n",
      "['a', 'b']\n"
     ]
    }
   ],
   "source": [
    "#이는 얕은 복사 때문이다. \n",
    "def buggy(arg,result=[]):\n",
    "    result.append(arg)\n",
    "    print(result)\n",
    "\n",
    "buggy('a')\n",
    "buggy('b')"
   ]
  },
  {
   "cell_type": "code",
   "execution_count": 29,
   "metadata": {},
   "outputs": [
    {
     "name": "stdout",
     "output_type": "stream",
     "text": [
      "['a']\n",
      "['b']\n"
     ]
    }
   ],
   "source": [
    "def buggy(arg,result=[]):\n",
    "    result=[]\n",
    "    result.append(arg)\n",
    "    print(result)\n",
    "\n",
    "buggy('a')\n",
    "buggy('b')"
   ]
  },
  {
   "cell_type": "markdown",
   "metadata": {},
   "source": [
    "`어떻게 호출되고 있는 것일까`\n",
    "- ham이라는 배열에 0을 넣고 이를 spam 이라는 함수의 인자로 넣음\n",
    "- ham 이라는 배열에 1이 append 됨. spam 함수의 line 1에서는 [0,1].\n",
    "- -> 이때까지는 `eggs 와 ham 이 같은 주소를 가리킨다. `\n",
    "- 그러나 바로 아래에서 eggs가 재할당되어서 다른 주소를 가리키기에 기존의 배열인 ham 의 값이 바뀌지는 않는다. "
   ]
  },
  {
   "cell_type": "code",
   "execution_count": 3,
   "metadata": {},
   "outputs": [
    {
     "name": "stdout",
     "output_type": "stream",
     "text": [
      "ham의 주소 4580087360\n",
      "재할당되기 전 eggs의 주소 4580087360\n",
      "[2, 3] eggs\n",
      "재할당한 뒤 eggs의 주소 4584174656\n",
      "[0, 1] ham\n"
     ]
    }
   ],
   "source": [
    "def spam(eggs):\n",
    "    eggs.append(1)\n",
    "    print(\"재할당되기 전 eggs의 주소\",id(eggs))\n",
    "    eggs = [2,3]\n",
    "    print(eggs,'eggs')\n",
    "    print(\"재할당한 뒤 eggs의 주소\",id(eggs))\n",
    "\n",
    "ham=[0]\n",
    "print(\"ham의 주소\",id(ham))\n",
    "spam(ham)\n",
    "print(ham,'ham')"
   ]
  },
  {
   "cell_type": "code",
   "execution_count": 31,
   "metadata": {},
   "outputs": [
    {
     "name": "stdout",
     "output_type": "stream",
     "text": [
      "b\n"
     ]
    }
   ],
   "source": [
    "thing = None\n",
    "if thing:\n",
    "    print('a')\n",
    "else:\n",
    "    print('b')"
   ]
  },
  {
   "cell_type": "code",
   "execution_count": 32,
   "metadata": {},
   "outputs": [
    {
     "name": "stdout",
     "output_type": "stream",
     "text": [
      "a\n"
     ]
    }
   ],
   "source": [
    "#None <- is None\n",
    "thing = None\n",
    "if thing is None:\n",
    "    print('a')\n",
    "elif thing:\n",
    "    print('b')"
   ]
  },
  {
   "cell_type": "code",
   "execution_count": 41,
   "metadata": {},
   "outputs": [
    {
     "name": "stdout",
     "output_type": "stream",
     "text": [
      "[]\n"
     ]
    }
   ],
   "source": [
    "def nonbuggy(arg,result=None):\n",
    "    if result is None:\n",
    "        result = []\n",
    "    else:\n",
    "        result.append(arg)\n",
    "    print(result)\n",
    "\n",
    "nonbuggy(1)"
   ]
  },
  {
   "cell_type": "markdown",
   "metadata": {},
   "source": [
    "#### 전역변수 vs 지역변수\n",
    "- 지역변수 : 함수 내에서만 사용 가능\n",
    "- 매개변수는 지역변수다. \n",
    "- 전역변수 : 프로그램 전체에서 사용 가능 -> global 을 사용한다. "
   ]
  },
  {
   "cell_type": "code",
   "execution_count": 46,
   "metadata": {},
   "outputs": [
    {
     "name": "stdout",
     "output_type": "stream",
     "text": [
      "london\n",
      "london\n"
     ]
    }
   ],
   "source": [
    "def fx():\n",
    "    \"\"\"\n",
    "    doc string : 함수에 대한 설명\n",
    "    매개변수에 대한 설명\n",
    "    \"\"\"\n",
    "    global city #어디에서나 city 는 london이 되는 것\n",
    "    city = 'london'\n",
    "    print(city)\n",
    "\n",
    "city = 'paris'\n",
    "fx()\n",
    "print(city)"
   ]
  },
  {
   "cell_type": "markdown",
   "metadata": {},
   "source": [
    "## 궁금증\n",
    "- `함수가 실행되지 않아도 global 변수가 효과가 있을까?` -> 없다!"
   ]
  },
  {
   "cell_type": "code",
   "execution_count": 5,
   "metadata": {},
   "outputs": [
    {
     "name": "stdout",
     "output_type": "stream",
     "text": [
      "paris\n"
     ]
    }
   ],
   "source": [
    "def fx():\n",
    "    \"\"\"\n",
    "    doc string : 함수에 대한 설명\n",
    "    매개변수에 대한 설명\n",
    "    \"\"\"\n",
    "    global city #어디에서나 city 는 london이 되는 것\n",
    "    city = 'london'\n",
    "    print(city)\n",
    "\n",
    "city = 'paris'\n",
    "print(city)"
   ]
  },
  {
   "cell_type": "code",
   "execution_count": 45,
   "metadata": {},
   "outputs": [
    {
     "data": {
      "text/plain": [
       "'london'"
      ]
     },
     "execution_count": 45,
     "metadata": {},
     "output_type": "execute_result"
    }
   ],
   "source": [
    "city"
   ]
  },
  {
   "cell_type": "code",
   "execution_count": 47,
   "metadata": {},
   "outputs": [
    {
     "name": "stdout",
     "output_type": "stream",
     "text": [
      "Help on function fx in module __main__:\n",
      "\n",
      "fx()\n",
      "    doc string : 함수에 대한 설명\n",
      "    매개변수에 대한 설명\n",
      "\n"
     ]
    }
   ],
   "source": [
    "help(fx)"
   ]
  },
  {
   "cell_type": "code",
   "execution_count": 6,
   "metadata": {},
   "outputs": [],
   "source": [
    "def fx():\n",
    "    \"\"\"\n",
    "    전역변수에 대해 학습할 수 있는 함수. \n",
    "    매개변수는 없음. \n",
    "    반환값도 없음.\n",
    "    \"\"\"\n",
    "    global city #어디에서나 city 는 london이 되는 것\n",
    "    city = 'london'\n",
    "    print(city)\n"
   ]
  },
  {
   "cell_type": "code",
   "execution_count": 7,
   "metadata": {},
   "outputs": [
    {
     "data": {
      "text/plain": [
       "'\\n    전역변수에 대해 학습할 수 있는 함수. \\n    매개변수는 없음. \\n    반환값도 없음.\\n    '"
      ]
     },
     "execution_count": 7,
     "metadata": {},
     "output_type": "execute_result"
    }
   ],
   "source": [
    "fx.__doc__"
   ]
  }
 ],
 "metadata": {
  "interpreter": {
   "hash": "aee8b7b246df8f9039afb4144a1f6fd8d2ca17a180786b69acc140d282b71a49"
  },
  "kernelspec": {
   "display_name": "Python 3.10.4 64-bit",
   "language": "python",
   "name": "python3"
  },
  "language_info": {
   "codemirror_mode": {
    "name": "ipython",
    "version": 3
   },
   "file_extension": ".py",
   "mimetype": "text/x-python",
   "name": "python",
   "nbconvert_exporter": "python",
   "pygments_lexer": "ipython3",
   "version": "3.10.4"
  },
  "orig_nbformat": 4
 },
 "nbformat": 4,
 "nbformat_minor": 2
}
