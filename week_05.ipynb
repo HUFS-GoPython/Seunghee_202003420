{
 "cells": [
  {
   "cell_type": "code",
   "execution_count": null,
   "id": "7ac8bf61",
   "metadata": {},
   "outputs": [],
   "source": [
    "import nltk\n",
    "from nltk.book import *\n",
    "nltk.download('book',quiet=True)"
   ]
  },
  {
   "cell_type": "markdown",
   "id": "c49dda83",
   "metadata": {},
   "source": [
    "## 반복문\n",
    "- for, while\n",
    "\n",
    "### while\n",
    "- 어떤 조건이 만족할 때까지 블록 수행\n",
    "- 해당 조건이 거짓이면 수행을 멈춘다\n",
    "    - 언제 빠나오는지 정확히 알아야 한다. \n",
    "- for + if\n",
    "\n",
    "### for vs while\n",
    "- for loop : 반복횟수 정확히 알고, 반복 횟수 변하지 않을 때\n",
    "    - 예: 전체 학생 성적 산출\n",
    "- while loop :\n",
    "    가위바위보"
   ]
  },
  {
   "cell_type": "markdown",
   "id": "21366e8a",
   "metadata": {},
   "source": [
    "#### for 숫자 시퀀스 생성\n",
    "\n",
    "- 특정 범위 내에서의 숫자 스트림\n",
    "ex) \n",
    "```python\n",
    "for i in range(1,10):\n",
    "    1부터 9까지 프린트됨\n",
    "```\n",
    "- 형태는 `for i in range(시작점, 끝점+1)`"
   ]
  },
  {
   "cell_type": "code",
   "execution_count": null,
   "id": "cafeabc4",
   "metadata": {},
   "outputs": [],
   "source": [
    "for i in range(10):\n",
    "    print(i)"
   ]
  },
  {
   "cell_type": "code",
   "execution_count": null,
   "id": "61619021",
   "metadata": {},
   "outputs": [
    {
     "name": "stdout",
     "output_type": "stream",
     "text": [
      "1\n",
      "2\n",
      "3\n",
      "4\n",
      "5\n"
     ]
    }
   ],
   "source": [
    "j = 0\n",
    "while j<5:\n",
    "    j+=1\n",
    "    print(j)"
   ]
  },
  {
   "cell_type": "code",
   "execution_count": null,
   "id": "49e6cd8a",
   "metadata": {},
   "outputs": [
    {
     "name": "stdout",
     "output_type": "stream",
     "text": [
      "a\n",
      "b\n",
      "c\n",
      "a\n",
      "b\n",
      "c\n"
     ]
    }
   ],
   "source": [
    "characters = ['a','b','c']\n",
    "for ch in characters:\n",
    "    print(ch)\n",
    "i=0\n",
    "while i < len(characters):\n",
    "    print(characters[i])\n",
    "    i+=1"
   ]
  },
  {
   "cell_type": "markdown",
   "id": "b8c24d76",
   "metadata": {},
   "source": [
    "### 반복문의 제어\n",
    "- 의도치 않게 코드를 종료시킬 수 있기 때문에 웬만해서는 쓰지 않는다.\n",
    "- break : 논리적으로 반복문을 종료시킬 수 있도록.\n",
    "- else : 어떤 조건이 \"완전히\" 끝났을 때 한번 더 실행하는 블록. break로 끝난 것과 구분할 수 있다. while 조건에 어긋날 때 수행\n",
    "- continue : 특정 조건을 건너뛰고 다음 조건을 수행함."
   ]
  },
  {
   "cell_type": "code",
   "execution_count": null,
   "id": "177c2938",
   "metadata": {},
   "outputs": [
    {
     "name": "stdout",
     "output_type": "stream",
     "text": [
      "0\n",
      "1\n",
      "2\n",
      "3\n",
      "4\n"
     ]
    }
   ],
   "source": [
    "for i in range(10):\n",
    "    if i== 5:\n",
    "        break #브레이크 시점을 잘 알아야 한다.\n",
    "    print(i)"
   ]
  },
  {
   "cell_type": "code",
   "execution_count": null,
   "id": "9bff4db5",
   "metadata": {},
   "outputs": [
    {
     "name": "stdout",
     "output_type": "stream",
     "text": [
      "0\n",
      "1\n",
      "2\n",
      "3\n",
      "4\n"
     ]
    }
   ],
   "source": [
    "j = 0\n",
    "while j < 5:\n",
    "    print(j)\n",
    "    if j==4:\n",
    "        break\n",
    "    j+=1"
   ]
  },
  {
   "cell_type": "code",
   "execution_count": null,
   "id": "15959a96",
   "metadata": {},
   "outputs": [
    {
     "name": "stdout",
     "output_type": "stream",
     "text": [
      "0\n",
      "1\n",
      "2\n",
      "3\n",
      "4\n",
      "5\n"
     ]
    }
   ],
   "source": [
    "for i in range(10):\n",
    "    if i==6:\n",
    "        break\n",
    "    print(i)\n",
    "else:\n",
    "    print(\"ended\")"
   ]
  },
  {
   "cell_type": "markdown",
   "id": "591b72b3",
   "metadata": {},
   "source": [
    "#### 구구단\n",
    "- 1. for while 선택한 뒤 입력 받아서 해당 단을 출력.\n",
    "    - 출력 형식 : == 3단 ==<br>\n",
    "                <tab>3 X 1 = 3<br>\n",
    "                ...<br>\n",
    "                3 X 9 = 27\n",
    "- 2. 1~n 단까지 출력\n",
    "- 3. 시작단, 끝단 둘 다 입력받을 것. \n",
    "    - 예 : 4-7단\n",
    "- 4. 프로그램으로 만든다. \n",
    "- 1) n단 1-n단 3) n-m\n",
    "- 메뉴에 없는 선택 처리 \n",
    "-"
   ]
  },
  {
   "cell_type": "code",
   "execution_count": 5,
   "id": "569f9789",
   "metadata": {},
   "outputs": [
    {
     "name": "stdout",
     "output_type": "stream",
     "text": [
      "== 3단 ===\n",
      "3 X 1 = 3\n",
      "3 X 2 = 6\n",
      "3 X 3 = 9\n",
      "3 X 4 = 12\n",
      "3 X 5 = 15\n",
      "3 X 6 = 18\n",
      "3 X 7 = 21\n",
      "3 X 8 = 24\n",
      "3 X 9 = 27\n"
     ]
    }
   ],
   "source": [
    "dan = int(input())\n",
    "print(f\"== {dan}단 ===\")\n",
    "for i in range(1,10):\n",
    "    print(f\"{dan} X {i} = {dan*i}\")\n"
   ]
  },
  {
   "cell_type": "code",
   "execution_count": 7,
   "id": "08203301",
   "metadata": {},
   "outputs": [
    {
     "name": "stdout",
     "output_type": "stream",
     "text": [
      "== 1단 ==\n",
      "1 X 1 = 1\n",
      "1 X 2 = 2\n",
      "1 X 3 = 3\n",
      "1 X 4 = 4\n",
      "1 X 5 = 5\n",
      "1 X 6 = 6\n",
      "1 X 7 = 7\n",
      "1 X 8 = 8\n",
      "1 X 9 = 9\n",
      "== 2단 ==\n",
      "2 X 1 = 2\n",
      "2 X 2 = 4\n",
      "2 X 3 = 6\n",
      "2 X 4 = 8\n",
      "2 X 5 = 10\n",
      "2 X 6 = 12\n",
      "2 X 7 = 14\n",
      "2 X 8 = 16\n",
      "2 X 9 = 18\n",
      "== 3단 ==\n",
      "3 X 1 = 3\n",
      "3 X 2 = 6\n",
      "3 X 3 = 9\n",
      "3 X 4 = 12\n",
      "3 X 5 = 15\n",
      "3 X 6 = 18\n",
      "3 X 7 = 21\n",
      "3 X 8 = 24\n",
      "3 X 9 = 27\n",
      "== 4단 ==\n",
      "4 X 1 = 4\n",
      "4 X 2 = 8\n",
      "4 X 3 = 12\n",
      "4 X 4 = 16\n",
      "4 X 5 = 20\n",
      "4 X 6 = 24\n",
      "4 X 7 = 28\n",
      "4 X 8 = 32\n",
      "4 X 9 = 36\n",
      "== 5단 ==\n",
      "5 X 1 = 5\n",
      "5 X 2 = 10\n",
      "5 X 3 = 15\n",
      "5 X 4 = 20\n",
      "5 X 5 = 25\n",
      "5 X 6 = 30\n",
      "5 X 7 = 35\n",
      "5 X 8 = 40\n",
      "5 X 9 = 45\n"
     ]
    }
   ],
   "source": [
    "n = int(input())\n",
    "for i in range(1,n+1):\n",
    "    print(f\"== {i}단 ==\")\n",
    "    for j in range(1,10):\n",
    "        print(f\"{i} X {j} = {i*j}\")"
   ]
  },
  {
   "cell_type": "code",
   "execution_count": 10,
   "id": "4f821cea",
   "metadata": {},
   "outputs": [
    {
     "name": "stdout",
     "output_type": "stream",
     "text": [
      "== 3단 ==\n",
      "3 X 1 = 3\n",
      "3 X 2 = 6\n",
      "3 X 3 = 9\n",
      "3 X 4 = 12\n",
      "3 X 5 = 15\n",
      "3 X 6 = 18\n",
      "3 X 7 = 21\n",
      "3 X 8 = 24\n",
      "3 X 9 = 27\n",
      "== 4단 ==\n",
      "4 X 1 = 4\n",
      "4 X 2 = 8\n",
      "4 X 3 = 12\n",
      "4 X 4 = 16\n",
      "4 X 5 = 20\n",
      "4 X 6 = 24\n",
      "4 X 7 = 28\n",
      "4 X 8 = 32\n",
      "4 X 9 = 36\n",
      "== 5단 ==\n",
      "5 X 1 = 5\n",
      "5 X 2 = 10\n",
      "5 X 3 = 15\n",
      "5 X 4 = 20\n",
      "5 X 5 = 25\n",
      "5 X 6 = 30\n",
      "5 X 7 = 35\n",
      "5 X 8 = 40\n",
      "5 X 9 = 45\n",
      "== 6단 ==\n",
      "6 X 1 = 6\n",
      "6 X 2 = 12\n",
      "6 X 3 = 18\n",
      "6 X 4 = 24\n",
      "6 X 5 = 30\n",
      "6 X 6 = 36\n",
      "6 X 7 = 42\n",
      "6 X 8 = 48\n",
      "6 X 9 = 54\n",
      "== 7단 ==\n",
      "7 X 1 = 7\n",
      "7 X 2 = 14\n",
      "7 X 3 = 21\n",
      "7 X 4 = 28\n",
      "7 X 5 = 35\n",
      "7 X 6 = 42\n",
      "7 X 7 = 49\n",
      "7 X 8 = 56\n",
      "7 X 9 = 63\n"
     ]
    }
   ],
   "source": [
    "start = int(input())\n",
    "end =int(input())\n",
    "if start > end:\n",
    "    start,end = end,start\n",
    "\n",
    "for i in range(start,end+1):        \n",
    "    print(f\"== {i}단 ==\")\n",
    "    for j in range(1,10):\n",
    "        print(f\"{i} X {j} = {i*j}\")\n"
   ]
  },
  {
   "cell_type": "code",
   "execution_count": 15,
   "id": "6a317e95",
   "metadata": {},
   "outputs": [
    {
     "name": "stdout",
     "output_type": "stream",
     "text": [
      "다시 입력해주세요\n",
      "== 1단 ==\n",
      "1 X 1 = 1\n",
      "1 X 2 = 2\n",
      "1 X 3 = 3\n",
      "1 X 4 = 4\n",
      "1 X 5 = 5\n",
      "1 X 6 = 6\n",
      "1 X 7 = 7\n",
      "1 X 8 = 8\n",
      "1 X 9 = 9\n",
      "== 2단 ==\n",
      "2 X 1 = 2\n",
      "2 X 2 = 4\n",
      "2 X 3 = 6\n",
      "2 X 4 = 8\n",
      "2 X 5 = 10\n",
      "2 X 6 = 12\n",
      "2 X 7 = 14\n",
      "2 X 8 = 16\n",
      "2 X 9 = 18\n",
      "== 3단 ==\n",
      "3 X 1 = 3\n",
      "3 X 2 = 6\n",
      "3 X 3 = 9\n",
      "3 X 4 = 12\n",
      "3 X 5 = 15\n",
      "3 X 6 = 18\n",
      "3 X 7 = 21\n",
      "3 X 8 = 24\n",
      "3 X 9 = 27\n"
     ]
    }
   ],
   "source": [
    "def num_one():\n",
    "    dan = int(input())\n",
    "    print(f\"== {dan}단 ===\")\n",
    "    for i in range(1,10):\n",
    "        print(f\"{dan} X {i} = {dan*i}\")\n",
    "        \n",
    "def num_two():\n",
    "    n = int(input(\"끝단을 입력해주세요\"))\n",
    "    for i in range(1,n+1):\n",
    "        print(f\"== {i}단 ==\")\n",
    "        for j in range(1,10):\n",
    "            print(f\"{i} X {j} = {i*j}\")\n",
    "\n",
    "def num_three():\n",
    "    start = int(input(\"시작단을 입력해주세요\"))\n",
    "    end =int(input(\"끝단을 입력해주세요\"))\n",
    "    if start > end:\n",
    "        start,end = end,start\n",
    "\n",
    "    for i in range(start,end+1):        \n",
    "        print(f\"== {i}단 ==\")\n",
    "        for j in range(1,10):\n",
    "            print(f\"{i} X {j} = {i*j}\")\n",
    "\n",
    "while True:\n",
    "    n = int(input())\n",
    "    if n==1:\n",
    "        num_one()\n",
    "        break\n",
    "    elif n==2:\n",
    "        num_two()\n",
    "        break\n",
    "    elif n==3:\n",
    "        num_three()\n",
    "        break\n",
    "    else:\n",
    "        print(\"다시 입력해주세요\")"
   ]
  },
  {
   "cell_type": "markdown",
   "id": "f754f40f",
   "metadata": {},
   "source": [
    "## print formatting\n",
    "- 1. f string\n",
    "    - f F 둘 다 지정 가능\n",
    "    - f'{var}'\n",
    "    ```python\n",
    "    name = 'lee'\n",
    "    print(f\"my name is {name}\")\n",
    "    ```\n",
    "- 2. format\n",
    "    -'{}'.format(var)\n",
    "    ```python\n",
    "    name = 'lee'\n",
    "    print(\"my name is {}\".format(name))\n",
    "    print(\"my name is {0}\".format(name))\n",
    "    ```\n",
    "- 3. %\n",
    "    - '% type' %var\n",
    "    ```python\n",
    "    print(\"my name is %s\"%name)\n",
    "    ```"
   ]
  },
  {
   "cell_type": "code",
   "execution_count": 10,
   "id": "94b48f4c",
   "metadata": {},
   "outputs": [],
   "source": [
    "\n",
    "while True:\n",
    "    type1 = int(input('1) n단 2) 1~n단 3) n~m단 \\n 원하는 타입을 숫자로 입력해 주세요:'))\n",
    "    if type1 == 1 or type1 == 2 or type1 == 3:\n",
    "        break\n",
    "    else:\n",
    "        print('숫자를 다시 입력해주세요:')\n",
    "\n",
    "if type1 == 1:\n",
    "    n = int(input('숫자를 입력하세요:'))\n",
    "    print(f'== {n}단 ==')\n",
    "    for i in range(1,10):\n",
    "        print(f'{n} x {i} = {n * i}')\n",
    "        \n",
    "elif type1 == 2:\n",
    "    n = int(input('숫자를 입력하세요:'))\n",
    "    for j in range(1, n+1):\n",
    "        print(f'== {j}단 ==')\n",
    "        for i in range(1,10):\n",
    "            print(f'{j} x {i} = {j * i}')\n",
    "else:\n",
    "    n = int(input('시작단을 입력하세요:'))\n",
    "    m = int(input('끝단을 입력하세요:'))\n",
    "    if n < m:\n",
    "        n,m = m,n\n",
    "        \n",
    "    for j in range(n, m+1):\n",
    "        print(f'== {j}단 ==')\n",
    "        for i in range(1,10):\n",
    "            print(f'{j} x {i} = {j * i}')"
   ]
  },
  {
   "cell_type": "code",
   "execution_count": 6,
   "id": "28470f82",
   "metadata": {},
   "outputs": [
    {
     "name": "stdout",
     "output_type": "stream",
     "text": [
      "my name is lee\n",
      "my name is name= 'lee'!!!!\n"
     ]
    }
   ],
   "source": [
    "#변수명까지 같이 출력하고자 하는 경우\n",
    "name = 'lee'\n",
    "print(\"my name is {0}\".format(name))\n",
    "print(f\"my name is {name= }!!!!\")"
   ]
  },
  {
   "cell_type": "markdown",
   "id": "363038da",
   "metadata": {},
   "source": [
    "### 연습문제\n",
    "1. for 문으로 리스트 [3, 2, 1, 0]를 출력\n",
    "2. guess_me 변수에 7을 할당하고, number 변수에 1을 할당. number와 guess_me를 비교하는 while 문을\n",
    "작성. number가 guess_me보다 작으면 'too low'를 출력. number와 guess_me가 같으면 'found it!’을\n",
    "출력하고 반복문을 종료.\n",
    "number가 guess_me보다 크면 'oops'를 출력하고 반복문을 종료. 그리고 반복문의 마지막에 number를\n",
    "1씩 증가시키기\n",
    "3. guess_me 변수에 5를 할당하고, for 문을 사용하여 range(10)에서 number 변수를 사용\n",
    "number가 guess_me보다 작으면 'too low'를 출력. number와 guess_me가 같으면 'found it!'을 출력하고\n",
    "반복문을 종료. number가 guess_me보다 크면 'oops'를 출력하고 반복문을 종료"
   ]
  },
  {
   "cell_type": "code",
   "execution_count": 19,
   "id": "399cb896",
   "metadata": {},
   "outputs": [
    {
     "name": "stdout",
     "output_type": "stream",
     "text": [
      "[3, 2, 1, 0]\n"
     ]
    }
   ],
   "source": [
    "#1번\n",
    "num = []\n",
    "for i in range(0,4):\n",
    "    num.append(i)\n",
    "for i in range(len(num)):\n",
    "    if i==len(num)-1:\n",
    "        print(num[::-1])"
   ]
  },
  {
   "cell_type": "code",
   "execution_count": 13,
   "id": "82dffb35",
   "metadata": {},
   "outputs": [
    {
     "name": "stdout",
     "output_type": "stream",
     "text": [
      "too low\n",
      "too low\n",
      "too low\n",
      "too low\n",
      "too low\n",
      "too low\n",
      "found it!\n"
     ]
    }
   ],
   "source": [
    "#2번\n",
    "\n",
    "guess_me = 7\n",
    "number = 1\n",
    "while True:\n",
    "    if number < guess_me:\n",
    "        print(\"too low\")\n",
    "        number+=1\n",
    "    elif number==guess_me:\n",
    "        print(\"found it!\")\n",
    "        number+=1\n",
    "        break\n",
    "    else:\n",
    "        print(\"oops!\")\n",
    "        number+=1\n",
    "        break"
   ]
  },
  {
   "cell_type": "code",
   "execution_count": 17,
   "id": "8df250e6",
   "metadata": {},
   "outputs": [
    {
     "name": "stdout",
     "output_type": "stream",
     "text": [
      "too low\n",
      "too low\n",
      "too low\n",
      "too low\n",
      "found it!\n"
     ]
    }
   ],
   "source": [
    "#3번\n",
    "guess_me = 5\n",
    "number = 1\n",
    "\n",
    "for i in range(10):\n",
    "    if number < guess_me:\n",
    "        print(\"too low\")\n",
    "        number+=1\n",
    "    elif number==guess_me:\n",
    "        print(\"found it!\")\n",
    "        number+=1\n",
    "        break\n",
    "    else:\n",
    "        print(\"oops!\")\n",
    "        number+=1\n",
    "        break"
   ]
  },
  {
   "cell_type": "code",
   "execution_count": 21,
   "id": "24b2e35d",
   "metadata": {},
   "outputs": [
    {
     "name": "stderr",
     "output_type": "stream",
     "text": [
      "[nltk_data] Error loading gutenberg: <urlopen error [SSL:\n",
      "[nltk_data]     CERTIFICATE_VERIFY_FAILED] certificate verify failed:\n",
      "[nltk_data]     unable to get local issuer certificate (_ssl.c:997)>\n"
     ]
    },
    {
     "data": {
      "text/plain": [
       "False"
      ]
     },
     "execution_count": 21,
     "metadata": {},
     "output_type": "execute_result"
    }
   ],
   "source": [
    "import nltk\n",
    "from nltk.corpus import gutenberg\n",
    "nltk.download('gutenberg',quiet=True)\n"
   ]
  },
  {
   "cell_type": "markdown",
   "id": "7b350e32",
   "metadata": {},
   "source": [
    "### NLTK : Corpus\n",
    "- 다양한 종류의 코퍼스가 있다.\n",
    "- 더 다양한 언어 분석이 가능하다.\n",
    "- 종류 \n",
    "    - gutenberg -> 저작권이 만료된 문학의 말뭉치들\n",
    "    - brown\n",
    "    - inaugural\n",
    "- 함수\n",
    "    - words()\n",
    "    - sents()\n",
    "    - fields()\n",
    "    - raw"
   ]
  },
  {
   "cell_type": "code",
   "execution_count": 24,
   "id": "49fff6b7",
   "metadata": {},
   "outputs": [
    {
     "data": {
      "text/plain": [
       "['[', 'Emma', 'by', 'Jane', 'Austen', '1816', ']', ...]"
      ]
     },
     "execution_count": 24,
     "metadata": {},
     "output_type": "execute_result"
    }
   ],
   "source": [
    "gutenberg.words()"
   ]
  },
  {
   "cell_type": "code",
   "execution_count": 26,
   "id": "5b277bf0",
   "metadata": {},
   "outputs": [
    {
     "data": {
      "text/plain": [
       "['austen-emma.txt',\n",
       " 'austen-persuasion.txt',\n",
       " 'austen-sense.txt',\n",
       " 'bible-kjv.txt',\n",
       " 'blake-poems.txt',\n",
       " 'bryant-stories.txt',\n",
       " 'burgess-busterbrown.txt',\n",
       " 'carroll-alice.txt',\n",
       " 'chesterton-ball.txt',\n",
       " 'chesterton-brown.txt',\n",
       " 'chesterton-thursday.txt',\n",
       " 'edgeworth-parents.txt',\n",
       " 'melville-moby_dick.txt',\n",
       " 'milton-paradise.txt',\n",
       " 'shakespeare-caesar.txt',\n",
       " 'shakespeare-hamlet.txt',\n",
       " 'shakespeare-macbeth.txt',\n",
       " 'whitman-leaves.txt']"
      ]
     },
     "execution_count": 26,
     "metadata": {},
     "output_type": "execute_result"
    }
   ],
   "source": [
    "gutenberg.fileids()"
   ]
  },
  {
   "cell_type": "code",
   "execution_count": 48,
   "id": "2084ee30",
   "metadata": {},
   "outputs": [
    {
     "name": "stdout",
     "output_type": "stream",
     "text": [
      "Austen-Emma | 글자 수 : 887071 단어 수 : 192427 문장 수 : 7717\n",
      "Austen-Persuasion | 글자 수 : 466292 단어 수 : 98171 문장 수 : 3747\n",
      "Austen-Sense | 글자 수 : 673022 단어 수 : 141576 문장 수 : 4999\n",
      "Bible-Kjv | 글자 수 : 4332554 단어 수 : 1010654 문장 수 : 30103\n",
      "Blake-Poems | 글자 수 : 38153 단어 수 : 8354 문장 수 : 438\n",
      "Bryant-Stories | 글자 수 : 249439 단어 수 : 55563 문장 수 : 2863\n",
      "Burgess-Busterbrown | 글자 수 : 84663 단어 수 : 18963 문장 수 : 1054\n",
      "Carroll-Alice | 글자 수 : 144395 단어 수 : 34110 문장 수 : 1703\n",
      "Chesterton-Ball | 글자 수 : 457450 단어 수 : 96996 문장 수 : 4779\n",
      "Chesterton-Brown | 글자 수 : 406629 단어 수 : 86063 문장 수 : 3806\n",
      "Chesterton-Thursday | 글자 수 : 320525 단어 수 : 69213 문장 수 : 3728\n",
      "Edgeworth-Parents | 글자 수 : 935158 단어 수 : 210663 문장 수 : 10230\n",
      "Melville-Moby_Dick | 글자 수 : 1242990 단어 수 : 260819 문장 수 : 10059\n",
      "Milton-Paradise | 글자 수 : 468220 단어 수 : 96825 문장 수 : 1851\n",
      "Shakespeare-Caesar | 글자 수 : 112310 단어 수 : 25833 문장 수 : 2163\n",
      "Shakespeare-Hamlet | 글자 수 : 162881 단어 수 : 37360 문장 수 : 3106\n",
      "Shakespeare-Macbeth | 글자 수 : 100351 단어 수 : 23140 문장 수 : 1907\n",
      "Whitman-Leaves | 글자 수 : 711215 단어 수 : 154883 문장 수 : 4250\n",
      "['[', 'Emma', 'by', 'Jane', 'Austen', '1816', ']', ...]\n"
     ]
    }
   ],
   "source": [
    "#각 파일을 돌며 글자 수 단어 수 문장 수를 출력\n",
    "for k in gutenberg.fileids():\n",
    "    print(f\"{k.title()[:-4]} | 글자 수 : {len(gutenberg.raw(k))} 단어 수 : {len(gutenberg.words(k))} 문장 수 : {len(gutenberg.sents(k))}\")\n",
    "print(gutenberg.words())"
   ]
  },
  {
   "cell_type": "markdown",
   "id": "a745f556",
   "metadata": {},
   "source": [
    "#### 늘 어려웠던! `nltk 의 book 전체를 한번에 가져오기`"
   ]
  },
  {
   "cell_type": "code",
   "execution_count": 56,
   "id": "1fb6f60e",
   "metadata": {},
   "outputs": [],
   "source": [
    "from nltk import book"
   ]
  },
  {
   "cell_type": "markdown",
   "id": "99fd0869",
   "metadata": {},
   "source": [
    "### getattr() 이란?\n",
    "- getattr(object, name[, default])\n",
    "- 아래의 코드를 예시로 들어보자면, nltk.book 이라는 객체의 text{i}를 가져오는 것이다. getattr를 사용하지 않으면 nltk.book.text1 , nltk.book.text2 .. 와 동일하다\n"
   ]
  },
  {
   "cell_type": "code",
   "execution_count": 69,
   "id": "f3a6f56e",
   "metadata": {},
   "outputs": [
    {
     "data": {
      "text/plain": [
       "[<Text: Moby Dick by Herman Melville 1851>,\n",
       " <Text: Sense and Sensibility by Jane Austen 1811>,\n",
       " <Text: The Book of Genesis>,\n",
       " <Text: Inaugural Address Corpus>,\n",
       " <Text: Chat Corpus>,\n",
       " <Text: Monty Python and the Holy Grail>,\n",
       " <Text: Wall Street Journal>,\n",
       " <Text: Personals Corpus>,\n",
       " <Text: The Man Who Was Thursday by G . K . Chesterton 1908>]"
      ]
     },
     "execution_count": 69,
     "metadata": {},
     "output_type": "execute_result"
    }
   ],
   "source": [
    "# text 1 ~6 \n",
    "texts = []\n",
    "texts = [getattr(nltk.book, f\"text{i}\") for i in range(1,10)]\n",
    "texts"
   ]
  },
  {
   "cell_type": "code",
   "execution_count": 23,
   "id": "5dabc530",
   "metadata": {},
   "outputs": [],
   "source": [
    "corpus1 = gutenberg.words(fileids=\"Whitman-Leaves.txt\")\n",
    "fdist = nltk.FreqDist([w.lower() for w in corpus1])\n",
    "# 단어들을 전부 소문자로 만들고 FreqDist 에 넣음. \n",
    "# fdist['빈도를 알고자하는 단어'] 하면 해당 단어의 빈도가 출력됨."
   ]
  },
  {
   "cell_type": "code",
   "execution_count": 24,
   "id": "f0c5bb24",
   "metadata": {},
   "outputs": [
    {
     "data": {
      "text/plain": [
       "28"
      ]
     },
     "execution_count": 24,
     "metadata": {},
     "output_type": "execute_result"
    }
   ],
   "source": [
    "fdist['tree']"
   ]
  },
  {
   "cell_type": "markdown",
   "id": "c55670e5",
   "metadata": {},
   "source": [
    "# Brown\n",
    "- categrories()"
   ]
  },
  {
   "cell_type": "code",
   "execution_count": 27,
   "id": "cb2dfd60",
   "metadata": {},
   "outputs": [
    {
     "name": "stderr",
     "output_type": "stream",
     "text": [
      "[nltk_data] Error loading brown: <urlopen error [SSL:\n",
      "[nltk_data]     CERTIFICATE_VERIFY_FAILED] certificate verify failed:\n",
      "[nltk_data]     unable to get local issuer certificate (_ssl.c:997)>\n"
     ]
    }
   ],
   "source": [
    "from nltk.corpus import brown\n",
    "nltk.download('brown')\n",
    "brown_corpus = nltk.corpus.brown"
   ]
  },
  {
   "cell_type": "code",
   "execution_count": 28,
   "id": "ea7ce2a3",
   "metadata": {},
   "outputs": [
    {
     "data": {
      "text/plain": [
       "['adventure',\n",
       " 'belles_lettres',\n",
       " 'editorial',\n",
       " 'fiction',\n",
       " 'government',\n",
       " 'hobbies',\n",
       " 'humor',\n",
       " 'learned',\n",
       " 'lore',\n",
       " 'mystery',\n",
       " 'news',\n",
       " 'religion',\n",
       " 'reviews',\n",
       " 'romance',\n",
       " 'science_fiction']"
      ]
     },
     "execution_count": 28,
     "metadata": {},
     "output_type": "execute_result"
    }
   ],
   "source": [
    "brown_corpus.categories()\n",
    "#카테고리별로 코퍼스를 나눠놓음. "
   ]
  },
  {
   "cell_type": "code",
   "execution_count": 29,
   "id": "a3fbf03c",
   "metadata": {},
   "outputs": [],
   "source": [
    "humor = brown_corpus.words(categories='humor') #humor 에 관한 corpus 가 뜬다. "
   ]
  },
  {
   "cell_type": "code",
   "execution_count": 30,
   "id": "3cfdd4a8",
   "metadata": {},
   "outputs": [
    {
     "name": "stdout",
     "output_type": "stream",
     "text": [
      "can 17\n",
      "could 33\n",
      "may 8\n",
      "might 8\n",
      "will 13\n",
      "would 56\n"
     ]
    }
   ],
   "source": [
    "modals = ['can','could','may','might','will','would']\n",
    "\n",
    "fdist_brown = nltk.FreqDist([w.lower() for w in humor])\n",
    "\n",
    "for verb in modals:\n",
    "    print(verb,fdist_brown[verb])"
   ]
  },
  {
   "cell_type": "markdown",
   "id": "da5ccfaf",
   "metadata": {},
   "source": [
    "## conditional frequency distribution (CFD)\n",
    "- 조건이 붙은 fdst"
   ]
  },
  {
   "cell_type": "code",
   "execution_count": 31,
   "id": "262d91ea",
   "metadata": {},
   "outputs": [],
   "source": [
    "cfd = nltk.ConditionalFreqDist(\n",
    "    (genre,word.lower())\n",
    "    for genre in brown.categories()\n",
    "    for word in brown.words(categories=genre)\n",
    ")\n",
    "\n",
    "\n",
    "#튜플 중 앞은 조건, 뒤는 샘플이라고 함.\n",
    "#genre 가 일치하는 단어들 중에서 ~ 인 것!\n",
    "#아래의 예시라면 장르가 adventure인 것들 중 the 단어가 얼마나 자주 등장하는지"
   ]
  },
  {
   "cell_type": "code",
   "execution_count": 32,
   "id": "84bc719c",
   "metadata": {},
   "outputs": [
    {
     "data": {
      "text/plain": [
       "[('.', 4057),\n",
       " ('the', 3780),\n",
       " (',', 3488),\n",
       " ('and', 1706),\n",
       " ('a', 1432),\n",
       " ('of', 1327),\n",
       " ('to', 1322),\n",
       " ('he', 1283),\n",
       " ('``', 998),\n",
       " (\"''\", 995)]"
      ]
     },
     "execution_count": 32,
     "metadata": {},
     "output_type": "execute_result"
    }
   ],
   "source": [
    "cfd['adventure']['the'] #3780\n",
    "cfd['adventure'].most_common(10) #가장 많이 나오는 단어들"
   ]
  },
  {
   "cell_type": "code",
   "execution_count": 33,
   "id": "b86d4f2d",
   "metadata": {},
   "outputs": [
    {
     "name": "stdout",
     "output_type": "stream",
     "text": [
      "                 can could   may might  will would \n",
      "     adventure    48   154     7    59    51   194 \n",
      "belles_lettres   249   216   221   113   246   397 \n",
      "     editorial   124    57    79    39   235   185 \n"
     ]
    }
   ],
   "source": [
    "cfd.tabulate(conditions=brown_corpus.categories()[:3],samples=modals)\n",
    "#categorie 중에 앞에서 세개만 뽑아서, samples 는 위의 배열인 Modals 로! 해서 시각화"
   ]
  },
  {
   "cell_type": "code",
   "execution_count": 34,
   "id": "5f2434fb",
   "metadata": {},
   "outputs": [
    {
     "data": {
      "text/plain": [
       "1339"
      ]
     },
     "execution_count": 34,
     "metadata": {},
     "output_type": "execute_result"
    }
   ],
   "source": [
    "cfd['fiction']['a'] #fiction 이라는 장르에서 a가 1339 번 나왔다는 의미 "
   ]
  }
 ],
 "metadata": {
  "kernelspec": {
   "display_name": "Python 3 (ipykernel)",
   "language": "python",
   "name": "python3"
  },
  "language_info": {
   "codemirror_mode": {
    "name": "ipython",
    "version": 3
   },
   "file_extension": ".py",
   "mimetype": "text/x-python",
   "name": "python",
   "nbconvert_exporter": "python",
   "pygments_lexer": "ipython3",
   "version": "3.10.4"
  }
 },
 "nbformat": 4,
 "nbformat_minor": 5
}
