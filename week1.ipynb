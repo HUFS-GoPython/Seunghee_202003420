{
 "cells": [
  {
   "cell_type": "markdown",
   "id": "990ebae4",
   "metadata": {},
   "source": [
    "### 프로그래밍이란?\n",
    "\n",
    "- programming : 프로그래밍 언어를 사용하여 프로그램을 개발하는 것"
   ]
  },
  {
   "cell_type": "markdown",
   "id": "d429be26",
   "metadata": {},
   "source": [
    "## Ch2. Data:Types, Values, Variables and Names"
   ]
  },
  {
   "cell_type": "code",
   "execution_count": 1,
   "id": "8af3aa2e",
   "metadata": {},
   "outputs": [],
   "source": [
    "a = 2"
   ]
  },
  {
   "cell_type": "markdown",
   "id": "0b85dd93",
   "metadata": {},
   "source": [
    "- 변수 | variable (i.e. a): 특정 값을 저장하는 공간\n",
    "- 값 | vallue : 2\n",
    "- 자료형 | type: 2가 어떤 타입인가? 데이터의 형태. integer (int type)\n",
    "- 할당하다 | assign : 2를 a에 넣는 과정\n",
    "- a가 2다 -> a ==2\n",
    "- a=2 는 a를 2에 할당한 것이고 이와 a==2 는 다르다. "
   ]
  },
  {
   "cell_type": "markdown",
   "id": "7920c073",
   "metadata": {},
   "source": [
    "### 변수의 타입\n",
    "- boolean\n",
    "- integer\n",
    "- floating point number\n",
    "- string"
   ]
  },
  {
   "cell_type": "code",
   "execution_count": 3,
   "id": "f9dbd668",
   "metadata": {},
   "outputs": [],
   "source": [
    "num = 4"
   ]
  },
  {
   "cell_type": "code",
   "execution_count": 4,
   "id": "0c0d928a",
   "metadata": {},
   "outputs": [
    {
     "data": {
      "text/plain": [
       "int"
      ]
     },
     "execution_count": 4,
     "metadata": {},
     "output_type": "execute_result"
    }
   ],
   "source": [
    "type(num)"
   ]
  },
  {
   "cell_type": "markdown",
   "id": "06dc7c52",
   "metadata": {},
   "source": [
    "### 변수명 정하기\n",
    "\n",
    "- 소문자 대문자 숫자 언더바 사용\n",
    "    - 가능한 예 : `name`, `NAME`\n",
    "    - 불가능한 예 : `my-name`, `3name`\n",
    "\n",
    "- 변수명으로 사용할 수 없는 케이스\n",
    "    1. 숫자로 시작하는 경우\n",
    "    2. 예약어"
   ]
  },
  {
   "cell_type": "code",
   "execution_count": 6,
   "id": "4fae5f79",
   "metadata": {},
   "outputs": [
    {
     "data": {
      "text/plain": [
       "'lee'"
      ]
     },
     "execution_count": 6,
     "metadata": {},
     "output_type": "execute_result"
    }
   ],
   "source": [
    "name='lee'\n",
    "name"
   ]
  },
  {
   "cell_type": "code",
   "execution_count": 9,
   "id": "21a479e1",
   "metadata": {},
   "outputs": [
    {
     "ename": "SyntaxError",
     "evalue": "invalid syntax (2114190801.py, line 1)",
     "output_type": "error",
     "traceback": [
      "\u001b[0;36m  File \u001b[0;32m\"/var/folders/m_/dw2g6cv578x3b79x2j4mhq_m0000gn/T/ipykernel_53915/2114190801.py\"\u001b[0;36m, line \u001b[0;32m1\u001b[0m\n\u001b[0;31m    3name='kim' #숫자로 시작하는 경우 변수명으로 사용 불가\u001b[0m\n\u001b[0m     ^\u001b[0m\n\u001b[0;31mSyntaxError\u001b[0m\u001b[0;31m:\u001b[0m invalid syntax\n"
     ]
    }
   ],
   "source": [
    "3name='kim' #숫자로 시작하는 경우 변수명으로 사용 불가"
   ]
  },
  {
   "cell_type": "code",
   "execution_count": 10,
   "id": "f2c09ffb",
   "metadata": {
    "scrolled": true
   },
   "outputs": [
    {
     "ename": "SyntaxError",
     "evalue": "invalid syntax (4205543034.py, line 1)",
     "output_type": "error",
     "traceback": [
      "\u001b[0;36m  File \u001b[0;32m\"/var/folders/m_/dw2g6cv578x3b79x2j4mhq_m0000gn/T/ipykernel_53915/4205543034.py\"\u001b[0;36m, line \u001b[0;32m1\u001b[0m\n\u001b[0;31m    def = 'hwang' #예약어는 변수명으로 사용 불가\u001b[0m\n\u001b[0m        ^\u001b[0m\n\u001b[0;31mSyntaxError\u001b[0m\u001b[0;31m:\u001b[0m invalid syntax\n"
     ]
    }
   ],
   "source": [
    "def = 'hwang' #예약어는 변수명으로 사용 불가"
   ]
  },
  {
   "cell_type": "markdown",
   "id": "8683a6a5",
   "metadata": {},
   "source": [
    "- 주의할 점 ( 다른 용도가 있어서 일반적으로 사용하지 않는 변수명 )\n",
    "    1. 언더바로 시작하는 변수명\n",
    "    2. 언더바가 2개 있는 변수명\n",
    "    3. 대문자로 시작하는 변수명\n",
    "    4. 전체가 대문자인 변수명"
   ]
  },
  {
   "cell_type": "code",
   "execution_count": 11,
   "id": "e1a7ef38",
   "metadata": {},
   "outputs": [
    {
     "name": "stdout",
     "output_type": "stream",
     "text": [
      "\n",
      "Here is a list of the Python keywords.  Enter any keyword to get more help.\n",
      "\n",
      "False               break               for                 not\n",
      "None                class               from                or\n",
      "True                continue            global              pass\n",
      "__peg_parser__      def                 if                  raise\n",
      "and                 del                 import              return\n",
      "as                  elif                in                  try\n",
      "assert              else                is                  while\n",
      "async               except              lambda              with\n",
      "await               finally             nonlocal            yield\n",
      "\n"
     ]
    }
   ],
   "source": [
    "help(\"keywords\") #예약어 전부 볼 수 있음"
   ]
  },
  {
   "cell_type": "markdown",
   "id": "e0cf1062",
   "metadata": {},
   "source": [
    "### 할당하기\n",
    "\n",
    "- 수학에서는 = 가 양변이 같음을 의미하는데, 프로그램에서는 할당을 의미한다.\n",
    "    ex) `name` = `lee`\n",
    "    - lee 라는 값을 name에 넣는다.\n",
    "- 오른쪽에 있는 모든 것은 값을 가져야 한다. (\"초기화\")"
   ]
  },
  {
   "cell_type": "code",
   "execution_count": 12,
   "id": "452552e9",
   "metadata": {},
   "outputs": [],
   "source": [
    "car = 'hyundai'"
   ]
  },
  {
   "cell_type": "code",
   "execution_count": 13,
   "id": "f9b81ca2",
   "metadata": {},
   "outputs": [
    {
     "ename": "NameError",
     "evalue": "name 'kia' is not defined",
     "output_type": "error",
     "traceback": [
      "\u001b[0;31m---------------------------------------------------------------------------\u001b[0m",
      "\u001b[0;31mNameError\u001b[0m                                 Traceback (most recent call last)",
      "\u001b[0;32m/var/folders/m_/dw2g6cv578x3b79x2j4mhq_m0000gn/T/ipykernel_53915/3428332996.py\u001b[0m in \u001b[0;36m<module>\u001b[0;34m\u001b[0m\n\u001b[0;32m----> 1\u001b[0;31m \u001b[0mtruck\u001b[0m \u001b[0;34m=\u001b[0m \u001b[0mkia\u001b[0m \u001b[0;31m#없는 값이기 때문에\u001b[0m\u001b[0;34m\u001b[0m\u001b[0;34m\u001b[0m\u001b[0m\n\u001b[0m",
      "\u001b[0;31mNameError\u001b[0m: name 'kia' is not defined"
     ]
    }
   ],
   "source": [
    "truck = kia #없는 값이기 때문에"
   ]
  },
  {
   "cell_type": "code",
   "execution_count": 15,
   "id": "3fa92874",
   "metadata": {},
   "outputs": [],
   "source": [
    "kia = 'kia'\n",
    "truck = kia #위와는 다르게 초기화를 해주었음"
   ]
  },
  {
   "cell_type": "code",
   "execution_count": 16,
   "id": "7c2c23f6",
   "metadata": {},
   "outputs": [
    {
     "name": "stdout",
     "output_type": "stream",
     "text": [
      "2 12\n"
     ]
    }
   ],
   "source": [
    "x = 2\n",
    "y = x+10 # name 'x' is not defined\n",
    "print(x,y)"
   ]
  },
  {
   "cell_type": "code",
   "execution_count": null,
   "id": "840f5513",
   "metadata": {},
   "outputs": [],
   "source": []
  }
 ],
 "metadata": {
  "kernelspec": {
   "display_name": "Python 3 (ipykernel)",
   "language": "python",
   "name": "python3"
  },
  "language_info": {
   "codemirror_mode": {
    "name": "ipython",
    "version": 3
   },
   "file_extension": ".py",
   "mimetype": "text/x-python",
   "name": "python",
   "nbconvert_exporter": "python",
   "pygments_lexer": "ipython3",
   "version": "3.9.7"
  }
 },
 "nbformat": 4,
 "nbformat_minor": 5
}
