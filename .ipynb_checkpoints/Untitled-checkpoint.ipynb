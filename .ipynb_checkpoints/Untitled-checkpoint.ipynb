{
 "cells": [
  {
   "cell_type": "markdown",
   "id": "9c68a1db",
   "metadata": {},
   "source": [
    "## NLTK"
   ]
  },
  {
   "cell_type": "code",
   "execution_count": 5,
   "id": "5f40bcf3",
   "metadata": {},
   "outputs": [
    {
     "data": {
      "text/plain": [
       "True"
      ]
     },
     "execution_count": 5,
     "metadata": {},
     "output_type": "execute_result"
    }
   ],
   "source": [
    "import nltk\n",
    "from nltk.book import *\n",
    "nltk.download('book',quiet=True)"
   ]
  },
  {
   "cell_type": "markdown",
   "id": "668afecb",
   "metadata": {},
   "source": [
    "### 함수\n",
    "- count() -> 텍스트에서 어떤 요소의 개수를 세는\n",
    "- replace() -> A ->B\n",
    "- strip() -> 불필요한 공백, 원하는 요소 제거하는 역할\n",
    "- find() -> 원하는 문자열 찾기\n",
    "- index() -> 원하는 문자열의 인덱스 반환"
   ]
  },
  {
   "cell_type": "markdown",
   "id": "e992232e",
   "metadata": {},
   "source": [
    "##### count"
   ]
  },
  {
   "cell_type": "code",
   "execution_count": 6,
   "id": "32f9e227",
   "metadata": {},
   "outputs": [
    {
     "data": {
      "text/plain": [
       "13721"
      ]
     },
     "execution_count": 6,
     "metadata": {},
     "output_type": "execute_result"
    }
   ],
   "source": [
    "text1.count('the') #The THE 는 세지 않은 것."
   ]
  },
  {
   "cell_type": "code",
   "execution_count": 7,
   "id": "020cdab9",
   "metadata": {},
   "outputs": [
    {
     "data": {
      "text/plain": [
       "3861"
      ]
     },
     "execution_count": 7,
     "metadata": {},
     "output_type": "execute_result"
    }
   ],
   "source": [
    "text2.count('the')"
   ]
  },
  {
   "cell_type": "markdown",
   "id": "bb7b1645",
   "metadata": {},
   "source": [
    "##### replace"
   ]
  },
  {
   "cell_type": "code",
   "execution_count": 11,
   "id": "2e2f5dc4",
   "metadata": {},
   "outputs": [
    {
     "data": {
      "text/plain": [
       "'the'"
      ]
     },
     "execution_count": 11,
     "metadata": {},
     "output_type": "execute_result"
    }
   ],
   "source": [
    "word = 'the'\n",
    "word.replace('t','T')\n",
    "word"
   ]
  },
  {
   "cell_type": "code",
   "execution_count": 12,
   "id": "337dd63f",
   "metadata": {},
   "outputs": [
    {
     "data": {
      "text/plain": [
       "'The'"
      ]
     },
     "execution_count": 12,
     "metadata": {},
     "output_type": "execute_result"
    }
   ],
   "source": [
    "word = 'the'\n",
    "word = word.replace('t','T')\n",
    "word #할당해야만 바뀐다."
   ]
  },
  {
   "cell_type": "markdown",
   "id": "a9d6cccd",
   "metadata": {},
   "source": [
    "##### strip"
   ]
  },
  {
   "cell_type": "code",
   "execution_count": 14,
   "id": "056053fc",
   "metadata": {},
   "outputs": [
    {
     "data": {
      "text/plain": [
       "'word'"
      ]
     },
     "execution_count": 14,
     "metadata": {},
     "output_type": "execute_result"
    }
   ],
   "source": [
    "word = '                word'\n",
    "# word.strip() #공백이 사라짐\n",
    "word.lstrip() #왼쪽의 공백이 사라짐"
   ]
  },
  {
   "cell_type": "markdown",
   "id": "3d040de6",
   "metadata": {},
   "source": [
    "##### 혼합해서 쓰기"
   ]
  },
  {
   "cell_type": "code",
   "execution_count": 17,
   "id": "382ad907",
   "metadata": {},
   "outputs": [
    {
     "data": {
      "text/plain": [
       "'Work'"
      ]
     },
     "execution_count": 17,
     "metadata": {},
     "output_type": "execute_result"
    }
   ],
   "source": [
    "word.lstrip().replace('w','W').replace('d','k') #연속적으로 스트링에 붙일 수 있음. \n",
    "#함수에 대한 결과가 스트링이라서."
   ]
  },
  {
   "cell_type": "markdown",
   "id": "66380696",
   "metadata": {},
   "source": [
    "##### find"
   ]
  },
  {
   "cell_type": "code",
   "execution_count": 18,
   "id": "5871c3a3",
   "metadata": {},
   "outputs": [
    {
     "data": {
      "text/plain": [
       "18"
      ]
     },
     "execution_count": 18,
     "metadata": {},
     "output_type": "execute_result"
    }
   ],
   "source": [
    "word.find('r') #r의 인덱스 (처음으로 발견한 위치로)\n",
    "# lfind, rfind 어디서 시작하면서 찾을지를 설정할 수 있음!"
   ]
  },
  {
   "cell_type": "markdown",
   "id": "00fc703a",
   "metadata": {},
   "source": [
    "##### index"
   ]
  },
  {
   "cell_type": "code",
   "execution_count": 19,
   "id": "b3d9d546",
   "metadata": {},
   "outputs": [
    {
     "data": {
      "text/plain": [
       "18"
      ]
     },
     "execution_count": 19,
     "metadata": {},
     "output_type": "execute_result"
    }
   ],
   "source": [
    "word.index('r')"
   ]
  },
  {
   "cell_type": "markdown",
   "id": "881528b8",
   "metadata": {},
   "source": [
    "##### index find의 차이?\n",
    "- find 는 없는 문자열을 찾으면 -1, index는 오류를 반환"
   ]
  },
  {
   "cell_type": "code",
   "execution_count": 20,
   "id": "d7578a64",
   "metadata": {},
   "outputs": [
    {
     "data": {
      "text/plain": [
       "-1"
      ]
     },
     "execution_count": 20,
     "metadata": {},
     "output_type": "execute_result"
    }
   ],
   "source": [
    "word2 = 'i have a pen'\n",
    "word2.find('k')"
   ]
  },
  {
   "cell_type": "code",
   "execution_count": 21,
   "id": "1f2fcda5",
   "metadata": {},
   "outputs": [
    {
     "ename": "ValueError",
     "evalue": "substring not found",
     "output_type": "error",
     "traceback": [
      "\u001b[0;31m---------------------------------------------------------------------------\u001b[0m",
      "\u001b[0;31mValueError\u001b[0m                                Traceback (most recent call last)",
      "\u001b[0;32m/var/folders/m_/dw2g6cv578x3b79x2j4mhq_m0000gn/T/ipykernel_26990/624018613.py\u001b[0m in \u001b[0;36m<module>\u001b[0;34m\u001b[0m\n\u001b[0;32m----> 1\u001b[0;31m \u001b[0mword2\u001b[0m\u001b[0;34m.\u001b[0m\u001b[0mindex\u001b[0m\u001b[0;34m(\u001b[0m\u001b[0;34m'k'\u001b[0m\u001b[0;34m)\u001b[0m\u001b[0;34m\u001b[0m\u001b[0;34m\u001b[0m\u001b[0m\n\u001b[0m",
      "\u001b[0;31mValueError\u001b[0m: substring not found"
     ]
    }
   ],
   "source": [
    "word2.index('k') #없는 문자열을 찾으니 오류가 반환됨."
   ]
  },
  {
   "cell_type": "markdown",
   "id": "5ae160e3",
   "metadata": {},
   "source": [
    "### NLTK 내장함수\n",
    "\n",
    "- NLTK 전용\n",
    "- concordance() -> 특정 스트링이 어떤 문맥에서 쓰이는지\n",
    "- similar() -> 주어진 문자열과 비슷한 문맥에서 쓰이는 단어들 보여줌\n",
    "- commmon_context(리스트) -> 주어진 스트링들(리스트로 들어가야 함) 공유하는 문맥\n",
    "- dispersion_plot(리스트) -> 주어진 스트링들이 텍스트의 어느 위치에 나오는지 이미지로 보여줌."
   ]
  },
  {
   "cell_type": "code",
   "execution_count": 24,
   "id": "796ac58a",
   "metadata": {},
   "outputs": [
    {
     "name": "stdout",
     "output_type": "stream",
     "text": [
      "Displaying 25 of 1226 matches:\n",
      "s , and to teach them by what name a whale - fish is to be called in our tongue\n",
      "t which is not true .\" -- HACKLUYT \" WHALE . ... Sw . and Dan . HVAL . This ani\n",
      "ulted .\" -- WEBSTER ' S DICTIONARY \" WHALE . ... It is more immediately from th\n",
      "ISH . WAL , DUTCH . HWAL , SWEDISH . WHALE , ICELANDIC . WHALE , ENGLISH . BALE\n",
      "HWAL , SWEDISH . WHALE , ICELANDIC . WHALE , ENGLISH . BALEINE , FRENCH . BALLE\n",
      "least , take the higgledy - piggledy whale statements , however authentic , in \n",
      " dreadful gulf of this monster ' s ( whale ' s ) mouth , are immediately lost a\n",
      " patient Job .\" -- RABELAIS . \" This whale ' s liver was two cartloads .\" -- ST\n",
      " Touching that monstrous bulk of the whale or ork we have received nothing cert\n",
      " of oil will be extracted out of one whale .\" -- IBID . \" HISTORY OF LIFE AND D\n",
      "ise .\" -- KING HENRY . \" Very like a whale .\" -- HAMLET . \" Which to secure , n\n",
      "restless paine , Like as the wounded whale to shore flies thro ' the maine .\" -\n",
      ". OF SPERMA CETI AND THE SPERMA CETI WHALE . VIDE HIS V . E . \" Like Spencer ' \n",
      "t had been a sprat in the mouth of a whale .\" -- PILGRIM ' S PROGRESS . \" That \n",
      "EN ' S ANNUS MIRABILIS . \" While the whale is floating at the stern of the ship\n",
      "e ship called The Jonas - in - the - Whale . ... Some say the whale can ' t ope\n",
      " in - the - Whale . ... Some say the whale can ' t open his mouth , but that is\n",
      " masts to see whether they can see a whale , for the first discoverer has a duc\n",
      " for his pains . ... I was told of a whale taken near Shetland , that had above\n",
      "oneers told me that he caught once a whale in Spitzbergen that was white all ov\n",
      "2 , one eighty feet in length of the whale - bone kind came in , which ( as I w\n",
      "n master and kill this Sperma - ceti whale , for I could never hear of any of t\n",
      " . 1729 . \"... and the breath of the whale is frequendy attended with such an i\n",
      "ed with hoops and armed with ribs of whale .\" -- RAPE OF THE LOCK . \" If we com\n",
      "contemptible in the comparison . The whale is doubtless the largest animal in c\n"
     ]
    }
   ],
   "source": [
    "text1.concordance('whale') #whale 주변에 무엇이 나오는지"
   ]
  },
  {
   "cell_type": "code",
   "execution_count": 26,
   "id": "1df56956",
   "metadata": {},
   "outputs": [
    {
     "name": "stdout",
     "output_type": "stream",
     "text": [
      "ship boat sea time captain world man deck pequod other whales air\n",
      "water head crew line thing side way body\n"
     ]
    }
   ],
   "source": [
    "text1.similar('whale') #이는 nontype. 즉 출력만 가능하고 할당하는 것은 불가능!"
   ]
  },
  {
   "cell_type": "code",
   "execution_count": 28,
   "id": "c63daa8e",
   "metadata": {},
   "outputs": [
    {
     "name": "stdout",
     "output_type": "stream",
     "text": [
      "am_glad a_pretty a_lucky is_pretty be_glad\n"
     ]
    }
   ],
   "source": [
    "text2.common_contexts(['monstrous','very']) #이 두 단어가 공유하는 문맥이 무엇인지"
   ]
  },
  {
   "cell_type": "code",
   "execution_count": 31,
   "id": "97c6ce8a",
   "metadata": {},
   "outputs": [
    {
     "data": {
      "text/plain": [
       "<Text: Inaugural Address Corpus>"
      ]
     },
     "execution_count": 31,
     "metadata": {},
     "output_type": "execute_result"
    }
   ],
   "source": [
    "text4"
   ]
  },
  {
   "cell_type": "code",
   "execution_count": 30,
   "id": "992be3a5",
   "metadata": {},
   "outputs": [
    {
     "data": {
      "image/png": "[encoded data removed]",
      "text/plain": [
       "<Figure size 432x288 with 1 Axes>"
      ]
     },
     "metadata": {
      "needs_background": "light"
     },
     "output_type": "display_data"
    }
   ],
   "source": [
    "text4.dispersion_plot(['citizens','democracy','America']) # citizen이 나오는 위치들을 보여주는 것"
   ]
  },
  {
   "cell_type": "markdown",
   "id": "334ada81",
   "metadata": {},
   "source": [
    "### 리스트, 리스트컴프리핸션\n",
    "- 프로그래밍에서 '배열'에 해당, 파이썬에서는 리스트라고 부른다.\n",
    "- 하나의 변수에 여러 값을 할당하는 자료형\n",
    "    - `example = [1,2,3,4]`\n",
    "- 대괄호를 사용한다\n",
    "- 내부 요소들의 자료형은 같을 필요 없다.\n",
    "    - `example = [1,'yes',True]`\n",
    "- 순서가 있는 자료형 => 슬라이싱, 인덱싱이 가능하다\n",
    "- 빈 리스트 선언 `set(),[]`"
   ]
  },
  {
   "cell_type": "code",
   "execution_count": 32,
   "id": "8bd3a0f0",
   "metadata": {},
   "outputs": [],
   "source": [
    "empty = []"
   ]
  },
  {
   "cell_type": "code",
   "execution_count": 33,
   "id": "7b2df39f",
   "metadata": {},
   "outputs": [
    {
     "data": {
      "text/plain": [
       "'blue'"
      ]
     },
     "execution_count": 33,
     "metadata": {},
     "output_type": "execute_result"
    }
   ],
   "source": [
    "colors = ['blue','yellow','white']\n",
    "colors[0]"
   ]
  },
  {
   "cell_type": "code",
   "execution_count": 34,
   "id": "d6055872",
   "metadata": {},
   "outputs": [
    {
     "data": {
      "text/plain": [
       "['white', 'yellow', 'blue']"
      ]
     },
     "execution_count": 34,
     "metadata": {},
     "output_type": "execute_result"
    }
   ],
   "source": [
    "colors[::-1]"
   ]
  },
  {
   "cell_type": "markdown",
   "id": "8616e661",
   "metadata": {},
   "source": [
    "### list comprehension\n",
    "- 포함형/지능형/축약형 리스트\n",
    "- 하나의 리스트에서 이를 포함하여 다른 리스트를 만든다.\n",
    "- list + for loop\n",
    "- [A for B in C]\n",
    "    - C에 있는 B에서 A를 가져와라 ==> 리스트에 담아서 반환\n",
    "    - A : 내가 원하는 출력 형태\n",
    "    - B : C의 형태\n",
    "    - C : 반복 가능한 자료형\n",
    " \n",
    "- 조건 추가 : [A for B in C if ...]"
   ]
  },
  {
   "cell_type": "code",
   "execution_count": 35,
   "id": "302cbabe",
   "metadata": {},
   "outputs": [
    {
     "data": {
      "text/plain": [
       "['b', 'y', 'w']"
      ]
     },
     "execution_count": 35,
     "metadata": {},
     "output_type": "execute_result"
    }
   ],
   "source": [
    "[color[0] for color in colors] #각각 color의 0번쨰 인덱스만 출력"
   ]
  },
  {
   "cell_type": "code",
   "execution_count": 36,
   "id": "609ed905",
   "metadata": {},
   "outputs": [
    {
     "data": {
      "text/plain": [
       "['blue', 'yellow', 'white']"
      ]
     },
     "execution_count": 36,
     "metadata": {},
     "output_type": "execute_result"
    }
   ],
   "source": [
    "[color for color in colors]"
   ]
  },
  {
   "cell_type": "code",
   "execution_count": 39,
   "id": "d2ba58ab",
   "metadata": {},
   "outputs": [
    {
     "data": {
      "text/plain": [
       "['[', 'y', 'k', 'y', 'n', 'e', '1', ']', 'Y', '.']"
      ]
     },
     "execution_count": 39,
     "metadata": {},
     "output_type": "execute_result"
    }
   ],
   "source": [
    "#text1의 토큰 중 처음 10개 단어에서 마지막 알파벳 반환\n",
    "[token[-1] for token in text1.tokens][:10]"
   ]
  },
  {
   "cell_type": "code",
   "execution_count": 40,
   "id": "91ca3d68",
   "metadata": {},
   "outputs": [
    {
     "data": {
      "text/plain": [
       "['[', 'y', 'k', 'y', 'n', 'e', '1', ']', 'Y', '.']"
      ]
     },
     "execution_count": 40,
     "metadata": {},
     "output_type": "execute_result"
    }
   ],
   "source": [
    "#더 나은 코드 (시간이 덜걸림)\n",
    "[token[-1] for token in text1.tokens[:10]]"
   ]
  },
  {
   "cell_type": "markdown",
   "id": "3a5e35ad",
   "metadata": {},
   "source": [
    "##### 조건이 추가된 리스트 컴프리헨션"
   ]
  },
  {
   "cell_type": "code",
   "execution_count": 43,
   "id": "8d244735",
   "metadata": {},
   "outputs": [
    {
     "data": {
      "text/plain": [
       "['.']"
      ]
     },
     "execution_count": 43,
     "metadata": {},
     "output_type": "execute_result"
    }
   ],
   "source": [
    "[word for word in text1.tokens[:10] if len(word)<3 and (word=='.')]"
   ]
  },
  {
   "cell_type": "code",
   "execution_count": 44,
   "id": "58b3d6c2",
   "metadata": {},
   "outputs": [
    {
     "data": {
      "text/plain": [
       "['iamahotniplickme',\n",
       " '!!!!!!!!!!!!!!!!',\n",
       " 'iamahotnipwithpics',\n",
       " 'iamahotnipwithhotnippics',\n",
       " '--------------------',\n",
       " '..............................',\n",
       " '!!!!!!!!!!!!!!!!',\n",
       " 'mikeeeeeeeeeeeeeeeeeeeeeeeeee',\n",
       " 'oooooooooooooonnnnnnnnnnnneeeeeeeeeeeeeeesssssssss',\n",
       " 'WEEEEEEEEEEEEEEEEEE',\n",
       " '!!!!!!!!!!!!!!!!!!!!!!!',\n",
       " 'niteeeeeeeeeeeeeeeeeee',\n",
       " '#talkcity_adults',\n",
       " 'http://forums.talkcity.com/tc-adults/start ',\n",
       " '#talkcity_adults',\n",
       " 'http://www.shadowbots.com',\n",
       " '(((((((((((((((((((((',\n",
       " ')))))))))))))))))))))',\n",
       " 'huuuuuuuuuuuuuuuuuuuuuuuuuuuuuuuuuuugZ',\n",
       " ')))))))))))))))',\n",
       " 'wooooooooooooohoooooooooooooooo',\n",
       " 'www.Wunderground.com',\n",
       " '//www.wunderground.com/cgi-bin/findweather/getForecast?query=95953#FIR',\n",
       " 'www.Wunderground.com',\n",
       " 'www.Wunderground.com',\n",
       " '#talkcity_adults',\n",
       " 'whoaaaaaaaaaaaa',\n",
       " '((((((((((((((((((((',\n",
       " ')))))))))))))))))))',\n",
       " '((((((((((((((((((',\n",
       " ')))))))))))))))))))',\n",
       " '(((((((((((((((((',\n",
       " ')))))))))))))))))))))',\n",
       " 'ohhhhhhhhhhhhhhhh',\n",
       " '((((((((((((((((((((',\n",
       " ')))))))))))))))))))))))))))))))',\n",
       " '((((((((((((((((((((((((((',\n",
       " ')))))))))))))))))))))',\n",
       " '(((((((((((((((',\n",
       " ')))))))))))))))))))',\n",
       " 'grrrrrrrrrrrrrrrrr',\n",
       " '(((((((((((((((((',\n",
       " '))))))))))))))))))))))',\n",
       " '.(..(.vMp3 v1.7.4.).)',\n",
       " 'technologically',\n",
       " '.A.n.a.c.?.n.?.a.',\n",
       " '#talkcity_adults',\n",
       " 'http://forums.talkcity.com/tc-adults/start ',\n",
       " '#talkcity_adults',\n",
       " 'http://www.shadowbots.com',\n",
       " 'Nooooooooooooooo',\n",
       " '#talkcity_adults',\n",
       " '#talkcity_adults',\n",
       " 'hearthechatters',\n",
       " 'bwahahahahahahahahahaha',\n",
       " '[[[[[[[[[[[[[[[[[[',\n",
       " ']]]]]]]]]]]]]]]]]]]]]',\n",
       " 'noooooooooooooo',\n",
       " '#talkcity_adults',\n",
       " '#talkcity_adults',\n",
       " '<3333333333333333',\n",
       " '<33333333333333333',\n",
       " 'heeheeheeheeheehee',\n",
       " '))))))))))))))))))))))))))))',\n",
       " 'agurlwithbigguns',\n",
       " 'agurlwithbigguns',\n",
       " 'anyyyyyyyyyyyyyyyyy',\n",
       " 'muahsssssssssssssssssss',\n",
       " '(((((((((((((((',\n",
       " 'muahssssssssssssssss',\n",
       " '((((((((((((((((((((((((',\n",
       " ')))))))))))))))))',\n",
       " '(((((((((((((((((((((((',\n",
       " ')))))))))))))))',\n",
       " '(((((((((((((((((((((((((',\n",
       " '(((((((((((((((',\n",
       " '#talkcity_adults',\n",
       " '#talkcity_adults',\n",
       " 'http://www.shadowbots.com',\n",
       " 'antidepressants',\n",
       " 'antidepressants',\n",
       " 'antidepressants',\n",
       " 'heyyyyyyyyyyyyyy',\n",
       " '!!!!!!!!!!!!!!!!!!!!!!!!!!!',\n",
       " 'miiiiiinnnnnnnnnneeeeeeee',\n",
       " '....................',\n",
       " '...................',\n",
       " '..................',\n",
       " 'lllllllliiiiiiiiiikeee',\n",
       " 'miiiiiiiiiiiiinnnnnnnnnnneeeeeeeeee',\n",
       " 'aiiiiiiiiiiiiiiiiiiiiiiii',\n",
       " 'mmmmmmmmiiiiiiiiinnnnnnnnneeeeeeee',\n",
       " 'woooooooooaaaahhhhhhhhhhhh',\n",
       " 'backfrontsidewaysandallaroundtheworld',\n",
       " 'ahhhhhhhhhhhhhh',\n",
       " '#talkcity_adults',\n",
       " 'tatatatnanaantatat',\n",
       " '#talkcity_adults',\n",
       " '#talkcity_adults',\n",
       " 'weeeeeeeeeeeeeeeeeeeeeeeeed',\n",
       " '#talkcity_adults',\n",
       " 'hahahahahahahahahahahahahahahaha',\n",
       " '!!!!!!!!!!!!!!!!',\n",
       " 'eeeeeeeeewwwwwwww',\n",
       " '.(..(.vMp3 vi.p.t.)..).',\n",
       " '.(..(.vMp3 vi.p.t.)..).',\n",
       " 'cooooooooookiiiiiiiiiiiieeeeeeeeeeee',\n",
       " 'yuuuuuuuuuuuummmmmmmmmmmm',\n",
       " 'aaaaaaaaaaaaaaaaa',\n",
       " 'raaaaaaaaaaaaaaaaaaaaaaaaaaaaa',\n",
       " 'weeeeeeeeeeeeeeee',\n",
       " 'oooooooooooglyyyyyyyy',\n",
       " 'boooooooooooglyyyyyy',\n",
       " 'HHEEYYYYYYYYYYYYYYYYYYYYYYYYYYYYYYYYYYYYYYYYYYYYYYY',\n",
       " 'llloooozzzzeeerrrrzzzzzzzzzzzzzzzzzzzzzzzzzzzzzzzzzzzzzzzzzzzzzzzzz',\n",
       " '!!!!!!!!!!!!!!!!!!!!!!!!!!!!',\n",
       " '................',\n",
       " '........................',\n",
       " '!!!!!!!!!!!!!!!!!!!!!!',\n",
       " '!!!!!!!!!!!!!!!!!!!!!!',\n",
       " 'byeeeeeeeeeeeee',\n",
       " 'peace-and-quiet',\n",
       " '#talkcity_adults',\n",
       " 'http://forums.talkcity.com/tc-adults/start ',\n",
       " '#talkcity_adults',\n",
       " 'http://www.shadowbots.com',\n",
       " 'Mooooooooooooooooooooooooooo',\n",
       " 'wheeeeeeeeeeeeeeeeeeeeeeeeeeeeeeeeee',\n",
       " 'bbbbbyyyyyyyeeeeeeeee',\n",
       " '!!!!!!!!!!!!!!!!!!!!!!!!!!!!!!!!!!!!!!!!!!!!!!!!!!!!!!',\n",
       " 'HolocaustYourMom',\n",
       " 'Bloooooooooooood',\n",
       " 'BAAAAALLLLLLLLIIIIIIINNNNNNNNNNN']"
      ]
     },
     "execution_count": 44,
     "metadata": {},
     "output_type": "execute_result"
    }
   ],
   "source": [
    "#text5에서 길이가 15이상인 단어\n",
    "\n",
    "[word for word in text5.tokens if len(word)>=15]"
   ]
  },
  {
   "cell_type": "code",
   "execution_count": 47,
   "id": "0bc9ff1f",
   "metadata": {},
   "outputs": [
    {
     "data": {
      "text/plain": [
       "False"
      ]
     },
     "execution_count": 47,
     "metadata": {},
     "output_type": "execute_result"
    }
   ],
   "source": [
    "'hey'.isupper() #lower 인지 upper 인지 알려줌"
   ]
  },
  {
   "cell_type": "code",
   "execution_count": 50,
   "id": "6ca25362",
   "metadata": {},
   "outputs": [
    {
     "data": {
      "text/plain": [
       "['i',\n",
       " 'i',\n",
       " 'lord',\n",
       " 'lord',\n",
       " 'lord',\n",
       " 'lord',\n",
       " 'lord',\n",
       " 'lord',\n",
       " 'lord',\n",
       " 'lord',\n",
       " 'i',\n",
       " 'lord',\n",
       " 'lord',\n",
       " 'lord',\n",
       " 'lord',\n",
       " 'lord',\n",
       " 'lord',\n",
       " 'lord',\n",
       " 'i',\n",
       " 'i',\n",
       " 'i',\n",
       " 'i',\n",
       " 'i',\n",
       " 'i',\n",
       " 'lord',\n",
       " 'i',\n",
       " 'lord',\n",
       " 'i',\n",
       " 'i',\n",
       " 'i',\n",
       " 'lord',\n",
       " 'lord',\n",
       " 'lord',\n",
       " 'i',\n",
       " 'lord',\n",
       " 'lord',\n",
       " 'lord',\n",
       " 'lord',\n",
       " 'lord',\n",
       " 'i',\n",
       " 'i',\n",
       " 'lord',\n",
       " 'i',\n",
       " 'i',\n",
       " 'i',\n",
       " 'lord',\n",
       " 'lord',\n",
       " 'lord',\n",
       " 'i',\n",
       " 'lord',\n",
       " 'lord',\n",
       " 'lord',\n",
       " 'lord',\n",
       " 'lord',\n",
       " 'i',\n",
       " 'i',\n",
       " 'i',\n",
       " 'lord',\n",
       " 'i',\n",
       " 'a',\n",
       " 'i',\n",
       " 'i',\n",
       " 'i',\n",
       " 'lord',\n",
       " 'i',\n",
       " 'i',\n",
       " 'i',\n",
       " 'i',\n",
       " 'lord',\n",
       " 'lord',\n",
       " 'lord',\n",
       " 'lord',\n",
       " 'lord',\n",
       " 'i',\n",
       " 'i',\n",
       " 'i',\n",
       " 'i',\n",
       " 'i',\n",
       " 'i',\n",
       " 'i',\n",
       " 'i',\n",
       " 'i',\n",
       " 'i',\n",
       " 'i',\n",
       " 'i',\n",
       " 'i',\n",
       " 'i',\n",
       " 'i',\n",
       " 'i',\n",
       " 'i',\n",
       " 'lord',\n",
       " 'lord',\n",
       " 'lord',\n",
       " 'lord',\n",
       " 'lord',\n",
       " 'lord',\n",
       " 'lord',\n",
       " 'lord',\n",
       " 'lord',\n",
       " 'i',\n",
       " 'i',\n",
       " 'i',\n",
       " 'i',\n",
       " 'lord',\n",
       " 'lord',\n",
       " 'i',\n",
       " 'lord',\n",
       " 'lord',\n",
       " 'lord',\n",
       " 'i',\n",
       " 'i',\n",
       " 'lord',\n",
       " 'i',\n",
       " 'lord',\n",
       " 'i',\n",
       " 'i',\n",
       " 'i',\n",
       " 'i',\n",
       " 'lord',\n",
       " 'lord',\n",
       " 'lord',\n",
       " 'lord',\n",
       " 'i',\n",
       " 'i',\n",
       " 'i',\n",
       " 'lord',\n",
       " 'i',\n",
       " 'lord',\n",
       " 'i',\n",
       " 'i',\n",
       " 'i',\n",
       " 'lord',\n",
       " 'i',\n",
       " 'lord',\n",
       " 'i',\n",
       " 'lord',\n",
       " 'lord',\n",
       " 'i',\n",
       " 'lord',\n",
       " 'lord',\n",
       " 'i',\n",
       " 'i',\n",
       " 'i',\n",
       " 'lord',\n",
       " 'i',\n",
       " 'lord',\n",
       " 'i',\n",
       " 'i',\n",
       " 'i',\n",
       " 'i',\n",
       " 'lord',\n",
       " 'lord',\n",
       " 'i',\n",
       " 'lord',\n",
       " 'lord',\n",
       " 'i',\n",
       " 'lord',\n",
       " 'lord',\n",
       " 'lord',\n",
       " 'i',\n",
       " 'lord',\n",
       " 'i',\n",
       " 'i',\n",
       " 'i',\n",
       " 'i',\n",
       " 'i',\n",
       " 'i',\n",
       " 'i',\n",
       " 'i',\n",
       " 'i',\n",
       " 'i',\n",
       " 'o',\n",
       " 'i',\n",
       " 'i',\n",
       " 'i',\n",
       " 'i',\n",
       " 'i',\n",
       " 'lord',\n",
       " 'lord',\n",
       " 'i',\n",
       " 'i',\n",
       " 'i',\n",
       " 'i',\n",
       " 'i',\n",
       " 'i',\n",
       " 'i',\n",
       " 'lord',\n",
       " 'i',\n",
       " 'lord',\n",
       " 'i',\n",
       " 'i',\n",
       " 'lord',\n",
       " 'i',\n",
       " 'i',\n",
       " 'i',\n",
       " 'lord',\n",
       " 'lord',\n",
       " 'lord',\n",
       " 'i',\n",
       " 'i',\n",
       " 'lord',\n",
       " 'lord',\n",
       " 'i',\n",
       " 'i',\n",
       " 'i',\n",
       " 'lord',\n",
       " 'i',\n",
       " 'i',\n",
       " 'i',\n",
       " 'lord',\n",
       " 'i',\n",
       " 'i',\n",
       " 'i',\n",
       " 'i',\n",
       " 'lo',\n",
       " 'i',\n",
       " 'lord',\n",
       " 'i',\n",
       " 'i',\n",
       " 'lord',\n",
       " 'i',\n",
       " 'i',\n",
       " 'i',\n",
       " 'i',\n",
       " 'lord',\n",
       " 'lord',\n",
       " 'lord',\n",
       " 'lord',\n",
       " 'lord',\n",
       " 'i',\n",
       " 'i',\n",
       " 'i',\n",
       " 'i',\n",
       " 'i',\n",
       " 'lord',\n",
       " 'lord',\n",
       " 'lo',\n",
       " 'i',\n",
       " 'lord',\n",
       " 'i',\n",
       " 'i',\n",
       " 'i',\n",
       " 'i',\n",
       " 'i',\n",
       " 'i',\n",
       " 'i',\n",
       " 'i',\n",
       " 'lord',\n",
       " 'lord',\n",
       " 'lord',\n",
       " 'i',\n",
       " 'i',\n",
       " 'i',\n",
       " 'i',\n",
       " 'i',\n",
       " 'i',\n",
       " 'i',\n",
       " 'i',\n",
       " 'lord',\n",
       " 'i',\n",
       " 'i',\n",
       " 'i',\n",
       " 'i',\n",
       " 'lord',\n",
       " 'i',\n",
       " 'i',\n",
       " 'lord',\n",
       " 'lord',\n",
       " 'i',\n",
       " 'lord',\n",
       " 'i',\n",
       " 'i',\n",
       " 'i',\n",
       " 'i',\n",
       " 'i',\n",
       " 'i',\n",
       " 'i',\n",
       " 'i',\n",
       " 'i',\n",
       " 'i',\n",
       " 'i',\n",
       " 'lord',\n",
       " 'i',\n",
       " 'i',\n",
       " 'lord',\n",
       " 'i',\n",
       " 'i',\n",
       " 'lord',\n",
       " 'i',\n",
       " 'o',\n",
       " 'lord',\n",
       " 'i',\n",
       " 'i',\n",
       " 'i',\n",
       " 'i',\n",
       " 'i',\n",
       " 'i',\n",
       " 'i',\n",
       " 'i',\n",
       " 'i',\n",
       " 'lord',\n",
       " 'i',\n",
       " 'i',\n",
       " 'lord',\n",
       " 'lord',\n",
       " 'i',\n",
       " 'lord',\n",
       " 'lord',\n",
       " 'i',\n",
       " 'i',\n",
       " 'i',\n",
       " 'i',\n",
       " 'lord',\n",
       " 'i',\n",
       " 'i',\n",
       " 'lord',\n",
       " 'i',\n",
       " 'i',\n",
       " 'o',\n",
       " 'lord',\n",
       " 'i',\n",
       " 'i',\n",
       " 'i',\n",
       " 'i',\n",
       " 'i',\n",
       " 'lord',\n",
       " 'i',\n",
       " 'i',\n",
       " 'i',\n",
       " 'i',\n",
       " 'i',\n",
       " 'i',\n",
       " 'i',\n",
       " 'i',\n",
       " 'lord',\n",
       " 'lord',\n",
       " 'i',\n",
       " 'lo',\n",
       " 'lord',\n",
       " 'lord',\n",
       " 'lord',\n",
       " 'i',\n",
       " 'i',\n",
       " 'lord',\n",
       " 'lord',\n",
       " 'i',\n",
       " 'lord',\n",
       " 'lord',\n",
       " 'i',\n",
       " 'i',\n",
       " 'i',\n",
       " 'lord',\n",
       " 'i',\n",
       " 'i',\n",
       " 'i',\n",
       " 'i',\n",
       " 'i',\n",
       " 'i',\n",
       " 'i',\n",
       " 'i',\n",
       " 'lord',\n",
       " 'lord',\n",
       " 'lord',\n",
       " 'i',\n",
       " 'i',\n",
       " 'lord',\n",
       " 'lord',\n",
       " 'lord',\n",
       " 'i',\n",
       " 'i',\n",
       " 'i',\n",
       " 'i',\n",
       " 'i',\n",
       " 'i',\n",
       " 'i',\n",
       " 'i',\n",
       " 'i',\n",
       " 'lord',\n",
       " 'i',\n",
       " 'i',\n",
       " 'i',\n",
       " 'i',\n",
       " 'i',\n",
       " 'i',\n",
       " 'i',\n",
       " 'i',\n",
       " 'i',\n",
       " 'lord',\n",
       " 'i',\n",
       " 'i',\n",
       " 'i',\n",
       " 'i',\n",
       " 'lord',\n",
       " 'i',\n",
       " 'i',\n",
       " 'o',\n",
       " 'i',\n",
       " 'i',\n",
       " 'i',\n",
       " 'i',\n",
       " 'o',\n",
       " 'i',\n",
       " 'i',\n",
       " 'i',\n",
       " 'i',\n",
       " 'lord',\n",
       " 'i',\n",
       " 'lord',\n",
       " 'i',\n",
       " 'i',\n",
       " 'i',\n",
       " 'i',\n",
       " 'i',\n",
       " 'lord',\n",
       " 'i',\n",
       " 'i',\n",
       " 'i',\n",
       " 'lord',\n",
       " 'g',\n",
       " 'i',\n",
       " 'i',\n",
       " 'i',\n",
       " 'i',\n",
       " 'i',\n",
       " 'i',\n",
       " 'i',\n",
       " 'lord',\n",
       " 'lord',\n",
       " 'lord',\n",
       " 'i',\n",
       " 'i',\n",
       " 'i',\n",
       " 'lo',\n",
       " 'i',\n",
       " 'i',\n",
       " 'i',\n",
       " 'i',\n",
       " 'i',\n",
       " 'a',\n",
       " 'i',\n",
       " 'i',\n",
       " 'i',\n",
       " 'i',\n",
       " 'i',\n",
       " 'lord',\n",
       " 'i',\n",
       " 'i',\n",
       " 'i',\n",
       " 'i',\n",
       " 'i',\n",
       " 'i',\n",
       " 'lord',\n",
       " 'i',\n",
       " 'i',\n",
       " 'i',\n",
       " 'lord',\n",
       " 'i',\n",
       " 'i',\n",
       " 'i',\n",
       " 'i',\n",
       " 'i',\n",
       " 'lord',\n",
       " 'i',\n",
       " 'i',\n",
       " 'i',\n",
       " 'i',\n",
       " 'i',\n",
       " 'i',\n",
       " 'i',\n",
       " 'i',\n",
       " 'i',\n",
       " 'i',\n",
       " 'i',\n",
       " 'i',\n",
       " 'i',\n",
       " 'i',\n",
       " 'i',\n",
       " 'i',\n",
       " 'i',\n",
       " 'i',\n",
       " 'i',\n",
       " 'i',\n",
       " 'i',\n",
       " 'lord',\n",
       " 'i',\n",
       " 'i',\n",
       " 'i',\n",
       " 'i',\n",
       " 'i',\n",
       " 'i',\n",
       " 'o',\n",
       " 'lord',\n",
       " 'i',\n",
       " 'i',\n",
       " 'i',\n",
       " 'i',\n",
       " 'i',\n",
       " 'i',\n",
       " 'i',\n",
       " 'i',\n",
       " 'i',\n",
       " 'i',\n",
       " 'i',\n",
       " 'i',\n",
       " 'i',\n",
       " 'i',\n",
       " 'i',\n",
       " 'i',\n",
       " 'i',\n",
       " 'i',\n",
       " 'i',\n",
       " 'i',\n",
       " 'i',\n",
       " 'i',\n",
       " 'i',\n",
       " 'i',\n",
       " 'i',\n",
       " 'i',\n",
       " 'i',\n",
       " 'i',\n",
       " 'i',\n",
       " 'i',\n",
       " 'i',\n",
       " 'i',\n",
       " 'i',\n",
       " 'i',\n",
       " 'i',\n",
       " 'i',\n",
       " 'i',\n",
       " 'i',\n",
       " 'i',\n",
       " 'i',\n",
       " 'i',\n",
       " 'i',\n",
       " 'i',\n",
       " 'i',\n",
       " 'i',\n",
       " 'i',\n",
       " 'i',\n",
       " 'i',\n",
       " 'i',\n",
       " 'lord',\n",
       " 'lord',\n",
       " 'lord',\n",
       " 'i',\n",
       " 'i',\n",
       " 'i',\n",
       " 'i',\n",
       " 'i',\n",
       " 'i',\n",
       " 'i',\n",
       " 'i',\n",
       " 'i',\n",
       " 'lord',\n",
       " 'lord',\n",
       " 'lord',\n",
       " 'lord',\n",
       " 'lord',\n",
       " 'i',\n",
       " 'i',\n",
       " 'i',\n",
       " 'i',\n",
       " 'i',\n",
       " 'lord',\n",
       " 'lord',\n",
       " 'lord',\n",
       " 'i',\n",
       " 'i',\n",
       " 'i',\n",
       " 'i',\n",
       " 'i',\n",
       " 'i',\n",
       " 'i',\n",
       " 'i',\n",
       " 'i',\n",
       " 'i',\n",
       " 'i',\n",
       " 'i',\n",
       " 'i',\n",
       " 'i',\n",
       " 'i',\n",
       " 'i',\n",
       " 'i',\n",
       " 'i',\n",
       " 'i',\n",
       " 'i',\n",
       " 'i',\n",
       " 'i',\n",
       " 'i',\n",
       " 'i',\n",
       " 'g',\n",
       " 'i',\n",
       " 'i',\n",
       " 'i',\n",
       " 'i',\n",
       " 'i',\n",
       " 'i',\n",
       " 'i',\n",
       " 'i',\n",
       " 'i',\n",
       " 'i',\n",
       " 'o',\n",
       " 'i',\n",
       " 'i',\n",
       " 'i',\n",
       " 'i',\n",
       " 'i',\n",
       " 'i',\n",
       " 'i',\n",
       " 'i',\n",
       " 'i',\n",
       " 'i',\n",
       " 'i',\n",
       " 'i',\n",
       " 'i',\n",
       " 'i',\n",
       " 'i',\n",
       " 'i',\n",
       " 'i',\n",
       " 'i',\n",
       " 'i',\n",
       " 'i',\n",
       " 'i',\n",
       " 'i',\n",
       " 'i',\n",
       " 'i',\n",
       " 'i',\n",
       " 'i',\n",
       " 'i',\n",
       " 'i',\n",
       " 'i',\n",
       " 'i',\n",
       " 'i',\n",
       " 'i',\n",
       " 'i',\n",
       " 'i',\n",
       " 'i',\n",
       " 'i',\n",
       " 'i',\n",
       " 'i',\n",
       " 'i',\n",
       " 'i',\n",
       " 'i',\n",
       " 'i',\n",
       " 'i',\n",
       " 'i',\n",
       " 'i',\n",
       " 'i',\n",
       " 'i',\n",
       " 'i',\n",
       " 'o',\n",
       " 'i',\n",
       " 'i',\n",
       " 'o',\n",
       " 'lord',\n",
       " 'i',\n",
       " 'i',\n",
       " 'i',\n",
       " 'i',\n",
       " 'i',\n",
       " 'i',\n",
       " 'i',\n",
       " 'i',\n",
       " 'i',\n",
       " 'i',\n",
       " 'i',\n",
       " 'i']"
      ]
     },
     "execution_count": 50,
     "metadata": {},
     "output_type": "execute_result"
    }
   ],
   "source": [
    "#text3에서 대문자인 단어를 소문자로 추출\n",
    "[word.lower() for word in text3.tokens if word.isupper()]"
   ]
  },
  {
   "cell_type": "markdown",
   "id": "524e9703",
   "metadata": {},
   "source": [
    "### cased, uncased\n",
    "- 변환 : `upper(),lower(),title() -> 앞에만 대문자로,swapcase() #-> 대문자는 소문자 소문자는 대문자`\n",
    "- 형태 체크 : `isupper(), islower(), istitle()`\n",
    "    - `endwith(<string>), startwith()`\n",
    "    - `isalpha():문자인지 아닌지`"
   ]
  },
  {
   "cell_type": "code",
   "execution_count": 51,
   "id": "e5215eb2",
   "metadata": {},
   "outputs": [
    {
     "ename": "AttributeError",
     "evalue": "'str' object has no attribute 'startwith'",
     "output_type": "error",
     "traceback": [
      "\u001b[0;31m---------------------------------------------------------------------------\u001b[0m",
      "\u001b[0;31mAttributeError\u001b[0m                            Traceback (most recent call last)",
      "\u001b[0;32m/var/folders/m_/dw2g6cv578x3b79x2j4mhq_m0000gn/T/ipykernel_26990/3183388178.py\u001b[0m in \u001b[0;36m<module>\u001b[0;34m\u001b[0m\n\u001b[1;32m      2\u001b[0m \u001b[0mresult\u001b[0m \u001b[0;34m=\u001b[0m \u001b[0;34m[\u001b[0m\u001b[0;34m]\u001b[0m\u001b[0;34m\u001b[0m\u001b[0;34m\u001b[0m\u001b[0m\n\u001b[1;32m      3\u001b[0m \u001b[0;32mfor\u001b[0m \u001b[0mtoken\u001b[0m \u001b[0;32min\u001b[0m \u001b[0mtext1\u001b[0m\u001b[0;34m.\u001b[0m\u001b[0mtokens\u001b[0m\u001b[0;34m:\u001b[0m\u001b[0;34m\u001b[0m\u001b[0;34m\u001b[0m\u001b[0m\n\u001b[0;32m----> 4\u001b[0;31m     \u001b[0;32mif\u001b[0m \u001b[0mtoken\u001b[0m\u001b[0;34m.\u001b[0m\u001b[0mstartwith\u001b[0m\u001b[0;34m(\u001b[0m\u001b[0;34m'ableness'\u001b[0m\u001b[0;34m)\u001b[0m\u001b[0;34m:\u001b[0m\u001b[0;34m\u001b[0m\u001b[0;34m\u001b[0m\u001b[0m\n\u001b[0m\u001b[1;32m      5\u001b[0m         \u001b[0mresult\u001b[0m\u001b[0;34m.\u001b[0m\u001b[0mappend\u001b[0m\u001b[0;34m(\u001b[0m\u001b[0mtoken\u001b[0m\u001b[0;34m)\u001b[0m\u001b[0;34m\u001b[0m\u001b[0;34m\u001b[0m\u001b[0m\n\u001b[1;32m      6\u001b[0m \u001b[0msorted\u001b[0m\u001b[0;34m(\u001b[0m\u001b[0mset\u001b[0m\u001b[0;34m(\u001b[0m\u001b[0mresult\u001b[0m\u001b[0;34m)\u001b[0m\u001b[0;34m)\u001b[0m\u001b[0;34m\u001b[0m\u001b[0;34m\u001b[0m\u001b[0m\n",
      "\u001b[0;31mAttributeError\u001b[0m: 'str' object has no attribute 'startwith'"
     ]
    }
   ],
   "source": [
    "#text1에서 ableness로 끝나는 단어를 중복없이 정렬해서\n",
    "result = []\n",
    "for token in text1.tokens:\n",
    "    if token.startswith('ableness'):\n",
    "        result.append(token)\n",
    "sorted(set(result))\n",
    "print(result)"
   ]
  },
  {
   "cell_type": "code",
   "execution_count": null,
   "id": "0ad0270b",
   "metadata": {},
   "outputs": [],
   "source": []
  }
 ],
 "metadata": {
  "kernelspec": {
   "display_name": "Python 3 (ipykernel)",
   "language": "python",
   "name": "python3"
  },
  "language_info": {
   "codemirror_mode": {
    "name": "ipython",
    "version": 3
   },
   "file_extension": ".py",
   "mimetype": "text/x-python",
   "name": "python",
   "nbconvert_exporter": "python",
   "pygments_lexer": "ipython3",
   "version": "3.9.7"
  }
 },
 "nbformat": 4,
 "nbformat_minor": 5
}
