{
 "cells": [
  {
   "cell_type": "markdown",
   "id": "f1bdbe64",
   "metadata": {},
   "source": [
    "# Ch2. Variables"
   ]
  },
  {
   "cell_type": "markdown",
   "id": "2487a310",
   "metadata": {},
   "source": [
    "### 자료형 변환하기\n",
    "* int,str,float,bool"
   ]
  },
  {
   "cell_type": "code",
   "execution_count": 2,
   "id": "c171ef06",
   "metadata": {},
   "outputs": [
    {
     "data": {
      "text/plain": [
       "int"
      ]
     },
     "execution_count": 2,
     "metadata": {},
     "output_type": "execute_result"
    }
   ],
   "source": [
    "a = 10\n",
    "type(a)"
   ]
  },
  {
   "cell_type": "markdown",
   "id": "2d49775d",
   "metadata": {},
   "source": [
    "자료형 변환은 원하는 자료형으로 감싸면 된다."
   ]
  },
  {
   "cell_type": "code",
   "execution_count": 3,
   "id": "bfdd2f6f",
   "metadata": {},
   "outputs": [
    {
     "data": {
      "text/plain": [
       "'10'"
      ]
     },
     "execution_count": 3,
     "metadata": {},
     "output_type": "execute_result"
    }
   ],
   "source": [
    "#int -> str\n",
    "str(a)"
   ]
  },
  {
   "cell_type": "code",
   "execution_count": 4,
   "id": "3f9b3b64",
   "metadata": {},
   "outputs": [
    {
     "data": {
      "text/plain": [
       "True"
      ]
     },
     "execution_count": 4,
     "metadata": {},
     "output_type": "execute_result"
    }
   ],
   "source": [
    "# int->bool\n",
    "bool(10)"
   ]
  },
  {
   "cell_type": "code",
   "execution_count": 5,
   "id": "b7d08345",
   "metadata": {},
   "outputs": [
    {
     "data": {
      "text/plain": [
       "10"
      ]
     },
     "execution_count": 5,
     "metadata": {},
     "output_type": "execute_result"
    }
   ],
   "source": [
    "# float => int:10.6\n",
    "int(10.9)"
   ]
  },
  {
   "cell_type": "markdown",
   "id": "f2e8e693",
   "metadata": {},
   "source": [
    "부동소수점에서는 변환 시 소수점 아래 숫자를 버린다."
   ]
  },
  {
   "cell_type": "code",
   "execution_count": 9,
   "id": "6aff8353",
   "metadata": {},
   "outputs": [
    {
     "name": "stdout",
     "output_type": "stream",
     "text": [
      "12\n",
      "11\n"
     ]
    }
   ],
   "source": [
    "x = 4.6\n",
    "y = 7.9\n",
    "\n",
    "print( int(x + y) )\n",
    "print(int(x)+int(y))"
   ]
  },
  {
   "cell_type": "markdown",
   "id": "6fbaf5e4",
   "metadata": {},
   "source": [
    "```python\n",
    "int(x)+int(y)\n",
    "```가 더 작다. 소수점이 버려지고 나서 더해지기 때문"
   ]
  },
  {
   "cell_type": "code",
   "execution_count": 10,
   "id": "8e642ecd",
   "metadata": {},
   "outputs": [
    {
     "ename": "ValueError",
     "evalue": "invalid literal for int() with base 10: '88.3'",
     "output_type": "error",
     "traceback": [
      "\u001b[0;31m---------------------------------------------------------------------------\u001b[0m",
      "\u001b[0;31mValueError\u001b[0m                                Traceback (most recent call last)",
      "\u001b[0;32m/var/folders/m_/dw2g6cv578x3b79x2j4mhq_m0000gn/T/ipykernel_15736/3664237636.py\u001b[0m in \u001b[0;36m<module>\u001b[0;34m\u001b[0m\n\u001b[1;32m      2\u001b[0m \u001b[0;34m\u001b[0m\u001b[0m\n\u001b[1;32m      3\u001b[0m \u001b[0mp\u001b[0m \u001b[0;34m=\u001b[0m \u001b[0;34m'88.3'\u001b[0m\u001b[0;34m\u001b[0m\u001b[0;34m\u001b[0m\u001b[0m\n\u001b[0;32m----> 4\u001b[0;31m \u001b[0mint\u001b[0m\u001b[0;34m(\u001b[0m\u001b[0mp\u001b[0m\u001b[0;34m)\u001b[0m\u001b[0;34m\u001b[0m\u001b[0;34m\u001b[0m\u001b[0m\n\u001b[0m",
      "\u001b[0;31mValueError\u001b[0m: invalid literal for int() with base 10: '88.3'"
     ]
    }
   ],
   "source": [
    "# str -> int\n",
    "\n",
    "p = '88.3'\n",
    "int(p)"
   ]
  },
  {
   "cell_type": "markdown",
   "id": "507935f5",
   "metadata": {},
   "source": [
    "p = '88.3' 는 정수형 변환이 불가능하다. 바꾸기 위해서는 형태가 맞아야 한다.\n",
    "이는 float 으로는 변환할 수 있다."
   ]
  },
  {
   "cell_type": "code",
   "execution_count": 11,
   "id": "862eec55",
   "metadata": {},
   "outputs": [
    {
     "data": {
      "text/plain": [
       "str"
      ]
     },
     "execution_count": 11,
     "metadata": {},
     "output_type": "execute_result"
    }
   ],
   "source": [
    "# str -> float\n",
    "\n",
    "p = '88.3'\n",
    "float(p)\n",
    "type(p) #변환이 된 것을 볼 수 있다."
   ]
  },
  {
   "cell_type": "markdown",
   "id": "51b8627b",
   "metadata": {},
   "source": [
    "### print 함수"
   ]
  },
  {
   "cell_type": "code",
   "execution_count": 12,
   "id": "8e9657ef",
   "metadata": {
    "scrolled": true
   },
   "outputs": [
    {
     "name": "stdout",
     "output_type": "stream",
     "text": [
      "orange apple tomato\n",
      "the next line\n"
     ]
    }
   ],
   "source": [
    "print('orange','apple','tomato') # 기본값이 서로 띄어쓰기가 됨.\n",
    "print('the next line') #기본적으로 다음 줄로 됨. 엔터 친 것과 같은 효과"
   ]
  },
  {
   "cell_type": "code",
   "execution_count": 4,
   "id": "d6a0293a",
   "metadata": {},
   "outputs": [
    {
     "name": "stdout",
     "output_type": "stream",
     "text": [
      "orangeappletomato\n",
      "orange apple tomato \n",
      "orange_apple_tomato\n",
      "\n",
      "EOL\n"
     ]
    }
   ],
   "source": [
    "orange = 'orange'\n",
    "apple = 'apple'\n",
    "tomato = 'tomato'\n",
    "\n",
    "#1 \n",
    "print(orange+apple+tomato) #띄어쓰기가 사라짐\n",
    "print(orange,apple,tomato,sep=' ',end=' ')#default 기본적으로 띄어쓰기가 되어서 출력된다.\n",
    "print()\n",
    "print(orange,apple,tomato,sep='_',end='\\n\\n')\n",
    "print('EOL')"
   ]
  },
  {
   "cell_type": "code",
   "execution_count": 1,
   "id": "70e4d73d",
   "metadata": {},
   "outputs": [],
   "source": [
    "# 라인이 짧아서 간결하게 표현하고 싶을 때\n",
    "orange = 'orange';apple = 'apple';tomato = 'tomato'"
   ]
  },
  {
   "cell_type": "markdown",
   "id": "ea8f3ca8",
   "metadata": {},
   "source": [
    "## input()\n",
    "\n",
    "* console에서 사용자에게 값을 입력 받는 함수 \n",
    "=> 콘솔이란? 터미널이라고도 부른다. 대개 디스플레이 모니터와 키보드(또는 입력이 가능한 다른 장치)가 조합된 장치\n",
    "* 입출력 관련\n",
    "* 입력 받는 값의 타입은 문자열 -> 필요에 따라서 형변환이 필요함\n",
    "```python\n",
    "a = int(input())\n",
    "```\n",
    "* 입력 받은 값을 변수에 담아서 사용한다."
   ]
  },
  {
   "cell_type": "code",
   "execution_count": 15,
   "id": "a4e83c99",
   "metadata": {},
   "outputs": [
    {
     "name": "stdout",
     "output_type": "stream",
     "text": [
      "what's your name?3\n"
     ]
    },
    {
     "data": {
      "text/plain": [
       "'3'"
      ]
     },
     "execution_count": 15,
     "metadata": {},
     "output_type": "execute_result"
    }
   ],
   "source": [
    "input(\"what's your name?\")"
   ]
  },
  {
   "cell_type": "code",
   "execution_count": 8,
   "id": "7b66425a",
   "metadata": {},
   "outputs": [
    {
     "name": "stdout",
     "output_type": "stream",
     "text": [
      "what's your name?seunghee\n"
     ]
    }
   ],
   "source": [
    "#1.\n",
    "name = input(\"what's your name?\")"
   ]
  },
  {
   "cell_type": "code",
   "execution_count": 9,
   "id": "7fb830e7",
   "metadata": {},
   "outputs": [
    {
     "data": {
      "text/plain": [
       "'seunghee'"
      ]
     },
     "execution_count": 9,
     "metadata": {},
     "output_type": "execute_result"
    }
   ],
   "source": [
    "name"
   ]
  },
  {
   "cell_type": "code",
   "execution_count": 10,
   "id": "308857e7",
   "metadata": {},
   "outputs": [
    {
     "name": "stdout",
     "output_type": "stream",
     "text": [
      "what's your name?\n",
      "seunghee\n"
     ]
    }
   ],
   "source": [
    "#2. \n",
    "print(\"what's your name?\")\n",
    "name = input()"
   ]
  },
  {
   "cell_type": "code",
   "execution_count": 11,
   "id": "97f73b19",
   "metadata": {},
   "outputs": [
    {
     "name": "stdout",
     "output_type": "stream",
     "text": [
      "seunghee\n"
     ]
    }
   ],
   "source": [
    "print(name)"
   ]
  },
  {
   "cell_type": "code",
   "execution_count": 12,
   "id": "74f588de",
   "metadata": {},
   "outputs": [
    {
     "name": "stdout",
     "output_type": "stream",
     "text": [
      "1\n"
     ]
    }
   ],
   "source": [
    "#문자열이 아닌 값을 입력받고자 하는 경우\n",
    "age = input()"
   ]
  },
  {
   "cell_type": "code",
   "execution_count": 13,
   "id": "514ee22d",
   "metadata": {},
   "outputs": [
    {
     "data": {
      "text/plain": [
       "str"
      ]
     },
     "execution_count": 13,
     "metadata": {},
     "output_type": "execute_result"
    }
   ],
   "source": [
    "type(age)"
   ]
  },
  {
   "cell_type": "markdown",
   "id": "55e0a701",
   "metadata": {},
   "source": [
    "string이 아닌 다른 값을 입력받고 싶은 경우에는 형변환을 해주어야 한다."
   ]
  },
  {
   "cell_type": "code",
   "execution_count": 5,
   "id": "0a191362",
   "metadata": {},
   "outputs": [
    {
     "name": "stdout",
     "output_type": "stream",
     "text": [
      "How old are you?13\n"
     ]
    }
   ],
   "source": [
    "age = int(input(\"How old are you?\")) #정수형으로 변환하여 입력을 받음."
   ]
  },
  {
   "cell_type": "code",
   "execution_count": 15,
   "id": "3be77d64",
   "metadata": {},
   "outputs": [
    {
     "data": {
      "text/plain": [
       "int"
      ]
     },
     "execution_count": 15,
     "metadata": {},
     "output_type": "execute_result"
    }
   ],
   "source": [
    "type(age)"
   ]
  },
  {
   "cell_type": "code",
   "execution_count": 7,
   "id": "f3db1ab8",
   "metadata": {},
   "outputs": [
    {
     "name": "stdout",
     "output_type": "stream",
     "text": [
      "How old are you?13\n"
     ]
    },
    {
     "data": {
      "text/plain": [
       "int"
      ]
     },
     "execution_count": 7,
     "metadata": {},
     "output_type": "execute_result"
    }
   ],
   "source": [
    "age = input(\"How old are you?\")\n",
    "age = int(age)\n",
    "type(age) #문자열로 입력받고, 정수형으로 형변환을 해줘도 되는군!"
   ]
  },
  {
   "cell_type": "code",
   "execution_count": 8,
   "id": "16b0cb4b",
   "metadata": {},
   "outputs": [
    {
     "name": "stdout",
     "output_type": "stream",
     "text": [
      "당신이 태어난 해는 2010\n"
     ]
    }
   ],
   "source": [
    "print(\"당신이 태어난 해는\",2022-age+1) #연산이 가능해짐"
   ]
  },
  {
   "cell_type": "markdown",
   "id": "7ee09c0f",
   "metadata": {},
   "source": [
    "### printing"
   ]
  },
  {
   "cell_type": "code",
   "execution_count": 9,
   "id": "e7d046f9",
   "metadata": {},
   "outputs": [
    {
     "name": "stdout",
     "output_type": "stream",
     "text": [
      "당신이 태어난 해는 2010년입니다!\n"
     ]
    }
   ],
   "source": [
    "print(f'당신이 태어난 해는 {2022-age+1}년입니다!') #print(f'(<variable>)')"
   ]
  },
  {
   "cell_type": "markdown",
   "id": "3b42787d",
   "metadata": {},
   "source": [
    "### 파이썬의 문자열 포매팅\n",
    "- f'{} ' 의 형태를 띈다. {} 안에는 변수명 혹은 위와 같은 계산식을 쓸 수 있다.\n",
    "ex) \n",
    "```python\n",
    "age = 13\n",
    "name = '김철수'\n",
    "print(f'{name}은 {age}살이다.')\n",
    "```"
   ]
  },
  {
   "cell_type": "markdown",
   "id": "7681ea83",
   "metadata": {},
   "source": [
    "### Quiz 1\n",
    "- 택배 정보를 입력 받고 무게에 따른 값 산정하기\n",
    "    - 수취인 성명 :\n",
    "    - 수취인 주소 :\n",
    "    - 배송비 : 3000원\n",
    "    - 물건 비용: <계산된 값>원\n",
    "    - 총 합계 : <>원\n",
    "- 총 물건 비용은 무게(g) * 5\n",
    "- 입력 값 = 이름, 주소, 무게"
   ]
  },
  {
   "cell_type": "code",
   "execution_count": 18,
   "id": "9c346f3b",
   "metadata": {
    "scrolled": true
   },
   "outputs": [
    {
     "name": "stdout",
     "output_type": "stream",
     "text": [
      "받는 사람의 이름은?진승희\n",
      "받는 사람의 주소는?서울시 동대문구\n",
      "물건의 무게는?100\n"
     ]
    }
   ],
   "source": [
    "name = input(\"받는 사람의 이름은?\")\n",
    "adress = input(\"받는 사람의 주소는?\")\n",
    "weight = float(input(\"물건의 무게는?\"))\n",
    "deliv_cost = 3000"
   ]
  },
  {
   "cell_type": "code",
   "execution_count": 19,
   "id": "460ff0b3",
   "metadata": {
    "scrolled": true
   },
   "outputs": [
    {
     "name": "stdout",
     "output_type": "stream",
     "text": [
      "수취인 성명 : 진승희\n",
      "수취인 주소 : 서울시 동대문구\n",
      "배송비 : 3000원\n",
      "물건 무게 : 100.0g\n",
      "총 합계 : 3500원\n"
     ]
    }
   ],
   "source": [
    "print(f'수취인 성명 : {name}\\n수취인 주소 : {adress}\\\n",
    "\\n배송비 : {deliv_cost}원\\n물건 무게 : {weight}g\\n총 합계 : {int(weight*5+deliv_cost)}원')"
   ]
  },
  {
   "cell_type": "markdown",
   "id": "dc7c8ab5",
   "metadata": {},
   "source": [
    "## Ch 03. Numbers"
   ]
  },
  {
   "cell_type": "markdown",
   "id": "c97e4916",
   "metadata": {},
   "source": [
    "### boolean\n",
    "- True / False\n",
    "- if 문에서 주로 쓴다. 만약 어떤 값이 True 라면.."
   ]
  },
  {
   "cell_type": "code",
   "execution_count": 20,
   "id": "8fb4c559",
   "metadata": {},
   "outputs": [
    {
     "data": {
      "text/plain": [
       "False"
      ]
     },
     "execution_count": 20,
     "metadata": {},
     "output_type": "execute_result"
    }
   ],
   "source": [
    "bool(0)"
   ]
  },
  {
   "cell_type": "code",
   "execution_count": 21,
   "id": "4e75dc6c",
   "metadata": {},
   "outputs": [
    {
     "data": {
      "text/plain": [
       "False"
      ]
     },
     "execution_count": 21,
     "metadata": {},
     "output_type": "execute_result"
    }
   ],
   "source": [
    "bool('')"
   ]
  },
  {
   "cell_type": "markdown",
   "id": "4f476837",
   "metadata": {},
   "source": [
    "0 혹은 비어 있는 값은 모두 false 이다. (None도 Flase)"
   ]
  },
  {
   "cell_type": "code",
   "execution_count": 10,
   "id": "e1411e4a",
   "metadata": {},
   "outputs": [
    {
     "name": "stdout",
     "output_type": "stream",
     "text": [
      "new\n"
     ]
    }
   ],
   "source": [
    "new = True\n",
    "if new:\n",
    "    print(\"new\")\n",
    "else:\n",
    "    print(\"no\")"
   ]
  },
  {
   "cell_type": "markdown",
   "id": "a01006f2",
   "metadata": {},
   "source": [
    "True인 경우에는 python 의 if 문에서\n",
    "```python\n",
    "if new:\n",
    "```\n",
    "와 같이 사용할 수 있다."
   ]
  },
  {
   "cell_type": "markdown",
   "id": "20070361",
   "metadata": {},
   "source": [
    "### Integer\n",
    "- 분수나 소수가 아닌 정수\n",
    "- 음수는 '-' 기호를 붙인다. -50\n",
    "- default = 양수\n",
    "- 숫자 앞에는 0을 쓰지 못한다. 09 불가능.\n",
    "     - 예외 : 0bxx 와 같이 10진수가 아닌 경우에는 가능.\n",
    "- 숫자 사이에 쉼표를 쓰면 오류 100,000 => 두개의 원소로 취급됨 => 100_000 으로 써야 함.\n",
    "         => 숫자 사이의 언더바는 인식하지 않는다는 의미"
   ]
  },
  {
   "cell_type": "code",
   "execution_count": 22,
   "id": "deed17e8",
   "metadata": {},
   "outputs": [
    {
     "ename": "SyntaxError",
     "evalue": "leading zeros in decimal integer literals are not permitted; use an 0o prefix for octal integers (2890110653.py, line 1)",
     "output_type": "error",
     "traceback": [
      "\u001b[0;36m  File \u001b[0;32m\"/var/folders/m_/dw2g6cv578x3b79x2j4mhq_m0000gn/T/ipykernel_75651/2890110653.py\"\u001b[0;36m, line \u001b[0;32m1\u001b[0m\n\u001b[0;31m    a = 09\u001b[0m\n\u001b[0m         ^\u001b[0m\n\u001b[0;31mSyntaxError\u001b[0m\u001b[0;31m:\u001b[0m leading zeros in decimal integer literals are not permitted; use an 0o prefix for octal integers\n"
     ]
    }
   ],
   "source": [
    "a = 09"
   ]
  },
  {
   "cell_type": "markdown",
   "id": "3e901bd7",
   "metadata": {},
   "source": [
    "숫자 앞에 0을 쓰면 안된다는 예시"
   ]
  },
  {
   "cell_type": "code",
   "execution_count": 23,
   "id": "8ea7d333",
   "metadata": {},
   "outputs": [
    {
     "data": {
      "text/plain": [
       "-1"
      ]
     },
     "execution_count": 23,
     "metadata": {},
     "output_type": "execute_result"
    }
   ],
   "source": [
    "a = -50\n",
    "b = 49\n",
    "a+b"
   ]
  },
  {
   "cell_type": "markdown",
   "id": "31e32898",
   "metadata": {},
   "source": [
    "### operator 연산자\n",
    "- +, -, *, /\n",
    "- 피연산자 | operand: 1, 2, ...\n",
    "- 수식 | expression"
   ]
  },
  {
   "cell_type": "code",
   "execution_count": 24,
   "id": "0fe43ae4",
   "metadata": {},
   "outputs": [
    {
     "data": {
      "text/plain": [
       "6561"
      ]
     },
     "execution_count": 24,
     "metadata": {},
     "output_type": "execute_result"
    }
   ],
   "source": [
    "x = 9\n",
    "y = 4\n",
    "\n",
    "# 연산\n",
    "x + y\n",
    "x - y\n",
    "x * y\n",
    "x / y\n",
    "x ** y #거듭제곱 | exponential"
   ]
  },
  {
   "cell_type": "markdown",
   "id": "f97d0c86",
   "metadata": {},
   "source": [
    "나눗셈의 몫과 나머지"
   ]
  },
  {
   "cell_type": "code",
   "execution_count": 25,
   "id": "8c720a24",
   "metadata": {},
   "outputs": [
    {
     "data": {
      "text/plain": [
       "2.25"
      ]
     },
     "execution_count": 25,
     "metadata": {},
     "output_type": "execute_result"
    }
   ],
   "source": [
    "x / y # 몫과 나머지가 합쳐져서 나옴"
   ]
  },
  {
   "cell_type": "code",
   "execution_count": 26,
   "id": "01770968",
   "metadata": {},
   "outputs": [
    {
     "data": {
      "text/plain": [
       "2"
      ]
     },
     "execution_count": 26,
     "metadata": {},
     "output_type": "execute_result"
    }
   ],
   "source": [
    "x // y # 몫"
   ]
  },
  {
   "cell_type": "code",
   "execution_count": 27,
   "id": "1d14c8ff",
   "metadata": {},
   "outputs": [
    {
     "data": {
      "text/plain": [
       "1"
      ]
     },
     "execution_count": 27,
     "metadata": {},
     "output_type": "execute_result"
    }
   ],
   "source": [
    "x % y # 나머지"
   ]
  },
  {
   "cell_type": "code",
   "execution_count": 28,
   "id": "7e3a77d3",
   "metadata": {},
   "outputs": [
    {
     "data": {
      "text/plain": [
       "(2, 1)"
      ]
     },
     "execution_count": 28,
     "metadata": {},
     "output_type": "execute_result"
    }
   ],
   "source": [
    "divmod(x,y) # 몫과 나머지가 튜플로 반환된다."
   ]
  },
  {
   "cell_type": "markdown",
   "id": "a6c70f42",
   "metadata": {},
   "source": [
    "#### division by zero (0으로 나누면 오류난다.) 항상 유의할 것."
   ]
  },
  {
   "cell_type": "markdown",
   "id": "37d52e59",
   "metadata": {},
   "source": [
    "복합 대입 연산자 | compound assignment operator"
   ]
  },
  {
   "cell_type": "code",
   "execution_count": 12,
   "id": "0ef26106",
   "metadata": {},
   "outputs": [
    {
     "ename": "ZeroDivisionError",
     "evalue": "division by zero",
     "output_type": "error",
     "traceback": [
      "\u001b[0;31m---------------------------------------------------------------------------\u001b[0m",
      "\u001b[0;31mZeroDivisionError\u001b[0m                         Traceback (most recent call last)",
      "\u001b[0;32m/var/folders/m_/dw2g6cv578x3b79x2j4mhq_m0000gn/T/ipykernel_89687/859366231.py\u001b[0m in \u001b[0;36m<module>\u001b[0;34m\u001b[0m\n\u001b[0;32m----> 1\u001b[0;31m \u001b[0mx\u001b[0m \u001b[0;34m=\u001b[0m \u001b[0;36m3\u001b[0m\u001b[0;34m/\u001b[0m\u001b[0;36m0\u001b[0m \u001b[0;31m#아래와 같은 zerodivisionError 발생!\u001b[0m\u001b[0;34m\u001b[0m\u001b[0;34m\u001b[0m\u001b[0m\n\u001b[0m",
      "\u001b[0;31mZeroDivisionError\u001b[0m: division by zero"
     ]
    }
   ],
   "source": [
    "x = 3/0 #아래와 같은 zerodivisionError 발생!"
   ]
  },
  {
   "cell_type": "code",
   "execution_count": 29,
   "id": "5b0170ab",
   "metadata": {},
   "outputs": [
    {
     "name": "stdout",
     "output_type": "stream",
     "text": [
      "5\n"
     ]
    }
   ],
   "source": [
    "x = 5\n",
    "x - 3 # 할당을 해주지 않음.\n",
    "print(x)"
   ]
  },
  {
   "cell_type": "code",
   "execution_count": 30,
   "id": "4814280f",
   "metadata": {},
   "outputs": [
    {
     "name": "stdout",
     "output_type": "stream",
     "text": [
      "2\n"
     ]
    }
   ],
   "source": [
    "x = x-3\n",
    "print(x)"
   ]
  },
  {
   "cell_type": "markdown",
   "id": "b56ce942",
   "metadata": {},
   "source": [
    "계산 -> 임시 변수에 담기 -> 이를 할당해줌"
   ]
  },
  {
   "cell_type": "markdown",
   "id": "4010a054",
   "metadata": {},
   "source": [
    "x - 3 -> temp = x - 3  -> x = temp"
   ]
  },
  {
   "cell_type": "code",
   "execution_count": 13,
   "id": "11c9b178",
   "metadata": {},
   "outputs": [],
   "source": [
    "#옮겨보기\n",
    "a = 3\n",
    "b = 6"
   ]
  },
  {
   "cell_type": "code",
   "execution_count": 14,
   "id": "5c2ccbcf",
   "metadata": {},
   "outputs": [
    {
     "data": {
      "text/plain": [
       "(6, 3)"
      ]
     },
     "execution_count": 14,
     "metadata": {},
     "output_type": "execute_result"
    }
   ],
   "source": [
    "temp = a\n",
    "a = b\n",
    "b = temp #temp 를 이용하여 두 숫자를 바꿀 수 있다.\n",
    "a,b"
   ]
  },
  {
   "cell_type": "code",
   "execution_count": 31,
   "id": "6781066e",
   "metadata": {},
   "outputs": [],
   "source": [
    "x += 3\n",
    "x -= 3\n",
    "x *= 3\n",
    "x /= 3"
   ]
  },
  {
   "cell_type": "markdown",
   "id": "5892692a",
   "metadata": {},
   "source": [
    "### Quiz 1.\n",
    "- 반지름을 입력 받아서 원의 면적 구하기\n",
    "- 반지름은 pi * r제곱"
   ]
  },
  {
   "cell_type": "code",
   "execution_count": 32,
   "id": "20fb19b1",
   "metadata": {},
   "outputs": [
    {
     "name": "stdout",
     "output_type": "stream",
     "text": [
      "3\n",
      "원의 넓이는 28.274333882308138 입니다.\n"
     ]
    }
   ],
   "source": [
    "from math import pi\n",
    "\n",
    "r = int(input())\n",
    "result = r**2*pi\n",
    "print(f'원의 넓이는 {result} 입니다.')"
   ]
  },
  {
   "cell_type": "markdown",
   "id": "1c9341d0",
   "metadata": {},
   "source": [
    "### Quiz 2.\n",
    "- 숫자를 입력 받고 3의 배수인지 확인하기"
   ]
  },
  {
   "cell_type": "code",
   "execution_count": 33,
   "id": "7cd749fe",
   "metadata": {},
   "outputs": [
    {
     "name": "stdout",
     "output_type": "stream",
     "text": [
      "30\n",
      "True\n",
      "30은 3의 배수입니다.\n"
     ]
    }
   ],
   "source": [
    "num = int(input())\n",
    "print(not bool(num%3))\n",
    "if num%3==0:\n",
    "    print(f'{num}은 3의 배수입니다.')\n",
    "else:\n",
    "    print(f'{num}은 3의 배수가 아닙니다.')"
   ]
  },
  {
   "cell_type": "code",
   "execution_count": 34,
   "id": "a5451c97",
   "metadata": {},
   "outputs": [
    {
     "name": "stdout",
     "output_type": "stream",
     "text": [
      "3\n",
      "3은 짝수가 아닙니다.\n"
     ]
    }
   ],
   "source": [
    "num = int(input())\n",
    "if num%2==0:\n",
    "    print(f'{num}은 짝수입니다.')\n",
    "else:\n",
    "    print(f'{num}은 짝수가 아닙니다.')"
   ]
  },
  {
   "cell_type": "markdown",
   "id": "aa207958",
   "metadata": {},
   "source": [
    "### 지수 표현\n",
    "- 예: '1.0e-4'\n",
    "- e의 앞부분은 소수, 정수 둘 다 됨.\n",
    "- 뒷부분은 정수여야 함.\n",
    "- 뒷부분이 음수면 소수점 자리수를 의미함.\n",
    "- e, E"
   ]
  },
  {
   "cell_type": "code",
   "execution_count": 35,
   "id": "cee00fcb",
   "metadata": {},
   "outputs": [
    {
     "data": {
      "text/plain": [
       "0.0001"
      ]
     },
     "execution_count": 35,
     "metadata": {},
     "output_type": "execute_result"
    }
   ],
   "source": [
    "1.0e-4"
   ]
  },
  {
   "cell_type": "code",
   "execution_count": 36,
   "id": "68e955bd",
   "metadata": {},
   "outputs": [
    {
     "data": {
      "text/plain": [
       "0.0004005"
      ]
     },
     "execution_count": 36,
     "metadata": {},
     "output_type": "execute_result"
    }
   ],
   "source": [
    "4005.0e-7"
   ]
  },
  {
   "cell_type": "markdown",
   "id": "dafccd4b",
   "metadata": {},
   "source": [
    "### 연습문제\n",
    "- 3.1 1시간은 몇 초인가? 대화식 인터프리터를 계산기로 사용해서 1시간(60분)에 1분(60초)을 곱하기\n",
    "- 3.2 계산한 결과를 seconds_per_hour 변수에 저장\n",
    "- 3.3 1일은 몇 초인가? seconds_per_hour 변수를 사용\n",
    "- 3.4 계산한 결과를 seconds_per_day 변수에 저장\n",
    "- 3.5 부동소수점(/) 나눗셈을 사용해서 seconds_per_day를 seconds_per_hour로 나누기\n",
    "- 3.6 정수(//) 나눗셈을 사용해서 seconds_per_day를 seconds_per_hour로 나누기. 3.5 문제 결과에서 본\n",
    ".0 부분을 제외하고 결과가 같은가?"
   ]
  },
  {
   "cell_type": "code",
   "execution_count": 37,
   "id": "b899fda5",
   "metadata": {},
   "outputs": [
    {
     "name": "stdout",
     "output_type": "stream",
     "text": [
      "24.0\n",
      "24\n"
     ]
    }
   ],
   "source": [
    "seconds_per_hour = 60*60\n",
    "seconds_per_day = seconds_per_hour*24\n",
    "result1 = seconds_per_day/seconds_per_hour\n",
    "print(result1)\n",
    "result2 = seconds_per_day//seconds_per_hour\n",
    "print(result2)"
   ]
  },
  {
   "cell_type": "markdown",
   "id": "b9538be9",
   "metadata": {},
   "source": [
    "result1과 result2는 다르다. result2는 정수 나눗셈을 하는 것이므로 부동소수점 나눗셈과는 결과가 다르다."
   ]
  },
  {
   "cell_type": "markdown",
   "id": "b18af350",
   "metadata": {},
   "source": [
    "## IF 조건문"
   ]
  },
  {
   "cell_type": "markdown",
   "id": "af315193",
   "metadata": {},
   "source": [
    "### 코드 짜는 팁\n",
    "- 주석 달기\n",
    "    - #해시, 샵\n",
    "    - 시작 지정부터 라인 끝까지 주석 처리됨.\n",
    "    - \"\"\" \"\"\" 주석이 긴 경우\n",
    "    - 코드에 대한 설명은 최대한 하지 않는다. 의도를 나타내기 위해서, 오류가 있다거나 ...\n",
    "- 라인 유지하기\n",
    "    - 들여쓰기 (default space 4, tab 이용)\n",
    "    - 논리구조를 나타내기 때문에 중요하다\n",
    "    - 한 라인이 너무 길어지면 (80자 정도) 백슬래시로 라인을 분리해준다."
   ]
  },
  {
   "cell_type": "code",
   "execution_count": 38,
   "id": "ac9cf6c9",
   "metadata": {},
   "outputs": [
    {
     "name": "stdout",
     "output_type": "stream",
     "text": [
      "3\n"
     ]
    }
   ],
   "source": [
    "#주석입니다.\n",
    "\"\"\"\n",
    "주석1\n",
    "\"\"\"\n",
    "a = 3\n",
    "print(a)"
   ]
  },
  {
   "cell_type": "code",
   "execution_count": 39,
   "id": "04ff8f4c",
   "metadata": {},
   "outputs": [
    {
     "name": "stdout",
     "output_type": "stream",
     "text": [
      "hey, there #\n"
     ]
    }
   ],
   "source": [
    "print('hey, there #') #문장 안에 있으면 #을 그냥 문자로 인식"
   ]
  },
  {
   "cell_type": "markdown",
   "id": "3425ef73",
   "metadata": {},
   "source": [
    "### if\n",
    "if <조건식>:<br>\n",
    "    <실행할 코드>"
   ]
  },
  {
   "cell_type": "code",
   "execution_count": 40,
   "id": "7a9cd5d2",
   "metadata": {},
   "outputs": [
    {
     "name": "stdout",
     "output_type": "stream",
     "text": [
      "두 수는 같지 않다\n"
     ]
    }
   ],
   "source": [
    "if 3!=1:\n",
    "    print(\"두 수는 같지 않다\")"
   ]
  },
  {
   "cell_type": "markdown",
   "id": "502d896f",
   "metadata": {},
   "source": [
    "- if-else\n",
    "if <조건식>:<br>\n",
    "<실행할 코드1><br>\n",
    "else:<br>\n",
    "<실행할 코드2>"
   ]
  },
  {
   "cell_type": "code",
   "execution_count": 41,
   "id": "fdd20838",
   "metadata": {},
   "outputs": [
    {
     "name": "stdout",
     "output_type": "stream",
     "text": [
      "두 수는 같지 않다\n"
     ]
    }
   ],
   "source": [
    "if 3!=1:\n",
    "    print(\"두 수는 같지 않다\")\n",
    "else:\n",
    "    print(\"두 수는 같다\")"
   ]
  },
  {
   "cell_type": "markdown",
   "id": "0c069f24",
   "metadata": {},
   "source": [
    "- if-elif-else\n",
    "if <조건식>:<br>\n",
    "<실행할 코드1><br>\n",
    "elif <조건식>:<br>\n",
    "<실행할 코드1><br>\n",
    "else:<br>\n",
    "<실행할 코드2>"
   ]
  },
  {
   "cell_type": "code",
   "execution_count": 42,
   "id": "d16412d8",
   "metadata": {},
   "outputs": [
    {
     "name": "stdout",
     "output_type": "stream",
     "text": [
      "3보다 크다\n"
     ]
    }
   ],
   "source": [
    "a = 4\n",
    "if a<3:\n",
    "    print(\"3보다 작다\")\n",
    "elif a==3:\n",
    "    print(\"3이다\")\n",
    "else:\n",
    "    print(\"3보다 크다\")"
   ]
  },
  {
   "cell_type": "markdown",
   "id": "246b988a",
   "metadata": {},
   "source": [
    "### 비교연산자\n",
    "- x < y\n",
    "- x > y\n",
    "- x >= y\n",
    "- x <= y\n",
    "- x == y -> 값만 동일\n",
    "- x!= y\n",
    "- x is y -> 값, 메모리 주소 모두 동일\n",
    "- x is not y"
   ]
  },
  {
   "cell_type": "markdown",
   "id": "c1967652",
   "metadata": {},
   "source": [
    "### 퀴즈\n",
    "\n",
    "- 1. 시험 점수를 입력 받고, 80점 이상이면 True, False 반환하기\n",
    "- 2. 시험 점수를 입력 받고, 95점 이상 A+, 90점 이상 A, 85점이상 B+, 나머지 F"
   ]
  },
  {
   "cell_type": "code",
   "execution_count": 44,
   "id": "e06f1dae",
   "metadata": {},
   "outputs": [
    {
     "name": "stdout",
     "output_type": "stream",
     "text": [
      "80\n",
      "True\n"
     ]
    }
   ],
   "source": [
    "score = int(input())\n",
    "print(score>=80)"
   ]
  },
  {
   "cell_type": "code",
   "execution_count": 45,
   "id": "9d3aa11b",
   "metadata": {},
   "outputs": [
    {
     "name": "stdout",
     "output_type": "stream",
     "text": [
      "90\n",
      "A\n"
     ]
    }
   ],
   "source": [
    "score = int(input())\n",
    "if score>=95:\n",
    "    print(\"A+\")\n",
    "elif score>=90:\n",
    "    print(\"A\") \n",
    "elif score>=85:\n",
    "    print(\"B+\")\n",
    "else:\n",
    "    print(\"F\")"
   ]
  }
 ],
 "metadata": {
  "kernelspec": {
   "display_name": "Python 3 (ipykernel)",
   "language": "python",
   "name": "python3"
  },
  "language_info": {
   "codemirror_mode": {
    "name": "ipython",
    "version": 3
   },
   "file_extension": ".py",
   "mimetype": "text/x-python",
   "name": "python",
   "nbconvert_exporter": "python",
   "pygments_lexer": "ipython3",
   "version": "3.9.7"
  }
 },
 "nbformat": 4,
 "nbformat_minor": 5
}
